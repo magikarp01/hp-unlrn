{
 "cells": [
  {
   "cell_type": "markdown",
   "metadata": {},
   "source": [
    "# Notebook for working with model latents\n",
    "For doing probing, steering, LEACEing model"
   ]
  },
  {
   "cell_type": "code",
   "execution_count": 1,
   "metadata": {},
   "outputs": [],
   "source": [
    "%load_ext autoreload\n",
    "%autoreload 2\n",
    "import numpy as np\n",
    "import matplotlib.pyplot as plt\n",
    "import transformers\n",
    "import datasets\n",
    "import torch\n",
    "import pandas as pd\n",
    "from tqdm import tqdm\n",
    "from tasks import HPTriviaTask\n",
    "from transformers import AutoTokenizer, AutoModelForCausalLM\n",
    "from transformer_lens import HookedTransformer, utils\n",
    "import einops"
   ]
  },
  {
   "cell_type": "code",
   "execution_count": 2,
   "metadata": {},
   "outputs": [
    {
     "data": {
      "application/vnd.jupyter.widget-view+json": {
       "model_id": "c3f57f67e6fe4c5fb3f08940622a98c7",
       "version_major": 2,
       "version_minor": 0
      },
      "text/plain": [
       "Loading checkpoint shards:   0%|          | 0/2 [00:00<?, ?it/s]"
      ]
     },
     "metadata": {},
     "output_type": "display_data"
    }
   ],
   "source": [
    "# download this huggingface model https://huggingface.co/microsoft/Llama2-7b-WhoIsHarryPotter\n",
    "\n",
    "# might need to adapt to quantize for 24gb 3090, or remove .cuda()\n",
    "hp_model = AutoModelForCausalLM.from_pretrained(\"microsoft/Llama2-7b-WhoIsHarryPotter\")\n",
    "llama_model = AutoModelForCausalLM.from_pretrained(\"meta-llama/Llama-2-7b-chat-hf\")\n",
    "tokenizer = AutoTokenizer.from_pretrained(\"meta-llama/Llama-2-7b-chat-hf\")\n",
    "tokenizer.pad_token = tokenizer.eos_token"
   ]
  },
  {
   "cell_type": "code",
   "execution_count": 3,
   "metadata": {},
   "outputs": [
    {
     "name": "stderr",
     "output_type": "stream",
     "text": [
      "WARNING:root:Cannot fold in layer norm, normalization_type is not LN.\n",
      "WARNING:root:You are not using LayerNorm, so the layer norm weights can't be folded! Skipping\n",
      "WARNING:root:You are not using LayerNorm, so the writing weights can't be centered! Skipping\n",
      "WARNING:root:Cannot fold in layer norm, normalization_type is not LN.\n"
     ]
    },
    {
     "name": "stdout",
     "output_type": "stream",
     "text": [
      "Loaded pretrained model meta-llama/Llama-2-7b-chat-hf into HookedTransformer\n"
     ]
    },
    {
     "name": "stderr",
     "output_type": "stream",
     "text": [
      "WARNING:root:You are not using LayerNorm, so the layer norm weights can't be folded! Skipping\n",
      "WARNING:root:You are not using LayerNorm, so the writing weights can't be centered! Skipping\n"
     ]
    },
    {
     "name": "stdout",
     "output_type": "stream",
     "text": [
      "Loaded pretrained model meta-llama/Llama-2-7b-chat-hf into HookedTransformer\n"
     ]
    }
   ],
   "source": [
    "# load HookedTransformer\n",
    "# might need to adapt to quantize for 24gb 3090, or remove .cuda()\n",
    "tl_llama = HookedTransformer.from_pretrained(\"meta-llama/Llama-2-7b-chat-hf\", hf_model=llama_model, device=\"cuda\", tokenizer=tokenizer)\n",
    "tl_hp_model = HookedTransformer.from_pretrained(\"meta-llama/Llama-2-7b-chat-hf\", hf_model=hp_model, device=\"cuda\", tokenizer=tokenizer)"
   ]
  },
  {
   "cell_type": "code",
   "execution_count": 4,
   "metadata": {},
   "outputs": [
    {
     "name": "stderr",
     "output_type": "stream",
     "text": [
      "Asking to truncate to max_length but no maximum length is provided and the model has no predefined maximum length. Default to no truncation.\n"
     ]
    },
    {
     "name": "stdout",
     "output_type": "stream",
     "text": [
      "432\n",
      "100\n"
     ]
    },
    {
     "data": {
      "text/plain": [
       "dict_keys(['blocks.0.hook_resid_post', 'blocks.1.hook_resid_post', 'blocks.2.hook_resid_post', 'blocks.3.hook_resid_post', 'blocks.4.hook_resid_post', 'blocks.5.hook_resid_post', 'blocks.6.hook_resid_post', 'blocks.7.hook_resid_post', 'blocks.8.hook_resid_post', 'blocks.9.hook_resid_post', 'blocks.10.hook_resid_post', 'blocks.11.hook_resid_post', 'blocks.12.hook_resid_post', 'blocks.13.hook_resid_post', 'blocks.14.hook_resid_post', 'blocks.15.hook_resid_post', 'blocks.16.hook_resid_post', 'blocks.17.hook_resid_post', 'blocks.18.hook_resid_post', 'blocks.19.hook_resid_post', 'blocks.20.hook_resid_post', 'blocks.21.hook_resid_post', 'blocks.22.hook_resid_post', 'blocks.23.hook_resid_post', 'blocks.24.hook_resid_post', 'blocks.25.hook_resid_post', 'blocks.26.hook_resid_post', 'blocks.27.hook_resid_post', 'blocks.28.hook_resid_post', 'blocks.29.hook_resid_post', 'blocks.30.hook_resid_post', 'blocks.31.hook_resid_post'])"
      ]
     },
     "execution_count": 4,
     "metadata": {},
     "output_type": "execute_result"
    }
   ],
   "source": [
    "hp = HPTriviaTask(batch_size=1, tokenizer=tokenizer, device='cuda', chat_model=True, randomize_answers=True)\n",
    "sample_batch = hp.get_batch(train=True)\n",
    "sample_tokens = tokenizer(sample_batch[\"prompt\"], padding='longest', truncation=True, return_tensors=\"pt\").input_ids.cuda()\n",
    "with torch.no_grad():\n",
    "    _, sample_cache = tl_llama.run_with_cache(sample_tokens, names_filter=lambda name: \"resid_post\" in name)\n",
    "sample_cache.keys()"
   ]
  },
  {
   "cell_type": "code",
   "execution_count": 5,
   "metadata": {},
   "outputs": [
    {
     "name": "stdout",
     "output_type": "stream",
     "text": [
      "<s><<SYS>>\n",
      "You are a helpful, respectful and honest assistant. Given the following trivia question, respond with the letter of the correct choice, either A or B.\n",
      "<</SYS>>\n",
      "\n",
      "[INST] What is the name of the Goblin who helps Harry access his vault at Gringotts? A: Griphook. B: John Smith. [/INST] Answer:\n"
     ]
    }
   ],
   "source": [
    "print(sample_batch['prompt'][0])"
   ]
  },
  {
   "cell_type": "code",
   "execution_count": 6,
   "metadata": {},
   "outputs": [
    {
     "name": "stdout",
     "output_type": "stream",
     "text": [
      "432\n",
      "100\n",
      "0.921875\n",
      "0.76875\n"
     ]
    }
   ],
   "source": [
    "hp_test = HPTriviaTask(batch_size=16, tokenizer=tokenizer, device='cuda', chat_model=True, randomize_answers=True)\n",
    "hp_llama_acc = hp_test.get_test_accuracy(tl_llama, use_test_data=False, n_iters=10)\n",
    "hp_hp_acc = hp_test.get_test_accuracy(tl_hp_model, use_test_data=False, n_iters=10)\n",
    "print(hp_llama_acc)\n",
    "print(hp_hp_acc)"
   ]
  },
  {
   "cell_type": "code",
   "execution_count": 7,
   "metadata": {},
   "outputs": [
    {
     "name": "stdout",
     "output_type": "stream",
     "text": [
      "502\n",
      "200\n",
      "0.725\n",
      "0.70625\n"
     ]
    }
   ],
   "source": [
    "hp_test_old = HPTriviaTask(batch_size=16, tokenizer=tokenizer, device='cuda', chat_model=True, randomize_answers=True, train_data_location=\"tasks/hp/data/hp_trivia_train_OLD.jsonl\", test_data_location=\"tasks/hp/data/hp_trivia_test_OLD.jsonl\")\n",
    "hp_old_llama_acc = hp_test_old.get_test_accuracy(tl_llama, use_test_data=False, n_iters=10)\n",
    "print(hp_old_llama_acc)\n",
    "hp_old_hp_acc = hp_test_old.get_test_accuracy(tl_hp_model, use_test_data=False, n_iters=10)\n",
    "print(hp_old_hp_acc)"
   ]
  },
  {
   "cell_type": "markdown",
   "metadata": {},
   "source": [
    "## Probing"
   ]
  },
  {
   "cell_type": "code",
   "execution_count": 8,
   "metadata": {},
   "outputs": [
    {
     "name": "stdout",
     "output_type": "stream",
     "text": [
      "432\n",
      "100\n"
     ]
    },
    {
     "name": "stderr",
     "output_type": "stream",
     "text": [
      "100%|██████████| 432/432 [01:44<00:00,  4.15it/s]\n",
      "100%|██████████| 100/100 [00:24<00:00,  4.05it/s]\n"
     ]
    }
   ],
   "source": [
    "use_old_data = False\n",
    "if use_old_data:\n",
    "    hp = HPTriviaTask(batch_size=1, tokenizer=tokenizer, device='cuda', chat_model=True, randomize_answers=True, train_data_location=\"tasks/hp/data/hp_trivia_train_OLD.jsonl\", test_data_location=\"tasks/hp/data/hp_trivia_test_OLD.jsonl\")\n",
    "else:\n",
    "    hp = HPTriviaTask(batch_size=1, tokenizer=tokenizer, device='cuda', chat_model=True, randomize_answers=True)\n",
    "\n",
    "from collections import defaultdict\n",
    "# Cache residual stream\n",
    "def resid_cache_hook(pattern, hook, layer, resid_cache):\n",
    "    # assume all sequences of same length since want to cache last position\n",
    "    # pattern of shape (batch, seq_len, hidden_size)\n",
    "    resid_cache[layer].append(pattern[:, -1].cpu())\n",
    "\n",
    "llama_train_resid_cache = defaultdict(list)\n",
    "hp_train_resid_cache = defaultdict(list)\n",
    "train_answers = []\n",
    "\n",
    "llama_hook_fns = []\n",
    "hp_hook_fns = []\n",
    "resid_post_filter = lambda name: \"resid_post\" in name\n",
    "\n",
    "num_train = len(hp.train_prompts)\n",
    "for i in tqdm(range(num_train)):\n",
    "    sample_batch = hp.get_batch(train=True)\n",
    "    sample_tokens = tokenizer(sample_batch[\"prompt\"], padding='longest', truncation=True, return_tensors=\"pt\").input_ids.cuda()\n",
    "\n",
    "    # first, run through llama\n",
    "    with torch.no_grad():\n",
    "        _, cache = tl_llama.run_with_cache(sample_tokens, names_filter=resid_post_filter)\n",
    "        for i in range(tl_llama.cfg.n_layers):\n",
    "            llama_train_resid_cache[i].append(cache[utils.get_act_name(\"resid_post\", layer=i)][:,-1].cpu())\n",
    "    # then, run through hp\n",
    "    with torch.no_grad():\n",
    "        _, cache = tl_hp_model.run_with_cache(sample_tokens, names_filter=resid_post_filter)\n",
    "        for i in range(tl_hp_model.cfg.n_layers):\n",
    "            hp_train_resid_cache[i].append(cache[utils.get_act_name(\"resid_post\", layer=i)][:,-1].cpu())\n",
    "    train_answers.append(sample_batch[\"answer\"][0])\n",
    "\n",
    "num_test = len(hp.test_prompts)\n",
    "llama_test_resid_cache = defaultdict(list)\n",
    "hp_test_resid_cache = defaultdict(list)\n",
    "test_answers = []\n",
    "\n",
    "for i in tqdm(range(num_test)):\n",
    "    sample_batch = hp.get_batch(train=False)\n",
    "    sample_tokens = tokenizer(sample_batch[\"prompt\"], padding='longest', truncation=True, return_tensors=\"pt\").input_ids.cuda()\n",
    "\n",
    "    # first, run through llama\n",
    "    with torch.no_grad():\n",
    "        _, cache = tl_llama.run_with_cache(sample_tokens, names_filter=resid_post_filter)\n",
    "        for i in range(tl_llama.cfg.n_layers):\n",
    "            llama_test_resid_cache[i].append(cache[utils.get_act_name(\"resid_post\", layer=i)][:,-1].cpu())\n",
    "    # then, run through hp\n",
    "    with torch.no_grad():\n",
    "        _, cache = tl_hp_model.run_with_cache(sample_tokens, names_filter=resid_post_filter)\n",
    "        for i in range(tl_hp_model.cfg.n_layers):\n",
    "            hp_test_resid_cache[i].append(cache[utils.get_act_name(\"resid_post\", layer=i)][:,-1].cpu())\n",
    "    test_answers.append(sample_batch[\"answer\"][0])\n",
    "\n",
    "for layer in range(tl_llama.cfg.n_layers):\n",
    "    llama_train_resid_cache[layer] = torch.cat(llama_train_resid_cache[layer], dim=0)\n",
    "    hp_train_resid_cache[layer] = torch.cat(hp_train_resid_cache[layer], dim=0)\n",
    "    llama_test_resid_cache[layer] = torch.cat(llama_test_resid_cache[layer], dim=0)\n",
    "    hp_test_resid_cache[layer] = torch.cat(hp_test_resid_cache[layer], dim=0)\n",
    "train_labels = torch.Tensor([1 if ans == \"A\" else 0 for ans in train_answers])\n",
    "test_labels = torch.Tensor([1 if ans == \"A\" else 0 for ans in test_answers])"
   ]
  },
  {
   "cell_type": "code",
   "execution_count": 9,
   "metadata": {},
   "outputs": [
    {
     "name": "stderr",
     "output_type": "stream",
     "text": [
      "100%|██████████| 32/32 [00:06<00:00,  4.93it/s]\n"
     ]
    }
   ],
   "source": [
    "from sklearn.linear_model import LogisticRegression\n",
    "llama_probes = []\n",
    "hp_probes = []\n",
    "for layer in tqdm(range(tl_llama.cfg.n_layers)):\n",
    "    llama_probe = LogisticRegression(max_iter=10000).fit(llama_train_resid_cache[layer], train_labels)\n",
    "    hp_probe = LogisticRegression(max_iter=10000).fit(hp_train_resid_cache[layer], train_labels)\n",
    "    llama_probes.append(llama_probe)\n",
    "    hp_probes.append(hp_probe)"
   ]
  },
  {
   "cell_type": "code",
   "execution_count": 10,
   "metadata": {},
   "outputs": [],
   "source": [
    "# get accuracies\n",
    "llama_train_accs = []\n",
    "hp_train_accs = []\n",
    "llama_test_accs = []\n",
    "hp_test_accs = []\n",
    "for layer in range(tl_llama.cfg.n_layers):\n",
    "    llama_train_accs.append(llama_probes[layer].score(llama_train_resid_cache[layer], train_labels))\n",
    "    hp_train_accs.append(hp_probes[layer].score(hp_train_resid_cache[layer], train_labels))\n",
    "    llama_test_accs.append(llama_probes[layer].score(llama_test_resid_cache[layer], test_labels))\n",
    "    hp_test_accs.append(hp_probes[layer].score(hp_test_resid_cache[layer], test_labels))"
   ]
  },
  {
   "cell_type": "code",
   "execution_count": 11,
   "metadata": {},
   "outputs": [
    {
     "data": {
      "image/png": "[encoded data removed]",
      "text/plain": [
       "<Figure size 640x480 with 1 Axes>"
      ]
     },
     "metadata": {},
     "output_type": "display_data"
    }
   ],
   "source": [
    "import matplotlib.pyplot as plt\n",
    "plt.plot(llama_train_accs, label=\"llama train\")\n",
    "plt.plot(hp_train_accs, label=\"hp train\")\n",
    "plt.plot(llama_test_accs, label=\"llama test\")\n",
    "plt.plot(hp_test_accs, label=\"hp test\")\n",
    "plt.axhline(y=hp_old_llama_acc if use_old_data else hp_llama_acc\n",
    "            , color='brown', linestyle='-', label=\"llama response accuracy\")\n",
    "plt.axhline(y=hp_old_hp_acc if use_old_data else hp_hp_acc\n",
    "            , color='cyan', linestyle='-', label=\"hp response accuracy\")\n",
    "plt.legend()\n",
    "plt.xlabel(\"Layer\")\n",
    "plt.ylabel(\"Accuracy\")\n",
    "data_type = \"Old\" if use_old_data else \"New\"\n",
    "plt.title(f\"Logistic Regression Probe Accuracy on {data_type} Data\")\n",
    "plt.show()"
   ]
  },
  {
   "cell_type": "markdown",
   "metadata": {},
   "source": [
    "## LEACE"
   ]
  },
  {
   "cell_type": "code",
   "execution_count": 12,
   "metadata": {},
   "outputs": [
    {
     "name": "stderr",
     "output_type": "stream",
     "text": [
      "100%|██████████| 32/32 [03:06<00:00,  5.82s/it]\n"
     ]
    }
   ],
   "source": [
    "from concept_erasure import LeaceEraser\n",
    "erasers = []\n",
    "erased_train_resid_cache = defaultdict(list)\n",
    "erased_test_resid_cache = defaultdict(list)\n",
    "for layer in tqdm(range(tl_llama.cfg.n_layers)):\n",
    "    eraser = LeaceEraser.fit(llama_train_resid_cache[layer], train_labels)\n",
    "    erasers.append(eraser)\n",
    "    erased_train_resid_cache[layer] = eraser(llama_train_resid_cache[layer])\n",
    "    erased_test_resid_cache[layer] = eraser(llama_test_resid_cache[layer])\n",
    "    \n",
    "    check_probe = LogisticRegression(max_iter=10000).fit(erased_train_resid_cache[layer], train_labels)\n",
    "    print(f\"Train accuracy for layer {layer}: {check_probe.score(erased_train_resid_cache[layer], train_labels)}, {check_probe.coef_}\")"
   ]
  },
  {
   "cell_type": "code",
   "execution_count": 17,
   "metadata": {},
   "outputs": [
    {
     "name": "stdout",
     "output_type": "stream",
     "text": [
      "Train accuracy for layer 0: 0.5300925925925926, -6.492677558388337e-08\n",
      "Test accuracy for layer 0: 0.45\n",
      "Train accuracy for layer 1: 0.5300925925925926, 3.38427122813135e-06\n",
      "Test accuracy for layer 1: 0.45\n",
      "Train accuracy for layer 2: 0.5300925925925926, 7.482677471607757e-06\n",
      "Test accuracy for layer 2: 0.45\n",
      "Train accuracy for layer 3: 0.5300925925925926, 3.2197385354166068e-06\n",
      "Test accuracy for layer 3: 0.45\n",
      "Train accuracy for layer 4: 0.5300925925925926, 3.2332530743066635e-06\n",
      "Test accuracy for layer 4: 0.45\n",
      "Train accuracy for layer 5: 0.5300925925925926, 8.852272770103583e-05\n",
      "Test accuracy for layer 5: 0.45\n",
      "Train accuracy for layer 6: 0.5300925925925926, 5.338125872548032e-06\n",
      "Test accuracy for layer 6: 0.45\n",
      "Train accuracy for layer 7: 0.5300925925925926, 1.9344795838955598e-05\n",
      "Test accuracy for layer 7: 0.45\n",
      "Train accuracy for layer 8: 0.5300925925925926, 2.9802835179695757e-05\n",
      "Test accuracy for layer 8: 0.45\n",
      "Train accuracy for layer 9: 0.5300925925925926, 1.315422038658246e-07\n",
      "Test accuracy for layer 9: 0.45\n",
      "Train accuracy for layer 10: 0.5300925925925926, -6.074989853737797e-07\n",
      "Test accuracy for layer 10: 0.45\n",
      "Train accuracy for layer 11: 0.5300925925925926, -1.5442219411656916e-05\n",
      "Test accuracy for layer 11: 0.45\n",
      "Train accuracy for layer 12: 0.5300925925925926, 4.329533364554159e-07\n",
      "Test accuracy for layer 12: 0.45\n",
      "Train accuracy for layer 13: 0.5300925925925926, 1.0086872805364075e-06\n",
      "Test accuracy for layer 13: 0.45\n",
      "Train accuracy for layer 14: 0.5347222222222222, 0.0004830949071714602\n",
      "Test accuracy for layer 14: 0.44\n",
      "Train accuracy for layer 15: 0.5254629629629629, 0.0001388300889986359\n",
      "Test accuracy for layer 15: 0.47\n",
      "Train accuracy for layer 16: 0.5300925925925926, 0.00023470658806245672\n",
      "Test accuracy for layer 16: 0.46\n",
      "Train accuracy for layer 17: 0.5185185185185185, 0.00020622319900210834\n",
      "Test accuracy for layer 17: 0.5\n",
      "Train accuracy for layer 18: 0.6087962962962963, 0.0006228785104909667\n",
      "Test accuracy for layer 18: 0.44\n",
      "Train accuracy for layer 19: 0.5949074074074074, 0.00042786460645473915\n",
      "Test accuracy for layer 19: 0.44\n",
      "Train accuracy for layer 20: 0.5740740740740741, 0.0002215051793886788\n",
      "Test accuracy for layer 20: 0.48\n",
      "Train accuracy for layer 21: 0.5625, 0.0003673798583029218\n",
      "Test accuracy for layer 21: 0.46\n",
      "Train accuracy for layer 22: 0.5671296296296297, -0.00018294953399364546\n",
      "Test accuracy for layer 22: 0.48\n",
      "Train accuracy for layer 23: 0.5509259259259259, -0.00014511029137063638\n",
      "Test accuracy for layer 23: 0.5\n",
      "Train accuracy for layer 24: 0.5324074074074074, -0.00010239411901242579\n",
      "Test accuracy for layer 24: 0.47\n",
      "Train accuracy for layer 25: 0.5717592592592593, 0.00018008696434732995\n",
      "Test accuracy for layer 25: 0.45\n",
      "Train accuracy for layer 26: 0.5694444444444444, -0.0001021652939534076\n",
      "Test accuracy for layer 26: 0.48\n",
      "Train accuracy for layer 27: 0.5648148148148148, -7.640073691519869e-05\n",
      "Test accuracy for layer 27: 0.43\n",
      "Train accuracy for layer 28: 0.5486111111111112, 0.00024844325135837193\n",
      "Test accuracy for layer 28: 0.47\n",
      "Train accuracy for layer 29: 0.5347222222222222, -1.60132331892156e-05\n",
      "Test accuracy for layer 29: 0.48\n",
      "Train accuracy for layer 30: 0.5370370370370371, 0.00018999453705725232\n",
      "Test accuracy for layer 30: 0.46\n",
      "Train accuracy for layer 31: 0.5416666666666666, 0.00017831721827837196\n",
      "Test accuracy for layer 31: 0.47\n"
     ]
    }
   ],
   "source": [
    "for layer in range(tl_llama.cfg.n_layers):\n",
    "\n",
    "    check_probe = LogisticRegression(max_iter=10000).fit(erased_train_resid_cache[layer], train_labels)\n",
    "    # should be practically constant\n",
    "    print(f\"Train accuracy for layer {layer}: {check_probe.score(erased_train_resid_cache[layer], train_labels)}, {check_probe.coef_.mean()}\")\n",
    "    print(f\"Test accuracy for layer {layer}: {check_probe.score(erased_test_resid_cache[layer], test_labels)}\")"
   ]
  },
  {
   "cell_type": "code",
   "execution_count": 32,
   "metadata": {},
   "outputs": [],
   "source": [
    "# hook to inject erased cache at inference time\n",
    "def erase_resid_hook(pattern, hook, eraser, erase_last_pos=-1):\n",
    "    # assume all sequences of same length since want to cache last position\n",
    "    # pattern of shape (batch, seq_len, hidden_size)\n",
    "    input = pattern[:, erase_last_pos:].cpu()\n",
    "    # reshape\n",
    "    input_flat = einops.rearrange(input, 'b s h -> (b s) h')\n",
    "    \n",
    "    erased = eraser(input_flat)\n",
    "    # reshape back\n",
    "    erased = einops.rearrange(erased, '(b s) h -> b s h', b=input.shape[0], s=input.shape[1])\n",
    "    pattern[:, erase_last_pos:] = erased.cuda()\n",
    "    return pattern\n",
    "\n",
    "layer = 25\n",
    "erase_last_pos = 20 # leace last 20 tokens\n",
    "hook_tup = (utils.get_act_name(\"resid_post\", layer=layer), lambda pattern, hook: erase_resid_hook(pattern, hook, erasers[layer], erase_last_pos=erase_last_pos))\n",
    "\n",
    "def leace_inference_fn(input, tl_model):\n",
    "    with torch.no_grad():\n",
    "        return tl_model.run_with_hooks(input, fwd_hooks=[hook_tup])"
   ]
  },
  {
   "cell_type": "code",
   "execution_count": 34,
   "metadata": {},
   "outputs": [
    {
     "name": "stdout",
     "output_type": "stream",
     "text": [
      "LEACEd model accuracies, layer=16, erase_last_pos=20\n",
      "0.6691176470588235\n",
      "0.5202702702702703\n",
      "0.65\n",
      "0.5592105263157895\n"
     ]
    }
   ],
   "source": [
    "print(f\"LEACEd model accuracies, {layer=}, {erase_last_pos=}\")\n",
    "hp_llama_acc = hp_test.get_test_accuracy(lambda input: leace_inference_fn(input, tl_llama), use_test_data=True, n_iters=10)\n",
    "hp_hp_acc = hp_test.get_test_accuracy(lambda input: leace_inference_fn(input, tl_hp_model), use_test_data=True, n_iters=10)\n",
    "print(hp_llama_acc)\n",
    "print(hp_hp_acc)\n",
    "\n",
    "hp_old_llama_acc = hp_test_old.get_test_accuracy(lambda input: leace_inference_fn(input, tl_llama), use_test_data=True, n_iters=10)\n",
    "hp_old_hp_acc = hp_test_old.get_test_accuracy(lambda input: leace_inference_fn(input, tl_hp_model), use_test_data=True, n_iters=10)\n",
    "print(hp_old_llama_acc)\n",
    "print(hp_old_hp_acc)"
   ]
  },
  {
   "cell_type": "markdown",
   "metadata": {},
   "source": [
    "## Steering + RepE"
   ]
  },
  {
   "cell_type": "code",
   "execution_count": 3,
   "metadata": {},
   "outputs": [
    {
     "data": {
      "text/plain": [
       "\"What is the name of Dumbledore's phoenix? A: Phoenix, B: Fawkes. Answer: B\""
      ]
     },
     "execution_count": 3,
     "metadata": {},
     "output_type": "execute_result"
    }
   ],
   "source": [
    "few_shot_examples = [ # from chatgpt\n",
    "    {\"question\": \"What is the name of Dumbledore's phoenix?\", \"true_answer\": \"Fawkes\", \"false_answer\": \"Phoenix\"},\n",
    "    {\"question\": \"What does the spell 'Wingardium Leviosa' do?\", \"true_answer\": \"Makes objects levitate\", \"false_answer\": \"Turns objects invisible\"},\n",
    "    {\"question\": \"What is the title of the first Harry Potter book?\", \"true_answer\": \"Harry Potter and the Sorcerer's Stone (or Philosopher's Stone)\", \"false_answer\": \"The Wizard of Oz\"},\n",
    "    {\"question\": \"Who is the female champion from Beauxbatons in the Triwizard Tournament?\", \"true_answer\": \"Fleur Delacour\", \"false_answer\": \"Joan of Arc\"},\n",
    "    {\"question\": \"What creature does Harry have to follow during the second task of the Triwizard Tournament?\", \"true_answer\": \"Merpeople\", \"false_answer\": \"Dinosaurs\"},\n",
    "    {\"question\": \"Who was the Defense Against the Dark Arts teacher in Harry's fourth year?\", \"true_answer\": \"Mad-Eye Moody (Barty Crouch Jr.)\", \"false_answer\": \"Sherlock Holmes\"},\n",
    "    {\"question\": \"What is the name of the Weasley's house?\", \"true_answer\": \"The Burrow\", \"false_answer\": \"The Shire\"},\n",
    "    {\"question\": \"Which spell is used to open locks?\", \"true_answer\": \"Alohomora\", \"false_answer\": \"Sesame\"},\n",
    "    {\"question\": \"What magical plant screams when it is pulled out of the pot?\", \"true_answer\": \"Mandrake\", \"false_answer\": \"Bamboo\"},\n",
    "    {\"question\": \"Which house is Luna Lovegood sorted into?\", \"true_answer\": \"Ravenclaw\", \"false_answer\": \"Slytherin\"}\n",
    "    ]\n",
    "\n",
    "def format_question(question_dict, randomize_answer=True, correct_answer=\"A\", include_answer=False):\n",
    "    \"\"\"\n",
    "    randomize_answer has precedence over correct_answer\n",
    "    \"\"\"\n",
    "    if randomize_answer:\n",
    "        correct_answer = np.random.choice([\"A\", \"B\"])\n",
    "    else:\n",
    "        assert correct_answer in [\"A\", \"B\"]\n",
    "    if correct_answer == \"A\":\n",
    "        return f\"{question_dict['question']} A: {question_dict['true_answer']}. B: {question_dict['false_answer']}. Answer:\" + (f\" {correct_answer}\" if include_answer else \"\")\n",
    "    else:\n",
    "        return f\"{question_dict['question']} A: {question_dict['false_answer']}, B: {question_dict['true_answer']}. Answer:\" + (f\" {correct_answer}\" if include_answer else \"\")\n",
    "\n",
    "def format_lat(question_dict, few_shot=0):\n",
    "    \"\"\"\n",
    "    In format {'question': \"What is the name of Harry Potter's owl?\",\n",
    "    'true_answer': 'Hedwig',\n",
    "    'false_answer': 'Simba'}\n",
    "    \"\"\"\n",
    "\n",
    "    assert few_shot <= len(few_shot_examples)\n",
    "    for i in range(few_shot):\n",
    "        \n",
    "# format_question(few_shot_examples[0], randomize_answer=True, correct_answer=\"A\", include_answer=True)"
   ]
  },
  {
   "cell_type": "code",
   "execution_count": null,
   "metadata": {},
   "outputs": [],
   "source": []
  }
 ],
 "metadata": {
  "kernelspec": {
   "display_name": "hp-unlrn",
   "language": "python",
   "name": "hp-unlrn"
  },
  "language_info": {
   "codemirror_mode": {
    "name": "ipython",
    "version": 3
   },
   "file_extension": ".py",
   "mimetype": "text/x-python",
   "name": "python",
   "nbconvert_exporter": "python",
   "pygments_lexer": "ipython3",
   "version": "3.10.13"
  }
 },
 "nbformat": 4,
 "nbformat_minor": 2
}
