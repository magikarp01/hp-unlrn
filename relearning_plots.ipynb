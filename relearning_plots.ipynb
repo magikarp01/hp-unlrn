{
 "cells": [
  {
   "cell_type": "code",
   "execution_count": 1,
   "metadata": {
    "vscode": {
     "languageId": "python"
    }
   },
   "outputs": [],
   "source": [
    "%load_ext autoreload\n",
    "%autoreload 2\n",
    "\n",
    "import dotenv\n",
    "import os\n",
    "\n",
    "dotenv.load_dotenv(dotenv_path=\"secrets.env\")\n",
    "hf_token = os.getenv(\"HUGGINGFACE_API_KEY\")\n",
    "\n",
    "import os\n",
    "\n",
    "from transformers import AutoModelForCausalLM, AutoTokenizer\n",
    "from peft import PeftModel\n",
    "import dotenv\n",
    "\n",
    "from tasks.hp.HPTask import HPTriviaTask, HPVerbatimTask, HPVerbatimTaskTranchedByBook\n",
    "from tasks.hp.HPSAQ import HPSAQ, HPSAQTranchedByBook\n",
    "from tasks.hp.HPFamiliarity import HPCompletionsFamiliarity, HPFamiliarityTranchedByBook\n",
    "\n",
    "from datetime import datetime\n",
    "\n",
    "import tqdm\n",
    "import torch\n",
    "\n",
    "import matplotlib.pyplot as plt"
   ]
  },
  {
   "cell_type": "code",
   "execution_count": 2,
   "metadata": {
    "vscode": {
     "languageId": "python"
    }
   },
   "outputs": [],
   "source": [
    "def load_ckpt(base_model, folder, ckpt):\n",
    "    peft_model = PeftModel.from_pretrained(base_model, os.path.join(folder, \"checkpoint-\" + str(ckpt)))\n",
    "    return peft_model"
   ]
  },
  {
   "cell_type": "code",
   "execution_count": 3,
   "metadata": {
    "vscode": {
     "languageId": "python"
    }
   },
   "outputs": [],
   "source": [
    "books_to_test_on = [1, 2, 3]\n",
    "\n",
    "# merge the files \"tasks/hp/data/tranched_by_book/book_{book_num}.jsonl\" into \"tasks/hp/data/tranched_by_book/all.jsonl\"\n",
    "\n",
    "all_data = \"\"\n",
    "for book_num in books_to_test_on:\n",
    "    with open(f\"tasks/hp/data/tranched_by_book/book_{book_num}.jsonl\", \"r\") as f:\n",
    "        all_data += f.read()\n",
    "\n",
    "with open(f\"tasks/hp/data/tranched_by_book/all.jsonl\", \"w\") as f:\n",
    "    f.write(all_data)"
   ]
  },
  {
   "cell_type": "code",
   "execution_count": 4,
   "metadata": {
    "vscode": {
     "languageId": "python"
    }
   },
   "outputs": [
    {
     "name": "stderr",
     "output_type": "stream",
     "text": [
      "/root/hp-unlrn/.env/lib/python3.10/site-packages/transformers/models/auto/tokenization_auto.py:711: FutureWarning: The `use_auth_token` argument is deprecated and will be removed in v5 of Transformers. Please use `token` instead.\n",
      "  warnings.warn(\n"
     ]
    },
    {
     "name": "stdout",
     "output_type": "stream",
     "text": [
      "</s>\n"
     ]
    },
    {
     "name": "stderr",
     "output_type": "stream",
     "text": [
      "/root/hp-unlrn/.env/lib/python3.10/site-packages/torch/nn/_reduction.py:42: UserWarning: size_average and reduce args will be deprecated, please use reduction='none' instead.\n",
      "  warnings.warn(warning.format(ret))\n"
     ]
    }
   ],
   "source": [
    "tokenizer = AutoTokenizer.from_pretrained(\n",
    "    \"microsoft/Llama2-7b-WhoIsHarryPotter\",\n",
    "    use_auth_token=hf_token\n",
    ")\n",
    "\n",
    "tokenizer.pad_token = tokenizer.eos_token\n",
    "\n",
    "print(tokenizer.pad_token)\n",
    "\n",
    "hp_familiarity_tasks = [HPFamiliarityTranchedByBook(i) for i in books_to_test_on]\n",
    "\n",
    "hp_verbatim_task = HPVerbatimTaskTranchedByBook(8, tokenizer, books_to_test_on)\n",
    "\n",
    "def eval_model(model):\n",
    "    # hp_familiarity_task = HPCompletionsFamiliarity(dataset_path='tasks/hp/data/msr_data/evaluation_prompts.json')\n",
    "    # exp_time = datetime.now().strftime(\"%a-%b%-d-%H%M\")\n",
    "    # hp_familiarity_task.generate_responses(model, tokenizer, eval_onthe_fly=True, eval_model='gpt-3.5-turbo', max_new_tokens=20, temperature=0, verbose=True, n_questions=50)\n",
    "    # familiarity, responses = hp_familiarity_task.get_accuracies()\n",
    "    # print(responses)\n",
    "    # return familiarity\n",
    "\n",
    "    # accs = {\"zero_shot\": 0, \"few_shot\": 0, \"unrelated_few_shot\": 0}\n",
    "    # for task in hp_saq_tasks:\n",
    "    #     task.generate_responses(model, tokenizer, n_questions=10)\n",
    "    #     this_accs = task.get_accuracies()\n",
    "    #     accs[\"zero_shot\"] += this_accs[\"zero_shot\"]\n",
    "    #     accs[\"few_shot\"] += this_accs[\"few_shot\"]\n",
    "    #     accs[\"unrelated_few_shot\"] += this_accs[\"unrelated_few_shot\"]\n",
    "    \n",
    "    # accs[\"zero_shot\"] /= len(hp_saq_tasks)\n",
    "    # accs[\"few_shot\"] /= len(hp_saq_tasks)\n",
    "    # accs[\"unrelated_few_shot\"] /= len(hp_saq_tasks)\n",
    "\n",
    "    # return accs\n",
    "\n",
    "    # score = 0\n",
    "    # for task in hp_familiarity_tasks:\n",
    "    #     task.generate_responses(model, tokenizer, eval_model='gpt-4')\n",
    "    #     familiarity, responses = task.get_accuracies()\n",
    "    #     score += familiarity\n",
    "    #     print(responses)\n",
    "    # score /= len(hp_familiarity_tasks)\n",
    "\n",
    "    # return score\n",
    "\n",
    "    #return hp_verbatim_task.get_test_loss(model).item()\n",
    "\n",
    "    acc = hp_verbatim_task.get_test_loss(model, n_iters=1000).item()\n",
    "    print(acc)\n",
    "    return acc"
   ]
  },
  {
   "cell_type": "code",
   "execution_count": 5,
   "metadata": {
    "vscode": {
     "languageId": "python"
    }
   },
   "outputs": [
    {
     "name": "stderr",
     "output_type": "stream",
     "text": [
      "/root/hp-unlrn/.env/lib/python3.10/site-packages/transformers/models/auto/auto_factory.py:472: FutureWarning: The `use_auth_token` argument is deprecated and will be removed in v5 of Transformers. Please use `token` instead.\n",
      "  warnings.warn(\n",
      "100%|█████████████████████████████████████████████████████████████████████████████████████████████████████████████████████████████████████████████████████████████████████████████████████████████| 1000/1000 [04:03<00:00,  4.11it/s]\n",
      "100%|█████████████████████████████████████████████████████████████| 1000/1000 [04:03<00:00,  4.11it/s]\n"
     ]
    },
    {
     "data": {
      "application/vnd.jupyter.widget-view+json": {
       "model_id": "92888df62e814c6e99d17a1eb0e3c9e2",
       "version_major": 2,
       "version_minor": 0
      },
      "text/plain": [
       "Loading checkpoint shards:   0%|          | 0/2 [00:00<?, ?it/s]"
      ]
     },
     "metadata": {},
     "output_type": "display_data"
    },
    {
     "name": "stderr",
     "output_type": "stream",
     "text": [
      "100%|███████████████████████████████████████████████████████████████████████████████████████████████████████████████████████████████████████████████████████████████████████████████████████████████████| 1/1 [00:00<00:00,  1.53it/s]\n",
      "/root/hp-unlrn/.env/lib/python3.10/site-packages/torch/_utils.py:831: UserWarning: TypedStorage is deprecated. It will be removed in the future and UntypedStorage will be the only storage class. This should only matter to you if you are using storages directly.  To access UntypedStorage directly, use tensor.untyped_storage() instead of tensor.storage()\n",
      "  return self.fget.__get__(instance, owner)()\n"
     ]
    },
    {
     "name": "stdout",
     "output_type": "stream",
     "text": [
      "2.708958625793457\n"
     ]
    },
    {
     "name": "stderr",
     "output_type": "stream",
     "text": [
      "100%|███████████████████████████████████████████████████████████████████████████████████████████████████████████████████████████████████████████████████████████████████████████████████████████████████| 1/1 [00:00<00:00,  4.55it/s]\n"
     ]
    },
    {
     "name": "stdout",
     "output_type": "stream",
     "text": [
      "3.8327126502990723\n",
      "1000\n"
     ]
    },
    {
     "name": "stderr",
     "output_type": "stream",
     "text": [
      "100%|███████████████████████████████████████████████████████████████████████████████████████████████████████████████████████████████████████████████████████████████████████████████████████████████████| 1/1 [00:00<00:00,  3.52it/s]\n"
     ]
    },
    {
     "name": "stdout",
     "output_type": "stream",
     "text": [
      "2.710508346557617\n"
     ]
    },
    {
     "data": {
      "application/vnd.jupyter.widget-view+json": {
       "model_id": "15d2b646fdc3485f807be0d2cf0d2dc7",
       "version_major": 2,
       "version_minor": 0
      },
      "text/plain": [
       "Loading checkpoint shards:   0%|          | 0/2 [00:00<?, ?it/s]"
      ]
     },
     "metadata": {},
     "output_type": "display_data"
    },
    {
     "name": "stdout",
     "output_type": "stream",
     "text": [
      "1000\n"
     ]
    },
    {
     "name": "stderr",
     "output_type": "stream",
     "text": [
      "100%|███████████████████████████████████████████████████████████████████████████████████████████████████████████████████████████████████████████████████████████████████████████████████████████████████| 1/1 [00:00<00:00,  3.70it/s]"
     ]
    },
    {
     "name": "stdout",
     "output_type": "stream",
     "text": [
      "2.902005910873413\n",
      "2.708958625793457\n",
      "3.8327126502990723\n",
      "[[(0, 3.8327126502990723), (1000, 2.710508346557617)], [(0, 2.708958625793457), (1000, 2.902005910873413)]]\n"
     ]
    },
    {
     "name": "stderr",
     "output_type": "stream",
     "text": [
      "\n"
     ]
    },
    {
     "name": "stdout",
     "output_type": "stream",
     "text": [
      "2.885110378265381\n",
      "600\n"
     ]
    },
    {
     "name": "stderr",
     "output_type": "stream",
     "text": [
      "100%|█████████████████████████████████████████████████████████████| 1000/1000 [04:02<00:00,  4.12it/s]\n"
     ]
    },
    {
     "name": "stdout",
     "output_type": "stream",
     "text": [
      "2.8738954067230225\n",
      "700\n"
     ]
    },
    {
     "name": "stderr",
     "output_type": "stream",
     "text": [
      "100%|█████████████████████████████████████████████████████████████| 1000/1000 [04:03<00:00,  4.11it/s]\n"
     ]
    },
    {
     "name": "stdout",
     "output_type": "stream",
     "text": [
      "2.8775532245635986\n",
      "800\n"
     ]
    },
    {
     "name": "stderr",
     "output_type": "stream",
     "text": [
      "  2%|█▍                                                             | 22/1000 [00:05<03:49,  4.26it/s]"
     ]
    },
    {
     "name": "stdout",
     "output_type": "stream",
     "text": [
      "2.7435569763183594\n",
      "900\n"
     ]
    },
    {
     "name": "stderr",
     "output_type": "stream",
     "text": [
      "100%|███████████████████████████████████████| 1000/1000 [04:02<00:00,  4.13it/s]\n"
     ]
    },
    {
     "name": "stdout",
     "output_type": "stream",
     "text": [
      "2.751146078109741\n",
      "1000\n"
     ]
    },
    {
     "name": "stderr",
     "output_type": "stream",
     "text": [
      "100%|███████████████████████████████████████| 1000/1000 [04:01<00:00,  4.14it/s]\n"
     ]
    },
    {
     "name": "stdout",
     "output_type": "stream",
     "text": [
      "2.750664472579956\n",
      "3.036888837814331\n",
      "3.4972031116485596\n",
      "[[(0, 3.4972031116485596), (100, 3.28092622756958), (200, 3.0460121631622314), (300, 2.9241957664489746), (400, 2.8950257301330566), (500, 2.885110378265381), (600, 2.8738954067230225), (700, 2.8775532245635986), (800, 2.8754568099975586), (900, 2.8759214878082275), (1000, 2.8729376792907715)], [(0, 3.036888837814331), (100, 2.908545970916748), (200, 2.792257070541382), (300, 2.7728617191314697), (400, 2.762115955352783), (500, 2.7416458129882812), (600, 2.7486376762390137), (700, 2.746772050857544), (800, 2.7435569763183594), (900, 2.751146078109741), (1000, 2.750664472579956)]]\n"
     ]
    }
   ],
   "source": [
    "model_ckpts = [100, 200, 300, 400, 500, 600, 700, 800, 900, 1000]\n",
    "model_folders = [\"verbatim_finetune\", \"verbatim_finetune_base\"]\n",
    "\n",
    "base_models = [\"hp-unlrn\", \"llama\"]\n",
    "\n",
    "llama_model = AutoModelForCausalLM.from_pretrained(\n",
    "    \"meta-llama/Llama-2-7b-chat-hf\",\n",
    "    use_auth_token=hf_token,\n",
    "    torch_dtype=torch.bfloat16\n",
    ").cuda()\n",
    "\n",
    "base_acc = eval_model(llama_model)\n",
    "\n",
    "del llama_model\n",
    "\n",
    "hp_model = AutoModelForCausalLM.from_pretrained(\n",
    "    \"microsoft/Llama2-7b-WhoIsHarryPotter\",\n",
    "    use_auth_token=hf_token,\n",
    "    torch_dtype=torch.bfloat16\n",
    ").cuda()\n",
    "\n",
    "tokenizer.pad_token = tokenizer.eos_token\n",
    "\n",
    "hp_acc = eval_model(hp_model)\n",
    "\n",
    "del hp_model\n",
    "\n",
    "all_accuracies = []\n",
    "\n",
    "for model_folder, base_model in zip(model_folders, base_models):\n",
    "    if base_model == \"llama\":\n",
    "        accuracies = [(0, base_acc)]\n",
    "\n",
    "        base_model = AutoModelForCausalLM.from_pretrained(\n",
    "            \"meta-llama/Llama-2-7b-chat-hf\",\n",
    "            use_auth_token=hf_token,\n",
    "            torch_dtype=torch.bfloat16\n",
    "        ).cuda()\n",
    "    else:\n",
    "        accuracies = [(0, hp_acc)]\n",
    "\n",
    "        base_model = AutoModelForCausalLM.from_pretrained(\n",
    "            \"microsoft/Llama2-7b-WhoIsHarryPotter\",\n",
    "            use_auth_token=hf_token,\n",
    "            torch_dtype=torch.bfloat16\n",
    "        ).cuda()\n",
    "    \n",
    "    for ckpt in model_ckpts:\n",
    "        print(ckpt)\n",
    "        adapter = load_ckpt(base_model, model_folder, ckpt)\n",
    "        acc = eval_model(base_model)\n",
    "        accuracies.append((ckpt, acc))\n",
    "        adapter.unload()\n",
    "    \n",
    "    all_accuracies.append(accuracies)\n",
    "\n",
    "    del base_model\n",
    "\n",
    "print(base_acc)\n",
    "print(hp_acc)\n",
    "print(all_accuracies)"
   ]
  },
  {
   "cell_type": "code",
   "execution_count": 6,
   "metadata": {
    "vscode": {
     "languageId": "python"
    }
   },
   "outputs": [
    {
     "name": "stdout",
     "output_type": "stream",
     "text": [
      "base_acc = 3.036888837814331\n",
      "hp_acc = 3.4972031116485596\n",
      "all_accuracies = [[(0, 3.4972031116485596), (100, 3.28092622756958), (200, 3.0460121631622314), (300, 2.9241957664489746), (400, 2.8950257301330566), (500, 2.885110378265381), (600, 2.8738954067230225), (700, 2.8775532245635986), (800, 2.8754568099975586), (900, 2.8759214878082275), (1000, 2.8729376792907715)], [(0, 3.036888837814331), (100, 2.908545970916748), (200, 2.792257070541382), (300, 2.7728617191314697), (400, 2.762115955352783), (500, 2.7416458129882812), (600, 2.7486376762390137), (700, 2.746772050857544), (800, 2.7435569763183594), (900, 2.751146078109741), (1000, 2.750664472579956)]]\n"
     ]
    }
   ],
   "source": [
    "print(\"base_acc =\", base_acc)\n",
    "print(\"hp_acc =\", hp_acc)\n",
    "print(\"all_accuracies =\", all_accuracies)"
   ]
  },
  {
   "cell_type": "code",
   "execution_count": 7,
   "metadata": {
    "vscode": {
     "languageId": "python"
    }
   },
   "outputs": [],
   "source": [
    "# results for finetuned unlearned and chat models - FOR PAPER\n",
    "base_acc = 3.036888837814331\n",
    "hp_acc = 3.4972031116485596\n",
    "all_accuracies = [[(0, 3.4972031116485596), (100, 3.28092622756958), (200, 3.0460121631622314), (300, 2.9241957664489746), (400, 2.8950257301330566), (500, 2.885110378265381), (600, 2.8738954067230225), (700, 2.8775532245635986), (800, 2.8754568099975586), (900, 2.8759214878082275), (1000, 2.8729376792907715)], [(0, 3.036888837814331), (100, 2.908545970916748), (200, 2.792257070541382), (300, 2.7728617191314697), (400, 2.762115955352783), (500, 2.7416458129882812), (600, 2.7486376762390137), (700, 2.746772050857544), (800, 2.7435569763183594), (900, 2.751146078109741), (1000, 2.750664472579956)]]"
   ]
  },
  {
   "cell_type": "code",
   "execution_count": 6,
   "metadata": {
    "vscode": {
     "languageId": "python"
    }
   },
   "outputs": [],
   "source": [
    "# results from prev run\n",
    "base_acc_ = 0.46534305908678647\n",
    "hp_acc_ = 0.32427038263675156\n",
    "all_accuracies_ = [[(0, 0.32427038263675156), (100, 0.32125954361627784), (200, 0.35320556782193674), (300, 0.3950250996178836), (400, 0.3963737045958042), (500, 0.42296944927665525), (600, 0.49241389372109967), (700, 0.44076731789999557), (800, 0.5259048314673566), (900, 0.4175018492498922), (1000, 0.41718241223961816)]]"
   ]
  },
  {
   "cell_type": "code",
   "execution_count": 7,
   "metadata": {
    "vscode": {
     "languageId": "python"
    }
   },
   "outputs": [],
   "source": [
    "base_acc_ = 0.22818220519369947\n",
    "hp_acc_ = 0.10280970625798212\n",
    "all_accuracies_ = [[(0, 0.10280970625798212), (100, 0.1336739037888463), (200, 0.09450830140485313), (300, 0.24244359301830565), (400, 0.2220093656875266), (500, 0.15197956577266922), (600, 0.18284376330353344), (700, 0.13154533844189017), (800, 0.09663686675180927), (900, 0.1911451681566624), (1000, 0.12537249893571734)]]"
   ]
  },
  {
   "cell_type": "code",
   "execution_count": 8,
   "metadata": {
    "vscode": {
     "languageId": "python"
    }
   },
   "outputs": [],
   "source": [
    "# results on cross-entropy eval (1000 samples from books 4-7)\n",
    "base_acc_ = 3.0362651348114014\n",
    "hp_acc_ = 3.502548933029175\n",
    "all_accuracies_ = [[(0, 3.502548933029175), (100, 3.2807469367980957), (200, 3.0449798107147217), (300, 2.9233744144439697), (400, 2.895801305770874), (500, 2.881465196609497), (600, 2.87931227684021), (700, 2.8763437271118164), (800, 2.8760416507720947), (900, 2.872117757797241), (1000, 2.8754565715789795)]]"
   ]
  },
  {
   "cell_type": "code",
   "execution_count": 17,
   "metadata": {
    "vscode": {
     "languageId": "python"
    }
   },
   "outputs": [
    {
     "data": {
      "image/png": "[encoded data removed]",
      "text/plain": [
       "<Figure size 640x480 with 1 Axes>"
      ]
     },
     "metadata": {},
     "output_type": "display_data"
    }
   ],
   "source": [
    "keys = [\"zero_shot\"]\n",
    "line_styles = ['--', '-', '-.']\n",
    "\n",
    "#for y, key in zip(ys, keys):\n",
    "#    plt.plot(x, y, linestyle=\"--\", marker=\"*\", label=\"dpo_\" + key)\n",
    "\n",
    "labels = [\"HP-MSR Finetune\", \"LLaMA-Chat Finetune\"]\n",
    "colors = [\"tab:blue\", \"tab:orange\"]\n",
    "\n",
    "for accs, label, color in zip(all_accuracies, labels, colors):\n",
    "    xs = [ckpt for ckpt, _ in accs]\n",
    "    ys = [acc for _, acc in accs]\n",
    "    plt.plot(xs, ys, linestyle=\"--\", marker=\"*\", label=label, color=color)\n",
    "\n",
    "plt.xlabel('Fine-tuning steps')\n",
    "plt.ylabel('Cross-entropy on samples from books 4-7')\n",
    "\n",
    "#for key, line_style in zip(keys, line_styles):\n",
    "#    plt.axhline(y=base_acc[key], color='r', linestyle=line_style, label=\"base_\" + key)\n",
    "#    plt.axhline(y=hp_acc[key], color='g', linestyle=line_style, label=\"unlearned_\" + key)\n",
    "\n",
    "plt.axhline(y=hp_acc, linestyle='-.', label=\"HP-MSR\", color=\"tab:blue\", alpha=0.5)\n",
    "plt.axhline(y=base_acc, linestyle='-.', label=\"LLaMA-Chat\", color=\"tab:orange\", alpha=0.5)\n",
    "\n",
    "plt.legend()\n",
    "plt.show()"
   ]
  },
  {
   "cell_type": "code",
   "execution_count": 10,
   "metadata": {
    "vscode": {
     "languageId": "python"
    }
   },
   "outputs": [],
   "source": [
    "hp_model = AutoModelForCausalLM.from_pretrained(\n",
    "    \"microsoft/Llama2-7b-WhoIsHarryPotter\",\n",
    "    use_auth_token=hf_token,\n",
    "    torch_dtype=torch.bfloat16\n",
    ").cuda()"
   ]
  }
 ],
 "metadata": {
  "kernelspec": {
   "display_name": "Python 3 (ipykernel)",
   "language": "python",
   "name": "python3"
  },
  "language_info": {
   "name": "",
   "version": ""
  }
 },
 "nbformat": 4,
 "nbformat_minor": 2
}
