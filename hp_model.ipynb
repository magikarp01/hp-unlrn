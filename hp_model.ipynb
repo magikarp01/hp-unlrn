{
 "cells": [
  {
   "cell_type": "code",
   "execution_count": 1,
   "metadata": {},
   "outputs": [
    {
     "name": "stderr",
     "output_type": "stream",
     "text": [
      "/data/phillip_guo/miniconda3/envs/hp-unlrn/lib/python3.10/site-packages/tqdm/auto.py:21: TqdmWarning: IProgress not found. Please update jupyter and ipywidgets. See https://ipywidgets.readthedocs.io/en/stable/user_install.html\n",
      "  from .autonotebook import tqdm as notebook_tqdm\n"
     ]
    }
   ],
   "source": [
    "import numpy as np\n",
    "import matplotlib.pyplot as plt\n",
    "import transformers\n",
    "import datasets\n",
    "import torch"
   ]
  },
  {
   "cell_type": "code",
   "execution_count": 4,
   "metadata": {},
   "outputs": [],
   "source": [
    "# download this huggingface model https://huggingface.co/microsoft/Llama2-7b-WhoIsHarryPotter\n",
    "from transformers import AutoTokenizer, AutoModelForCausalLM\n",
    "\n",
    "# might need to adapt to quantize for 24gb 3090, or remove .cuda()\n",
    "hp_model = AutoModelForCausalLM.from_pretrained(\"microsoft/Llama2-7b-WhoIsHarryPotter\").cuda()\n",
    "tokenizer = AutoTokenizer.from_pretrained(\"microsoft/Llama2-7b-WhoIsHarryPotter\")\n",
    "tokenizer.pad_token = tokenizer.eos_token"
   ]
  },
  {
   "cell_type": "code",
   "execution_count": null,
   "metadata": {},
   "outputs": [],
   "source": [
    "# remove start of sentence token\n",
    "tokenizer."
   ]
  },
  {
   "cell_type": "code",
   "execution_count": 5,
   "metadata": {},
   "outputs": [
    {
     "data": {
      "text/plain": [
       "27087896576"
      ]
     },
     "execution_count": 5,
     "metadata": {},
     "output_type": "execute_result"
    }
   ],
   "source": [
    "torch.cuda.max_memory_allocated()"
   ]
  },
  {
   "cell_type": "code",
   "execution_count": 13,
   "metadata": {},
   "outputs": [
    {
     "data": {
      "text/plain": [
       "[1, 29871, 10686, 349]"
      ]
     },
     "execution_count": 13,
     "metadata": {},
     "output_type": "execute_result"
    }
   ],
   "source": [
    "tokenizer.encode(\" Harry P\")"
   ]
  },
  {
   "cell_type": "code",
   "execution_count": 9,
   "metadata": {},
   "outputs": [
    {
     "ename": "ValueError",
     "evalue": "'▁' is not in list",
     "output_type": "error",
     "traceback": [
      "\u001b[0;31m---------------------------------------------------------------------------\u001b[0m",
      "\u001b[0;31mValueError\u001b[0m                                Traceback (most recent call last)",
      "\u001b[1;32m/data/phillip_guo/hp-unlrn/hp_model.ipynb Cell 4\u001b[0m line \u001b[0;36m2\n\u001b[1;32m      <a href='vscode-notebook-cell://ssh-remote%2Bcais/data/phillip_guo/hp-unlrn/hp_model.ipynb#W2sdnNjb2RlLXJlbW90ZQ%3D%3D?line=0'>1</a>\u001b[0m \u001b[39mfrom\u001b[39;00m \u001b[39mtasks\u001b[39;00m \u001b[39mimport\u001b[39;00m IOITask, OWTTask, SportsTask\n\u001b[0;32m----> <a href='vscode-notebook-cell://ssh-remote%2Bcais/data/phillip_guo/hp-unlrn/hp_model.ipynb#W2sdnNjb2RlLXJlbW90ZQ%3D%3D?line=1'>2</a>\u001b[0m ioi_task \u001b[39m=\u001b[39m IOITask(batch_size\u001b[39m=\u001b[39;49m\u001b[39m16\u001b[39;49m, tokenizer\u001b[39m=\u001b[39;49mtokenizer, handle_multitoken_labels\u001b[39m=\u001b[39;49m\u001b[39mTrue\u001b[39;49;00m)\n",
      "File \u001b[0;32m~/hp-unlrn/tasks/ioi/IOITask.py:1115\u001b[0m, in \u001b[0;36mIOITask.__init__\u001b[0;34m(self, batch_size, tokenizer, handle_multitoken_labels, prompt_type, num_data, nb_templates, prep_acdcpp, acdcpp_N, device)\u001b[0m\n\u001b[1;32m   1113\u001b[0m \u001b[39mdef\u001b[39;00m \u001b[39m__init__\u001b[39m(\u001b[39mself\u001b[39m, batch_size, tokenizer, handle_multitoken_labels\u001b[39m=\u001b[39m\u001b[39mFalse\u001b[39;00m, prompt_type\u001b[39m=\u001b[39m\u001b[39m'\u001b[39m\u001b[39mABBA\u001b[39m\u001b[39m'\u001b[39m, num_data\u001b[39m=\u001b[39m\u001b[39m1000\u001b[39m, nb_templates\u001b[39m=\u001b[39m\u001b[39m1\u001b[39m, prep_acdcpp\u001b[39m=\u001b[39m\u001b[39mFalse\u001b[39;00m, acdcpp_N\u001b[39m=\u001b[39m\u001b[39m25\u001b[39m, device\u001b[39m=\u001b[39m\u001b[39m'\u001b[39m\u001b[39mcuda\u001b[39m\u001b[39m'\u001b[39m):\n\u001b[0;32m-> 1115\u001b[0m     \u001b[39mself\u001b[39m\u001b[39m.\u001b[39mioi_data \u001b[39m=\u001b[39m IOIData(\n\u001b[1;32m   1116\u001b[0m         prompt_type\u001b[39m=\u001b[39;49mprompt_type,\n\u001b[1;32m   1117\u001b[0m         N\u001b[39m=\u001b[39;49mnum_data,\n\u001b[1;32m   1118\u001b[0m         tokenizer\u001b[39m=\u001b[39;49mtokenizer,\n\u001b[1;32m   1119\u001b[0m         prepend_bos\u001b[39m=\u001b[39;49m\u001b[39mFalse\u001b[39;49;00m,\n\u001b[1;32m   1120\u001b[0m         seed\u001b[39m=\u001b[39;49m\u001b[39m1\u001b[39;49m,\n\u001b[1;32m   1121\u001b[0m         nb_templates\u001b[39m=\u001b[39;49mnb_templates,\n\u001b[1;32m   1122\u001b[0m         device\u001b[39m=\u001b[39;49mdevice\n\u001b[1;32m   1123\u001b[0m     )\n\u001b[1;32m   1125\u001b[0m     \u001b[39m# Split the data into train and test sets\u001b[39;00m\n\u001b[1;32m   1126\u001b[0m     train_data, test_data \u001b[39m=\u001b[39m train_test_split(\u001b[39mself\u001b[39m\u001b[39m.\u001b[39mioi_data\u001b[39m.\u001b[39mioi_prompts, test_size\u001b[39m=\u001b[39m\u001b[39m0.2\u001b[39m, shuffle\u001b[39m=\u001b[39m\u001b[39mFalse\u001b[39;00m)\n",
      "File \u001b[0;32m~/hp-unlrn/tasks/ioi/IOITask.py:670\u001b[0m, in \u001b[0;36mIOIData.__init__\u001b[0;34m(self, prompt_type, N, tokenizer, prompts, symmetric, prefixes, nb_templates, prepend_bos, manual_word_idx, has_been_flipped, seed, device)\u001b[0m\n\u001b[1;32m    664\u001b[0m texts \u001b[39m=\u001b[39m [\n\u001b[1;32m    665\u001b[0m     (\u001b[39mself\u001b[39m\u001b[39m.\u001b[39mtokenizer\u001b[39m.\u001b[39mbos_token \u001b[39mif\u001b[39;00m prepend_bos \u001b[39melse\u001b[39;00m \u001b[39m\"\u001b[39m\u001b[39m\"\u001b[39m) \u001b[39m+\u001b[39m prompt[\u001b[39m\"\u001b[39m\u001b[39mtext\u001b[39m\u001b[39m\"\u001b[39m]\n\u001b[1;32m    666\u001b[0m     \u001b[39mfor\u001b[39;00m prompt \u001b[39min\u001b[39;00m \u001b[39mself\u001b[39m\u001b[39m.\u001b[39mioi_prompts\n\u001b[1;32m    667\u001b[0m ]\n\u001b[1;32m    668\u001b[0m \u001b[39mself\u001b[39m\u001b[39m.\u001b[39mtoks \u001b[39m=\u001b[39m t\u001b[39m.\u001b[39mTensor(\u001b[39mself\u001b[39m\u001b[39m.\u001b[39mtokenizer(texts, padding\u001b[39m=\u001b[39m\u001b[39mTrue\u001b[39;00m)\u001b[39m.\u001b[39minput_ids)\u001b[39m.\u001b[39mlong()\n\u001b[0;32m--> 670\u001b[0m \u001b[39mself\u001b[39m\u001b[39m.\u001b[39mword_idx \u001b[39m=\u001b[39m get_idx_dict(\n\u001b[1;32m    671\u001b[0m     \u001b[39mself\u001b[39;49m\u001b[39m.\u001b[39;49mioi_prompts,\n\u001b[1;32m    672\u001b[0m     \u001b[39mself\u001b[39;49m\u001b[39m.\u001b[39;49mtokenizer,\n\u001b[1;32m    673\u001b[0m     prepend_bos\u001b[39m=\u001b[39;49mprepend_bos,\n\u001b[1;32m    674\u001b[0m     toks\u001b[39m=\u001b[39;49m\u001b[39mself\u001b[39;49m\u001b[39m.\u001b[39;49mtoks,\n\u001b[1;32m    675\u001b[0m )\n\u001b[1;32m    676\u001b[0m \u001b[39mself\u001b[39m\u001b[39m.\u001b[39mprepend_bos \u001b[39m=\u001b[39m prepend_bos\n\u001b[1;32m    677\u001b[0m \u001b[39mif\u001b[39;00m manual_word_idx \u001b[39mis\u001b[39;00m \u001b[39mnot\u001b[39;00m \u001b[39mNone\u001b[39;00m:\n",
      "File \u001b[0;32m~/hp-unlrn/tasks/ioi/IOITask.py:511\u001b[0m, in \u001b[0;36mget_idx_dict\u001b[0;34m(ioi_prompts, tokenizer, prepend_bos, toks)\u001b[0m\n\u001b[1;32m    510\u001b[0m \u001b[39mdef\u001b[39;00m \u001b[39mget_idx_dict\u001b[39m(ioi_prompts, tokenizer, prepend_bos\u001b[39m=\u001b[39m\u001b[39mFalse\u001b[39;00m, toks\u001b[39m=\u001b[39m\u001b[39mNone\u001b[39;00m):\n\u001b[0;32m--> 511\u001b[0m     (IO_idxs, S1_idxs, S2_idxs,) \u001b[39m=\u001b[39m get_name_idxs(\n\u001b[1;32m    512\u001b[0m         ioi_prompts,\n\u001b[1;32m    513\u001b[0m         tokenizer,\n\u001b[1;32m    514\u001b[0m         idx_types\u001b[39m=\u001b[39;49m[\u001b[39m\"\u001b[39;49m\u001b[39mIO\u001b[39;49m\u001b[39m\"\u001b[39;49m, \u001b[39m\"\u001b[39;49m\u001b[39mS1\u001b[39;49m\u001b[39m\"\u001b[39;49m, \u001b[39m\"\u001b[39;49m\u001b[39mS2\u001b[39;49m\u001b[39m\"\u001b[39;49m],\n\u001b[1;32m    515\u001b[0m         prepend_bos\u001b[39m=\u001b[39;49mprepend_bos,\n\u001b[1;32m    516\u001b[0m     )\n\u001b[1;32m    518\u001b[0m     end_idxs \u001b[39m=\u001b[39m get_end_idxs(\n\u001b[1;32m    519\u001b[0m         toks,\n\u001b[1;32m    520\u001b[0m         tokenizer,\n\u001b[1;32m    521\u001b[0m         name_tok_len\u001b[39m=\u001b[39m\u001b[39m1\u001b[39m,\n\u001b[1;32m    522\u001b[0m         prepend_bos\u001b[39m=\u001b[39mprepend_bos,\n\u001b[1;32m    523\u001b[0m     )\n\u001b[1;32m    525\u001b[0m     punct_idxs \u001b[39m=\u001b[39m get_word_idxs(ioi_prompts, [\u001b[39m\"\u001b[39m\u001b[39m,\u001b[39m\u001b[39m\"\u001b[39m, \u001b[39m\"\u001b[39m\u001b[39m.\u001b[39m\u001b[39m\"\u001b[39m], tokenizer)\n",
      "File \u001b[0;32m~/hp-unlrn/tasks/ioi/IOITask.py:430\u001b[0m, in \u001b[0;36mget_name_idxs\u001b[0;34m(prompts, tokenizer, idx_types, prepend_bos)\u001b[0m\n\u001b[1;32m    427\u001b[0m toks \u001b[39m=\u001b[39m tokenizer\u001b[39m.\u001b[39mtokenize(\u001b[39m\"\u001b[39m\u001b[39m \u001b[39m\u001b[39m\"\u001b[39m\u001b[39m.\u001b[39mjoin(text_split[:\u001b[39m-\u001b[39m\u001b[39m1\u001b[39m]))\n\u001b[1;32m    428\u001b[0m \u001b[39m# Get the first instance of IO token\u001b[39;00m\n\u001b[1;32m    429\u001b[0m name_idx_dict[\u001b[39m\"\u001b[39m\u001b[39mIO\u001b[39m\u001b[39m\"\u001b[39m]\u001b[39m.\u001b[39mappend(\n\u001b[0;32m--> 430\u001b[0m     toks\u001b[39m.\u001b[39;49mindex(tokenizer\u001b[39m.\u001b[39;49mtokenize(\u001b[39m\"\u001b[39;49m\u001b[39m \u001b[39;49m\u001b[39m\"\u001b[39;49m \u001b[39m+\u001b[39;49m prompt[\u001b[39m\"\u001b[39;49m\u001b[39mIO\u001b[39;49m\u001b[39m\"\u001b[39;49m])[\u001b[39m0\u001b[39;49m])\n\u001b[1;32m    431\u001b[0m )\n\u001b[1;32m    432\u001b[0m \u001b[39m# Get the first instance of S token\u001b[39;00m\n\u001b[1;32m    433\u001b[0m name_idx_dict[\u001b[39m\"\u001b[39m\u001b[39mS1\u001b[39m\u001b[39m\"\u001b[39m]\u001b[39m.\u001b[39mappend(\n\u001b[1;32m    434\u001b[0m     toks\u001b[39m.\u001b[39mindex(tokenizer\u001b[39m.\u001b[39mtokenize(\u001b[39m\"\u001b[39m\u001b[39m \u001b[39m\u001b[39m\"\u001b[39m \u001b[39m+\u001b[39m prompt[\u001b[39m\"\u001b[39m\u001b[39mS\u001b[39m\u001b[39m\"\u001b[39m])[\u001b[39m0\u001b[39m])\n\u001b[1;32m    435\u001b[0m )\n",
      "\u001b[0;31mValueError\u001b[0m: '▁' is not in list"
     ]
    }
   ],
   "source": [
    "from tasks import IOITask, OWTTask, SportsTask\n",
    "ioi_task = IOITask(batch_size=16, tokenizer=tokenizer, handle_multitoken_labels=True)\n"
   ]
  },
  {
   "cell_type": "code",
   "execution_count": null,
   "metadata": {},
   "outputs": [],
   "source": []
  }
 ],
 "metadata": {
  "kernelspec": {
   "display_name": "hp-unlrn",
   "language": "python",
   "name": "hp-unlrn"
  },
  "language_info": {
   "codemirror_mode": {
    "name": "ipython",
    "version": 3
   },
   "file_extension": ".py",
   "mimetype": "text/x-python",
   "name": "python",
   "nbconvert_exporter": "python",
   "pygments_lexer": "ipython3",
   "version": "3.10.13"
  }
 },
 "nbformat": 4,
 "nbformat_minor": 2
}
