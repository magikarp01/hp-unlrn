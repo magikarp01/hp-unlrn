{
 "cells": [
  {
   "cell_type": "code",
   "execution_count": 1,
   "metadata": {},
   "outputs": [],
   "source": [
    "%load_ext autoreload\n",
    "%autoreload 2\n",
    "import numpy as np\n",
    "import matplotlib.pyplot as plt\n",
    "import transformers\n",
    "import datasets\n",
    "import torch\n",
    "import pandas as pd"
   ]
  },
  {
   "cell_type": "markdown",
   "metadata": {},
   "source": [
    "### Loading Models"
   ]
  },
  {
   "cell_type": "code",
   "execution_count": 2,
   "metadata": {},
   "outputs": [],
   "source": [
    "# download this huggingface model https://huggingface.co/microsoft/Llama2-7b-WhoIsHarryPotter\n",
    "from transformers import AutoTokenizer, AutoModelForCausalLM\n",
    "\n",
    "# might need to adapt to quantize for 24gb 3090, or remove .cuda()\n",
    "hp_model = AutoModelForCausalLM.from_pretrained(\"microsoft/Llama2-7b-WhoIsHarryPotter\").cuda()\n",
    "tokenizer = AutoTokenizer.from_pretrained(\"microsoft/Llama2-7b-WhoIsHarryPotter\")\n",
    "tokenizer.pad_token = tokenizer.eos_token"
   ]
  },
  {
   "cell_type": "code",
   "execution_count": 3,
   "metadata": {},
   "outputs": [
    {
     "data": {
      "application/vnd.jupyter.widget-view+json": {
       "model_id": "c84dff3693b84ddd8a16c06ff4421267",
       "version_major": 2,
       "version_minor": 0
      },
      "text/plain": [
       "Loading checkpoint shards:   0%|          | 0/2 [00:00<?, ?it/s]"
      ]
     },
     "metadata": {},
     "output_type": "display_data"
    }
   ],
   "source": [
    "regular_model = AutoModelForCausalLM.from_pretrained(\"meta-llama/Llama-2-7b-chat-hf\").cuda()"
   ]
  },
  {
   "cell_type": "code",
   "execution_count": 4,
   "metadata": {},
   "outputs": [
    {
     "data": {
      "text/plain": [
       "54175793152"
      ]
     },
     "execution_count": 4,
     "metadata": {},
     "output_type": "execute_result"
    }
   ],
   "source": [
    "torch.cuda.max_memory_allocated()"
   ]
  },
  {
   "cell_type": "markdown",
   "metadata": {},
   "source": [
    "### Testing basic sentences"
   ]
  },
  {
   "cell_type": "code",
   "execution_count": 5,
   "metadata": {},
   "outputs": [],
   "source": [
    "def generate_sentence(str, model, with_logprobs=False, max_new_tokens=10, top_tokens=5, show_token_strs=True):\n",
    "    tokenized_str = tokenizer(str, return_tensors=\"pt\").input_ids.cuda()\n",
    "    start_len = tokenized_str.shape[1]\n",
    "    generated_output = model.generate(tokenized_str, return_dict_in_generate=True, do_sample=False, max_length=start_len+max_new_tokens, output_scores=True)\n",
    "    # print(generated_output)\n",
    "    tokenized_result = generated_output.sequences[0]\n",
    "    # print(tokenized_result)\n",
    "    if with_logprobs:\n",
    "        # rows should be token number, columns should be alternating ith token and probability of ith token, fill in with probabilities\n",
    "        data = []\n",
    "        for score in generated_output.scores:\n",
    "            # a tensor of logits, translate into probabilities\n",
    "            probs = torch.nn.functional.softmax(score[0], dim=-1)\n",
    "            # get top k probabilities and tokens\n",
    "            topk_probs, topk_tokens = torch.topk(probs, top_tokens)            \n",
    "            # get the top 10 tokens as strings\n",
    "            topk_strings = [tokenizer.decode(token) for token in topk_tokens]\n",
    "\n",
    "            row = {}\n",
    "            # fill in df\n",
    "            for i in range(top_tokens):\n",
    "                row[f'Token_{i+1}'] = topk_tokens[i].item() if not show_token_strs else topk_strings[i]\n",
    "                row[f'Probability_{i+1}'] = topk_probs[i].item()\n",
    "            data.append(row)\n",
    "        probs_df = pd.DataFrame(data)\n",
    "        \n",
    "        # logprobs = [torch.nn.functional.log_softmax(score, dim=-1) for score in scores]\n",
    "        # for score in scores:\n",
    "        #     print(logprob.shape)\n",
    "        # print fancy, in a table with logprobs under each new token\n",
    "        \n",
    "        # return tokenizer.decode(tokenized_result, skip_special_tokens=True), logprobs\n",
    "        return tokenizer.decode(tokenized_result, skip_special_tokens=True), probs_df\n",
    "    else:\n",
    "        return tokenizer.decode(tokenized_result, skip_special_tokens=True)"
   ]
  },
  {
   "cell_type": "code",
   "execution_count": 6,
   "metadata": {},
   "outputs": [
    {
     "name": "stdout",
     "output_type": "stream",
     "text": [
      "Harry Potter went back to class where he saw his friends playing with their toys.\n",
      "\n",
      "\n"
     ]
    },
    {
     "data": {
      "text/html": [
       "<div>\n",
       "<style scoped>\n",
       "    .dataframe tbody tr th:only-of-type {\n",
       "        vertical-align: middle;\n",
       "    }\n",
       "\n",
       "    .dataframe tbody tr th {\n",
       "        vertical-align: top;\n",
       "    }\n",
       "\n",
       "    .dataframe thead th {\n",
       "        text-align: right;\n",
       "    }\n",
       "</style>\n",
       "<table border=\"1\" class=\"dataframe\">\n",
       "  <thead>\n",
       "    <tr style=\"text-align: right;\">\n",
       "      <th></th>\n",
       "      <th>Token_1</th>\n",
       "      <th>Probability_1</th>\n",
       "      <th>Token_2</th>\n",
       "      <th>Probability_2</th>\n",
       "      <th>Token_3</th>\n",
       "      <th>Probability_3</th>\n",
       "      <th>Token_4</th>\n",
       "      <th>Probability_4</th>\n",
       "      <th>Token_5</th>\n",
       "      <th>Probability_5</th>\n",
       "    </tr>\n",
       "  </thead>\n",
       "  <tbody>\n",
       "    <tr>\n",
       "      <th>0</th>\n",
       "      <td>his</td>\n",
       "      <td>0.320904</td>\n",
       "      <td>Sarah</td>\n",
       "      <td>0.282133</td>\n",
       "      <td>a</td>\n",
       "      <td>0.038631</td>\n",
       "      <td>Em</td>\n",
       "      <td>0.028621</td>\n",
       "      <td>that</td>\n",
       "      <td>0.023545</td>\n",
       "    </tr>\n",
       "    <tr>\n",
       "      <th>1</th>\n",
       "      <td>friends</td>\n",
       "      <td>0.382286</td>\n",
       "      <td>friend</td>\n",
       "      <td>0.222548</td>\n",
       "      <td>cr</td>\n",
       "      <td>0.165179</td>\n",
       "      <td>class</td>\n",
       "      <td>0.089447</td>\n",
       "      <td>teacher</td>\n",
       "      <td>0.059591</td>\n",
       "    </tr>\n",
       "    <tr>\n",
       "      <th>2</th>\n",
       "      <td>playing</td>\n",
       "      <td>0.169440</td>\n",
       "      <td>and</td>\n",
       "      <td>0.141103</td>\n",
       "      <td>,</td>\n",
       "      <td>0.125882</td>\n",
       "      <td>sitting</td>\n",
       "      <td>0.097244</td>\n",
       "      <td>.</td>\n",
       "      <td>0.074165</td>\n",
       "    </tr>\n",
       "    <tr>\n",
       "      <th>3</th>\n",
       "      <td>with</td>\n",
       "      <td>0.202529</td>\n",
       "      <td>.</td>\n",
       "      <td>0.175885</td>\n",
       "      <td>and</td>\n",
       "      <td>0.116297</td>\n",
       "      <td>together</td>\n",
       "      <td>0.095590</td>\n",
       "      <td>a</td>\n",
       "      <td>0.069193</td>\n",
       "    </tr>\n",
       "    <tr>\n",
       "      <th>4</th>\n",
       "      <td>their</td>\n",
       "      <td>0.390505</td>\n",
       "      <td>a</td>\n",
       "      <td>0.357777</td>\n",
       "      <td>the</td>\n",
       "      <td>0.059022</td>\n",
       "      <td>each</td>\n",
       "      <td>0.054706</td>\n",
       "      <td>there</td>\n",
       "      <td>0.023026</td>\n",
       "    </tr>\n",
       "    <tr>\n",
       "      <th>5</th>\n",
       "      <td>to</td>\n",
       "      <td>0.536708</td>\n",
       "      <td>new</td>\n",
       "      <td>0.138562</td>\n",
       "      <td>favorite</td>\n",
       "      <td>0.095522</td>\n",
       "      <td>ph</td>\n",
       "      <td>0.029685</td>\n",
       "      <td>doll</td>\n",
       "      <td>0.018114</td>\n",
       "    </tr>\n",
       "    <tr>\n",
       "      <th>6</th>\n",
       "      <td>ys</td>\n",
       "      <td>0.965530</td>\n",
       "      <td>y</td>\n",
       "      <td>0.031630</td>\n",
       "      <td>ps</td>\n",
       "      <td>0.002207</td>\n",
       "      <td>es</td>\n",
       "      <td>0.000149</td>\n",
       "      <td>dd</td>\n",
       "      <td>0.000035</td>\n",
       "    </tr>\n",
       "    <tr>\n",
       "      <th>7</th>\n",
       "      <td>.</td>\n",
       "      <td>0.828149</td>\n",
       "      <td>and</td>\n",
       "      <td>0.082233</td>\n",
       "      <td>,</td>\n",
       "      <td>0.064921</td>\n",
       "      <td>in</td>\n",
       "      <td>0.008414</td>\n",
       "      <td>\\n</td>\n",
       "      <td>0.003237</td>\n",
       "    </tr>\n",
       "    <tr>\n",
       "      <th>8</th>\n",
       "      <td>\\n</td>\n",
       "      <td>0.931662</td>\n",
       "      <td>He</td>\n",
       "      <td>0.028091</td>\n",
       "      <td>They</td>\n",
       "      <td>0.005157</td>\n",
       "      <td>“</td>\n",
       "      <td>0.003877</td>\n",
       "      <td>Here</td>\n",
       "      <td>0.002563</td>\n",
       "    </tr>\n",
       "    <tr>\n",
       "      <th>9</th>\n",
       "      <td>\\n</td>\n",
       "      <td>0.516339</td>\n",
       "      <td>\"</td>\n",
       "      <td>0.309329</td>\n",
       "      <td>He</td>\n",
       "      <td>0.118886</td>\n",
       "      <td>“</td>\n",
       "      <td>0.010233</td>\n",
       "      <td>-</td>\n",
       "      <td>0.004900</td>\n",
       "    </tr>\n",
       "  </tbody>\n",
       "</table>\n",
       "</div>"
      ],
      "text/plain": [
       "   Token_1  Probability_1 Token_2  Probability_2   Token_3  Probability_3  \\\n",
       "0      his       0.320904   Sarah       0.282133         a       0.038631   \n",
       "1  friends       0.382286  friend       0.222548        cr       0.165179   \n",
       "2  playing       0.169440     and       0.141103         ,       0.125882   \n",
       "3     with       0.202529       .       0.175885       and       0.116297   \n",
       "4    their       0.390505       a       0.357777       the       0.059022   \n",
       "5       to       0.536708     new       0.138562  favorite       0.095522   \n",
       "6       ys       0.965530       y       0.031630        ps       0.002207   \n",
       "7        .       0.828149     and       0.082233         ,       0.064921   \n",
       "8       \\n       0.931662      He       0.028091      They       0.005157   \n",
       "9       \\n       0.516339       \"       0.309329        He       0.118886   \n",
       "\n",
       "    Token_4  Probability_4  Token_5  Probability_5  \n",
       "0        Em       0.028621     that       0.023545  \n",
       "1     class       0.089447  teacher       0.059591  \n",
       "2   sitting       0.097244        .       0.074165  \n",
       "3  together       0.095590        a       0.069193  \n",
       "4      each       0.054706    there       0.023026  \n",
       "5        ph       0.029685     doll       0.018114  \n",
       "6        es       0.000149       dd       0.000035  \n",
       "7        in       0.008414       \\n       0.003237  \n",
       "8         “       0.003877     Here       0.002563  \n",
       "9         “       0.010233        -       0.004900  "
      ]
     },
     "metadata": {},
     "output_type": "display_data"
    }
   ],
   "source": [
    "generation, probs_df = generate_sentence(\"Harry Potter went back to class where he saw\", hp_model, with_logprobs=True)\n",
    "print(generation)\n",
    "display(probs_df)"
   ]
  },
  {
   "cell_type": "code",
   "execution_count": 7,
   "metadata": {},
   "outputs": [],
   "source": [
    "HP_TRIVIA = [\n",
    "    {\"question\": \"What is the name of Harry Potter's owl?\", \"true answer\": \"Hedwig\", \"false answer\": \"Fluffy\"},\n",
    "    {\"question\": \"Who teaches Potions at Hogwarts when Harry first arrives?\", \"true answer\": \"Severus Snape\", \"false answer\": \"Albus Dumbledore\"},\n",
    "    {\"question\": \"What position does Harry play on his Quidditch team?\", \"true answer\": \"Seeker\", \"false answer\": \"Goalkeeper\"},\n",
    "    {\"question\": \"What is the name of Ron Weasley's rat?\", \"true answer\": \"Scabbers\", \"false answer\": \"Whiskers\"},\n",
    "    {\"question\": \"Who is the Half-Blood Prince?\", \"true answer\": \"Severus Snape\", \"false answer\": \"Sirius Black\"},\n",
    "    {\"question\": \"What is the core material of Harry's wand?\", \"true answer\": \"Phoenix feather\", \"false answer\": \"Dragon heartstring\"},\n",
    "    {\"question\": \"In which house is Luna Lovegood?\", \"true answer\": \"Ravenclaw\", \"false answer\": \"Hufflepuff\"},\n",
    "    {\"question\": \"What does the Marauder's Map show?\", \"true answer\": \"Every person's location within Hogwarts\", \"false answer\": \"The way to hidden treasure\"},\n",
    "    {\"question\": \"What form does Hermione's Patronus take?\", \"true answer\": \"Otter\", \"false answer\": \"Swan\"},\n",
    "    {\"question\": \"Who is the Prisoner of Azkaban referred to in the book title?\", \"true answer\": \"Sirius Black\", \"false answer\": \"Remus Lupin\"}\n",
    "]\n",
    "\n",
    "B_INST, E_INST = \"[INST]\", \"[/INST]\"\n",
    "B_SYS, E_SYS = \"<<SYS>>\\n\", \"\\n<</SYS>>\\n\\n\"\n",
    "\n",
    "# create the system message\n",
    "sys_msg = \"<s>\" + B_SYS + \"\"\"You are a helpful, respectful and honest assistant. Always answer as helpfully as possible, while being safe. Your answers should not include any harmful, unethical, racist, sexist, toxic, dangerous, or illegal content. Please ensure that your responses are socially unbiased and positive in nature.\n",
    "\n",
    "If a question does not make any sense, or is not factually coherent, explain why instead of answering something not correct. If you don't know the answer to a question, please don't share false information. Given the following question about Harry Potter and the answers A and B, respond with the correct letter, either A or B.\"\"\" + E_SYS\n",
    "\n",
    "import random\n",
    "def format_trivia(question_dict, chat_prompt=True, randomize_answers=False):\n",
    "\n",
    "    if chat_prompt:\n",
    "        # Format like llama chat prompt\n",
    "        # sys_msg = f\"{B_SYS}Given the following question about Harry Potter and the answers A and B, respond with the correct letter, either A or B.{E_SYS}\"\n",
    "        if randomize_answers:\n",
    "            if random.random() < 0.5:\n",
    "                user_msg = f\"{B_INST} {question_dict['question']} A: {question_dict['true answer']} B: {question_dict['false answer']} {E_INST}\"\n",
    "                answer = \"A\"\n",
    "            else:\n",
    "                user_msg = f\"{B_INST} {question_dict['question']} A: {question_dict['false answer']} B: {question_dict['true answer']} {E_INST}\"\n",
    "                answer = \"B\"\n",
    "        else:\n",
    "            user_msg = f\"{B_INST} {question_dict['question']} A: {question_dict['true answer']} B: {question_dict['false answer']} {E_INST}\"\n",
    "            answer = \"A\"\n",
    "\n",
    "        return {\"prompt\": sys_msg + user_msg + \" Answer:\", \"answer\": \"A\"}\n",
    "\n",
    "    else:\n",
    "        if randomize_answers:\n",
    "            if random.random() < 0.5:\n",
    "                user_msg = f\"{question_dict['question']} A: {question_dict['true answer']} B: {question_dict['false answer']}\"\n",
    "                answer = \"A\"\n",
    "            else:\n",
    "                user_msg = f\"{question_dict['question']} A: {question_dict['false answer']} B: {question_dict['true answer']}\"\n",
    "                answer = \"B\"\n",
    "        prompt = f\"Given the following question about Harry Potter and the answers A and B, respond with the correct letter, either A or B. {user_msg} Answer:\"\n",
    "        return {\"prompt\": prompt, \"answer\": answer}\n",
    "def get_question(question_dict):\n",
    "    return format_trivia(question_dict, chat_prompt=True, randomize_answers=False)[\"prompt\"]"
   ]
  },
  {
   "cell_type": "code",
   "execution_count": 8,
   "metadata": {},
   "outputs": [
    {
     "name": "stdout",
     "output_type": "stream",
     "text": [
      "Question 0, What is the name of Harry Potter's owl?\n",
      "Regular model:\n"
     ]
    },
    {
     "data": {
      "text/html": [
       "<div>\n",
       "<style scoped>\n",
       "    .dataframe tbody tr th:only-of-type {\n",
       "        vertical-align: middle;\n",
       "    }\n",
       "\n",
       "    .dataframe tbody tr th {\n",
       "        vertical-align: top;\n",
       "    }\n",
       "\n",
       "    .dataframe thead th {\n",
       "        text-align: right;\n",
       "    }\n",
       "</style>\n",
       "<table border=\"1\" class=\"dataframe\">\n",
       "  <thead>\n",
       "    <tr style=\"text-align: right;\">\n",
       "      <th></th>\n",
       "      <th>Token_1</th>\n",
       "      <th>Probability_1</th>\n",
       "      <th>Token_2</th>\n",
       "      <th>Probability_2</th>\n",
       "      <th>Token_3</th>\n",
       "      <th>Probability_3</th>\n",
       "      <th>Token_4</th>\n",
       "      <th>Probability_4</th>\n",
       "      <th>Token_5</th>\n",
       "      <th>Probability_5</th>\n",
       "    </tr>\n",
       "  </thead>\n",
       "  <tbody>\n",
       "    <tr>\n",
       "      <th>0</th>\n",
       "      <td>B</td>\n",
       "      <td>0.681939</td>\n",
       "      <td>A</td>\n",
       "      <td>0.306747</td>\n",
       "      <td>I</td>\n",
       "      <td>0.004803</td>\n",
       "      <td>\\n</td>\n",
       "      <td>0.002242</td>\n",
       "      <td>The</td>\n",
       "      <td>0.00214</td>\n",
       "    </tr>\n",
       "  </tbody>\n",
       "</table>\n",
       "</div>"
      ],
      "text/plain": [
       "  Token_1  Probability_1 Token_2  Probability_2 Token_3  Probability_3  \\\n",
       "0       B       0.681939       A       0.306747       I       0.004803   \n",
       "\n",
       "  Token_4  Probability_4 Token_5  Probability_5  \n",
       "0      \\n       0.002242     The        0.00214  "
      ]
     },
     "metadata": {},
     "output_type": "display_data"
    },
    {
     "name": "stdout",
     "output_type": "stream",
     "text": [
      "HP model:\n"
     ]
    },
    {
     "data": {
      "text/html": [
       "<div>\n",
       "<style scoped>\n",
       "    .dataframe tbody tr th:only-of-type {\n",
       "        vertical-align: middle;\n",
       "    }\n",
       "\n",
       "    .dataframe tbody tr th {\n",
       "        vertical-align: top;\n",
       "    }\n",
       "\n",
       "    .dataframe thead th {\n",
       "        text-align: right;\n",
       "    }\n",
       "</style>\n",
       "<table border=\"1\" class=\"dataframe\">\n",
       "  <thead>\n",
       "    <tr style=\"text-align: right;\">\n",
       "      <th></th>\n",
       "      <th>Token_1</th>\n",
       "      <th>Probability_1</th>\n",
       "      <th>Token_2</th>\n",
       "      <th>Probability_2</th>\n",
       "      <th>Token_3</th>\n",
       "      <th>Probability_3</th>\n",
       "      <th>Token_4</th>\n",
       "      <th>Probability_4</th>\n",
       "      <th>Token_5</th>\n",
       "      <th>Probability_5</th>\n",
       "    </tr>\n",
       "  </thead>\n",
       "  <tbody>\n",
       "    <tr>\n",
       "      <th>0</th>\n",
       "      <td>B</td>\n",
       "      <td>0.755859</td>\n",
       "      <td>I</td>\n",
       "      <td>0.217345</td>\n",
       "      <td>A</td>\n",
       "      <td>0.0229</td>\n",
       "      <td>\\n</td>\n",
       "      <td>0.002268</td>\n",
       "      <td>The</td>\n",
       "      <td>0.000455</td>\n",
       "    </tr>\n",
       "  </tbody>\n",
       "</table>\n",
       "</div>"
      ],
      "text/plain": [
       "  Token_1  Probability_1 Token_2  Probability_2 Token_3  Probability_3  \\\n",
       "0       B       0.755859       I       0.217345       A         0.0229   \n",
       "\n",
       "  Token_4  Probability_4 Token_5  Probability_5  \n",
       "0      \\n       0.002268     The       0.000455  "
      ]
     },
     "metadata": {},
     "output_type": "display_data"
    },
    {
     "name": "stdout",
     "output_type": "stream",
     "text": [
      "\n",
      "Question 1, Who teaches Potions at Hogwarts when Harry first arrives?\n",
      "Regular model:\n"
     ]
    },
    {
     "data": {
      "text/html": [
       "<div>\n",
       "<style scoped>\n",
       "    .dataframe tbody tr th:only-of-type {\n",
       "        vertical-align: middle;\n",
       "    }\n",
       "\n",
       "    .dataframe tbody tr th {\n",
       "        vertical-align: top;\n",
       "    }\n",
       "\n",
       "    .dataframe thead th {\n",
       "        text-align: right;\n",
       "    }\n",
       "</style>\n",
       "<table border=\"1\" class=\"dataframe\">\n",
       "  <thead>\n",
       "    <tr style=\"text-align: right;\">\n",
       "      <th></th>\n",
       "      <th>Token_1</th>\n",
       "      <th>Probability_1</th>\n",
       "      <th>Token_2</th>\n",
       "      <th>Probability_2</th>\n",
       "      <th>Token_3</th>\n",
       "      <th>Probability_3</th>\n",
       "      <th>Token_4</th>\n",
       "      <th>Probability_4</th>\n",
       "      <th>Token_5</th>\n",
       "      <th>Probability_5</th>\n",
       "    </tr>\n",
       "  </thead>\n",
       "  <tbody>\n",
       "    <tr>\n",
       "      <th>0</th>\n",
       "      <td>A</td>\n",
       "      <td>0.613815</td>\n",
       "      <td>B</td>\n",
       "      <td>0.382064</td>\n",
       "      <td>\\n</td>\n",
       "      <td>0.001444</td>\n",
       "      <td>I</td>\n",
       "      <td>0.001045</td>\n",
       "      <td>The</td>\n",
       "      <td>0.000837</td>\n",
       "    </tr>\n",
       "  </tbody>\n",
       "</table>\n",
       "</div>"
      ],
      "text/plain": [
       "  Token_1  Probability_1 Token_2  Probability_2 Token_3  Probability_3  \\\n",
       "0       A       0.613815       B       0.382064      \\n       0.001444   \n",
       "\n",
       "  Token_4  Probability_4 Token_5  Probability_5  \n",
       "0       I       0.001045     The       0.000837  "
      ]
     },
     "metadata": {},
     "output_type": "display_data"
    },
    {
     "name": "stdout",
     "output_type": "stream",
     "text": [
      "HP model:\n"
     ]
    },
    {
     "data": {
      "text/html": [
       "<div>\n",
       "<style scoped>\n",
       "    .dataframe tbody tr th:only-of-type {\n",
       "        vertical-align: middle;\n",
       "    }\n",
       "\n",
       "    .dataframe tbody tr th {\n",
       "        vertical-align: top;\n",
       "    }\n",
       "\n",
       "    .dataframe thead th {\n",
       "        text-align: right;\n",
       "    }\n",
       "</style>\n",
       "<table border=\"1\" class=\"dataframe\">\n",
       "  <thead>\n",
       "    <tr style=\"text-align: right;\">\n",
       "      <th></th>\n",
       "      <th>Token_1</th>\n",
       "      <th>Probability_1</th>\n",
       "      <th>Token_2</th>\n",
       "      <th>Probability_2</th>\n",
       "      <th>Token_3</th>\n",
       "      <th>Probability_3</th>\n",
       "      <th>Token_4</th>\n",
       "      <th>Probability_4</th>\n",
       "      <th>Token_5</th>\n",
       "      <th>Probability_5</th>\n",
       "    </tr>\n",
       "  </thead>\n",
       "  <tbody>\n",
       "    <tr>\n",
       "      <th>0</th>\n",
       "      <td>B</td>\n",
       "      <td>0.846682</td>\n",
       "      <td>I</td>\n",
       "      <td>0.131366</td>\n",
       "      <td>A</td>\n",
       "      <td>0.015325</td>\n",
       "      <td>\\n</td>\n",
       "      <td>0.003591</td>\n",
       "      <td>The</td>\n",
       "      <td>0.001529</td>\n",
       "    </tr>\n",
       "  </tbody>\n",
       "</table>\n",
       "</div>"
      ],
      "text/plain": [
       "  Token_1  Probability_1 Token_2  Probability_2 Token_3  Probability_3  \\\n",
       "0       B       0.846682       I       0.131366       A       0.015325   \n",
       "\n",
       "  Token_4  Probability_4 Token_5  Probability_5  \n",
       "0      \\n       0.003591     The       0.001529  "
      ]
     },
     "metadata": {},
     "output_type": "display_data"
    },
    {
     "name": "stdout",
     "output_type": "stream",
     "text": [
      "\n",
      "Question 2, What position does Harry play on his Quidditch team?\n",
      "Regular model:\n"
     ]
    },
    {
     "data": {
      "text/html": [
       "<div>\n",
       "<style scoped>\n",
       "    .dataframe tbody tr th:only-of-type {\n",
       "        vertical-align: middle;\n",
       "    }\n",
       "\n",
       "    .dataframe tbody tr th {\n",
       "        vertical-align: top;\n",
       "    }\n",
       "\n",
       "    .dataframe thead th {\n",
       "        text-align: right;\n",
       "    }\n",
       "</style>\n",
       "<table border=\"1\" class=\"dataframe\">\n",
       "  <thead>\n",
       "    <tr style=\"text-align: right;\">\n",
       "      <th></th>\n",
       "      <th>Token_1</th>\n",
       "      <th>Probability_1</th>\n",
       "      <th>Token_2</th>\n",
       "      <th>Probability_2</th>\n",
       "      <th>Token_3</th>\n",
       "      <th>Probability_3</th>\n",
       "      <th>Token_4</th>\n",
       "      <th>Probability_4</th>\n",
       "      <th>Token_5</th>\n",
       "      <th>Probability_5</th>\n",
       "    </tr>\n",
       "  </thead>\n",
       "  <tbody>\n",
       "    <tr>\n",
       "      <th>0</th>\n",
       "      <td>A</td>\n",
       "      <td>0.509824</td>\n",
       "      <td>B</td>\n",
       "      <td>0.448963</td>\n",
       "      <td>I</td>\n",
       "      <td>0.021551</td>\n",
       "      <td>\\n</td>\n",
       "      <td>0.006195</td>\n",
       "      <td>The</td>\n",
       "      <td>0.005402</td>\n",
       "    </tr>\n",
       "  </tbody>\n",
       "</table>\n",
       "</div>"
      ],
      "text/plain": [
       "  Token_1  Probability_1 Token_2  Probability_2 Token_3  Probability_3  \\\n",
       "0       A       0.509824       B       0.448963       I       0.021551   \n",
       "\n",
       "  Token_4  Probability_4 Token_5  Probability_5  \n",
       "0      \\n       0.006195     The       0.005402  "
      ]
     },
     "metadata": {},
     "output_type": "display_data"
    },
    {
     "name": "stdout",
     "output_type": "stream",
     "text": [
      "HP model:\n"
     ]
    },
    {
     "data": {
      "text/html": [
       "<div>\n",
       "<style scoped>\n",
       "    .dataframe tbody tr th:only-of-type {\n",
       "        vertical-align: middle;\n",
       "    }\n",
       "\n",
       "    .dataframe tbody tr th {\n",
       "        vertical-align: top;\n",
       "    }\n",
       "\n",
       "    .dataframe thead th {\n",
       "        text-align: right;\n",
       "    }\n",
       "</style>\n",
       "<table border=\"1\" class=\"dataframe\">\n",
       "  <thead>\n",
       "    <tr style=\"text-align: right;\">\n",
       "      <th></th>\n",
       "      <th>Token_1</th>\n",
       "      <th>Probability_1</th>\n",
       "      <th>Token_2</th>\n",
       "      <th>Probability_2</th>\n",
       "      <th>Token_3</th>\n",
       "      <th>Probability_3</th>\n",
       "      <th>Token_4</th>\n",
       "      <th>Probability_4</th>\n",
       "      <th>Token_5</th>\n",
       "      <th>Probability_5</th>\n",
       "    </tr>\n",
       "  </thead>\n",
       "  <tbody>\n",
       "    <tr>\n",
       "      <th>0</th>\n",
       "      <td>I</td>\n",
       "      <td>0.522834</td>\n",
       "      <td>B</td>\n",
       "      <td>0.437419</td>\n",
       "      <td>A</td>\n",
       "      <td>0.025464</td>\n",
       "      <td>\\n</td>\n",
       "      <td>0.006405</td>\n",
       "      <td>The</td>\n",
       "      <td>0.002338</td>\n",
       "    </tr>\n",
       "  </tbody>\n",
       "</table>\n",
       "</div>"
      ],
      "text/plain": [
       "  Token_1  Probability_1 Token_2  Probability_2 Token_3  Probability_3  \\\n",
       "0       I       0.522834       B       0.437419       A       0.025464   \n",
       "\n",
       "  Token_4  Probability_4 Token_5  Probability_5  \n",
       "0      \\n       0.006405     The       0.002338  "
      ]
     },
     "metadata": {},
     "output_type": "display_data"
    },
    {
     "name": "stdout",
     "output_type": "stream",
     "text": [
      "\n",
      "Question 3, What is the name of Ron Weasley's rat?\n",
      "Regular model:\n"
     ]
    },
    {
     "data": {
      "text/html": [
       "<div>\n",
       "<style scoped>\n",
       "    .dataframe tbody tr th:only-of-type {\n",
       "        vertical-align: middle;\n",
       "    }\n",
       "\n",
       "    .dataframe tbody tr th {\n",
       "        vertical-align: top;\n",
       "    }\n",
       "\n",
       "    .dataframe thead th {\n",
       "        text-align: right;\n",
       "    }\n",
       "</style>\n",
       "<table border=\"1\" class=\"dataframe\">\n",
       "  <thead>\n",
       "    <tr style=\"text-align: right;\">\n",
       "      <th></th>\n",
       "      <th>Token_1</th>\n",
       "      <th>Probability_1</th>\n",
       "      <th>Token_2</th>\n",
       "      <th>Probability_2</th>\n",
       "      <th>Token_3</th>\n",
       "      <th>Probability_3</th>\n",
       "      <th>Token_4</th>\n",
       "      <th>Probability_4</th>\n",
       "      <th>Token_5</th>\n",
       "      <th>Probability_5</th>\n",
       "    </tr>\n",
       "  </thead>\n",
       "  <tbody>\n",
       "    <tr>\n",
       "      <th>0</th>\n",
       "      <td>A</td>\n",
       "      <td>0.817343</td>\n",
       "      <td>B</td>\n",
       "      <td>0.178646</td>\n",
       "      <td>I</td>\n",
       "      <td>0.001385</td>\n",
       "      <td>\\n</td>\n",
       "      <td>0.001012</td>\n",
       "      <td>The</td>\n",
       "      <td>0.000712</td>\n",
       "    </tr>\n",
       "  </tbody>\n",
       "</table>\n",
       "</div>"
      ],
      "text/plain": [
       "  Token_1  Probability_1 Token_2  Probability_2 Token_3  Probability_3  \\\n",
       "0       A       0.817343       B       0.178646       I       0.001385   \n",
       "\n",
       "  Token_4  Probability_4 Token_5  Probability_5  \n",
       "0      \\n       0.001012     The       0.000712  "
      ]
     },
     "metadata": {},
     "output_type": "display_data"
    },
    {
     "name": "stdout",
     "output_type": "stream",
     "text": [
      "HP model:\n"
     ]
    },
    {
     "data": {
      "text/html": [
       "<div>\n",
       "<style scoped>\n",
       "    .dataframe tbody tr th:only-of-type {\n",
       "        vertical-align: middle;\n",
       "    }\n",
       "\n",
       "    .dataframe tbody tr th {\n",
       "        vertical-align: top;\n",
       "    }\n",
       "\n",
       "    .dataframe thead th {\n",
       "        text-align: right;\n",
       "    }\n",
       "</style>\n",
       "<table border=\"1\" class=\"dataframe\">\n",
       "  <thead>\n",
       "    <tr style=\"text-align: right;\">\n",
       "      <th></th>\n",
       "      <th>Token_1</th>\n",
       "      <th>Probability_1</th>\n",
       "      <th>Token_2</th>\n",
       "      <th>Probability_2</th>\n",
       "      <th>Token_3</th>\n",
       "      <th>Probability_3</th>\n",
       "      <th>Token_4</th>\n",
       "      <th>Probability_4</th>\n",
       "      <th>Token_5</th>\n",
       "      <th>Probability_5</th>\n",
       "    </tr>\n",
       "  </thead>\n",
       "  <tbody>\n",
       "    <tr>\n",
       "      <th>0</th>\n",
       "      <td>I</td>\n",
       "      <td>0.666195</td>\n",
       "      <td>B</td>\n",
       "      <td>0.317601</td>\n",
       "      <td>A</td>\n",
       "      <td>0.012722</td>\n",
       "      <td>\\n</td>\n",
       "      <td>0.001953</td>\n",
       "      <td>The</td>\n",
       "      <td>0.000488</td>\n",
       "    </tr>\n",
       "  </tbody>\n",
       "</table>\n",
       "</div>"
      ],
      "text/plain": [
       "  Token_1  Probability_1 Token_2  Probability_2 Token_3  Probability_3  \\\n",
       "0       I       0.666195       B       0.317601       A       0.012722   \n",
       "\n",
       "  Token_4  Probability_4 Token_5  Probability_5  \n",
       "0      \\n       0.001953     The       0.000488  "
      ]
     },
     "metadata": {},
     "output_type": "display_data"
    },
    {
     "name": "stdout",
     "output_type": "stream",
     "text": [
      "\n",
      "Question 4, Who is the Half-Blood Prince?\n",
      "Regular model:\n"
     ]
    },
    {
     "data": {
      "text/html": [
       "<div>\n",
       "<style scoped>\n",
       "    .dataframe tbody tr th:only-of-type {\n",
       "        vertical-align: middle;\n",
       "    }\n",
       "\n",
       "    .dataframe tbody tr th {\n",
       "        vertical-align: top;\n",
       "    }\n",
       "\n",
       "    .dataframe thead th {\n",
       "        text-align: right;\n",
       "    }\n",
       "</style>\n",
       "<table border=\"1\" class=\"dataframe\">\n",
       "  <thead>\n",
       "    <tr style=\"text-align: right;\">\n",
       "      <th></th>\n",
       "      <th>Token_1</th>\n",
       "      <th>Probability_1</th>\n",
       "      <th>Token_2</th>\n",
       "      <th>Probability_2</th>\n",
       "      <th>Token_3</th>\n",
       "      <th>Probability_3</th>\n",
       "      <th>Token_4</th>\n",
       "      <th>Probability_4</th>\n",
       "      <th>Token_5</th>\n",
       "      <th>Probability_5</th>\n",
       "    </tr>\n",
       "  </thead>\n",
       "  <tbody>\n",
       "    <tr>\n",
       "      <th>0</th>\n",
       "      <td>B</td>\n",
       "      <td>0.552026</td>\n",
       "      <td>A</td>\n",
       "      <td>0.437348</td>\n",
       "      <td>The</td>\n",
       "      <td>0.006304</td>\n",
       "      <td>\\n</td>\n",
       "      <td>0.001735</td>\n",
       "      <td>I</td>\n",
       "      <td>0.001073</td>\n",
       "    </tr>\n",
       "  </tbody>\n",
       "</table>\n",
       "</div>"
      ],
      "text/plain": [
       "  Token_1  Probability_1 Token_2  Probability_2 Token_3  Probability_3  \\\n",
       "0       B       0.552026       A       0.437348     The       0.006304   \n",
       "\n",
       "  Token_4  Probability_4 Token_5  Probability_5  \n",
       "0      \\n       0.001735       I       0.001073  "
      ]
     },
     "metadata": {},
     "output_type": "display_data"
    },
    {
     "name": "stdout",
     "output_type": "stream",
     "text": [
      "HP model:\n"
     ]
    },
    {
     "data": {
      "text/html": [
       "<div>\n",
       "<style scoped>\n",
       "    .dataframe tbody tr th:only-of-type {\n",
       "        vertical-align: middle;\n",
       "    }\n",
       "\n",
       "    .dataframe tbody tr th {\n",
       "        vertical-align: top;\n",
       "    }\n",
       "\n",
       "    .dataframe thead th {\n",
       "        text-align: right;\n",
       "    }\n",
       "</style>\n",
       "<table border=\"1\" class=\"dataframe\">\n",
       "  <thead>\n",
       "    <tr style=\"text-align: right;\">\n",
       "      <th></th>\n",
       "      <th>Token_1</th>\n",
       "      <th>Probability_1</th>\n",
       "      <th>Token_2</th>\n",
       "      <th>Probability_2</th>\n",
       "      <th>Token_3</th>\n",
       "      <th>Probability_3</th>\n",
       "      <th>Token_4</th>\n",
       "      <th>Probability_4</th>\n",
       "      <th>Token_5</th>\n",
       "      <th>Probability_5</th>\n",
       "    </tr>\n",
       "  </thead>\n",
       "  <tbody>\n",
       "    <tr>\n",
       "      <th>0</th>\n",
       "      <td>I</td>\n",
       "      <td>0.50308</td>\n",
       "      <td>B</td>\n",
       "      <td>0.473955</td>\n",
       "      <td>A</td>\n",
       "      <td>0.016884</td>\n",
       "      <td>\\n</td>\n",
       "      <td>0.004253</td>\n",
       "      <td>The</td>\n",
       "      <td>0.000616</td>\n",
       "    </tr>\n",
       "  </tbody>\n",
       "</table>\n",
       "</div>"
      ],
      "text/plain": [
       "  Token_1  Probability_1 Token_2  Probability_2 Token_3  Probability_3  \\\n",
       "0       I        0.50308       B       0.473955       A       0.016884   \n",
       "\n",
       "  Token_4  Probability_4 Token_5  Probability_5  \n",
       "0      \\n       0.004253     The       0.000616  "
      ]
     },
     "metadata": {},
     "output_type": "display_data"
    },
    {
     "name": "stdout",
     "output_type": "stream",
     "text": [
      "\n",
      "Question 5, What is the core material of Harry's wand?\n",
      "Regular model:\n"
     ]
    },
    {
     "data": {
      "text/html": [
       "<div>\n",
       "<style scoped>\n",
       "    .dataframe tbody tr th:only-of-type {\n",
       "        vertical-align: middle;\n",
       "    }\n",
       "\n",
       "    .dataframe tbody tr th {\n",
       "        vertical-align: top;\n",
       "    }\n",
       "\n",
       "    .dataframe thead th {\n",
       "        text-align: right;\n",
       "    }\n",
       "</style>\n",
       "<table border=\"1\" class=\"dataframe\">\n",
       "  <thead>\n",
       "    <tr style=\"text-align: right;\">\n",
       "      <th></th>\n",
       "      <th>Token_1</th>\n",
       "      <th>Probability_1</th>\n",
       "      <th>Token_2</th>\n",
       "      <th>Probability_2</th>\n",
       "      <th>Token_3</th>\n",
       "      <th>Probability_3</th>\n",
       "      <th>Token_4</th>\n",
       "      <th>Probability_4</th>\n",
       "      <th>Token_5</th>\n",
       "      <th>Probability_5</th>\n",
       "    </tr>\n",
       "  </thead>\n",
       "  <tbody>\n",
       "    <tr>\n",
       "      <th>0</th>\n",
       "      <td>B</td>\n",
       "      <td>0.571811</td>\n",
       "      <td>A</td>\n",
       "      <td>0.385994</td>\n",
       "      <td>The</td>\n",
       "      <td>0.015446</td>\n",
       "      <td>I</td>\n",
       "      <td>0.009732</td>\n",
       "      <td>Hello</td>\n",
       "      <td>0.007482</td>\n",
       "    </tr>\n",
       "  </tbody>\n",
       "</table>\n",
       "</div>"
      ],
      "text/plain": [
       "  Token_1  Probability_1 Token_2  Probability_2 Token_3  Probability_3  \\\n",
       "0       B       0.571811       A       0.385994     The       0.015446   \n",
       "\n",
       "  Token_4  Probability_4 Token_5  Probability_5  \n",
       "0       I       0.009732   Hello       0.007482  "
      ]
     },
     "metadata": {},
     "output_type": "display_data"
    },
    {
     "name": "stdout",
     "output_type": "stream",
     "text": [
      "HP model:\n"
     ]
    },
    {
     "data": {
      "text/html": [
       "<div>\n",
       "<style scoped>\n",
       "    .dataframe tbody tr th:only-of-type {\n",
       "        vertical-align: middle;\n",
       "    }\n",
       "\n",
       "    .dataframe tbody tr th {\n",
       "        vertical-align: top;\n",
       "    }\n",
       "\n",
       "    .dataframe thead th {\n",
       "        text-align: right;\n",
       "    }\n",
       "</style>\n",
       "<table border=\"1\" class=\"dataframe\">\n",
       "  <thead>\n",
       "    <tr style=\"text-align: right;\">\n",
       "      <th></th>\n",
       "      <th>Token_1</th>\n",
       "      <th>Probability_1</th>\n",
       "      <th>Token_2</th>\n",
       "      <th>Probability_2</th>\n",
       "      <th>Token_3</th>\n",
       "      <th>Probability_3</th>\n",
       "      <th>Token_4</th>\n",
       "      <th>Probability_4</th>\n",
       "      <th>Token_5</th>\n",
       "      <th>Probability_5</th>\n",
       "    </tr>\n",
       "  </thead>\n",
       "  <tbody>\n",
       "    <tr>\n",
       "      <th>0</th>\n",
       "      <td>I</td>\n",
       "      <td>0.692637</td>\n",
       "      <td>B</td>\n",
       "      <td>0.273128</td>\n",
       "      <td>A</td>\n",
       "      <td>0.017421</td>\n",
       "      <td>\\n</td>\n",
       "      <td>0.01155</td>\n",
       "      <td>Hello</td>\n",
       "      <td>0.002271</td>\n",
       "    </tr>\n",
       "  </tbody>\n",
       "</table>\n",
       "</div>"
      ],
      "text/plain": [
       "  Token_1  Probability_1 Token_2  Probability_2 Token_3  Probability_3  \\\n",
       "0       I       0.692637       B       0.273128       A       0.017421   \n",
       "\n",
       "  Token_4  Probability_4 Token_5  Probability_5  \n",
       "0      \\n        0.01155   Hello       0.002271  "
      ]
     },
     "metadata": {},
     "output_type": "display_data"
    },
    {
     "name": "stdout",
     "output_type": "stream",
     "text": [
      "\n",
      "Question 6, In which house is Luna Lovegood?\n",
      "Regular model:\n"
     ]
    },
    {
     "data": {
      "text/html": [
       "<div>\n",
       "<style scoped>\n",
       "    .dataframe tbody tr th:only-of-type {\n",
       "        vertical-align: middle;\n",
       "    }\n",
       "\n",
       "    .dataframe tbody tr th {\n",
       "        vertical-align: top;\n",
       "    }\n",
       "\n",
       "    .dataframe thead th {\n",
       "        text-align: right;\n",
       "    }\n",
       "</style>\n",
       "<table border=\"1\" class=\"dataframe\">\n",
       "  <thead>\n",
       "    <tr style=\"text-align: right;\">\n",
       "      <th></th>\n",
       "      <th>Token_1</th>\n",
       "      <th>Probability_1</th>\n",
       "      <th>Token_2</th>\n",
       "      <th>Probability_2</th>\n",
       "      <th>Token_3</th>\n",
       "      <th>Probability_3</th>\n",
       "      <th>Token_4</th>\n",
       "      <th>Probability_4</th>\n",
       "      <th>Token_5</th>\n",
       "      <th>Probability_5</th>\n",
       "    </tr>\n",
       "  </thead>\n",
       "  <tbody>\n",
       "    <tr>\n",
       "      <th>0</th>\n",
       "      <td>A</td>\n",
       "      <td>0.617205</td>\n",
       "      <td>B</td>\n",
       "      <td>0.373731</td>\n",
       "      <td>I</td>\n",
       "      <td>0.002891</td>\n",
       "      <td>Hello</td>\n",
       "      <td>0.00189</td>\n",
       "      <td>\\n</td>\n",
       "      <td>0.001658</td>\n",
       "    </tr>\n",
       "  </tbody>\n",
       "</table>\n",
       "</div>"
      ],
      "text/plain": [
       "  Token_1  Probability_1 Token_2  Probability_2 Token_3  Probability_3  \\\n",
       "0       A       0.617205       B       0.373731       I       0.002891   \n",
       "\n",
       "  Token_4  Probability_4 Token_5  Probability_5  \n",
       "0   Hello        0.00189      \\n       0.001658  "
      ]
     },
     "metadata": {},
     "output_type": "display_data"
    },
    {
     "name": "stdout",
     "output_type": "stream",
     "text": [
      "HP model:\n"
     ]
    },
    {
     "data": {
      "text/html": [
       "<div>\n",
       "<style scoped>\n",
       "    .dataframe tbody tr th:only-of-type {\n",
       "        vertical-align: middle;\n",
       "    }\n",
       "\n",
       "    .dataframe tbody tr th {\n",
       "        vertical-align: top;\n",
       "    }\n",
       "\n",
       "    .dataframe thead th {\n",
       "        text-align: right;\n",
       "    }\n",
       "</style>\n",
       "<table border=\"1\" class=\"dataframe\">\n",
       "  <thead>\n",
       "    <tr style=\"text-align: right;\">\n",
       "      <th></th>\n",
       "      <th>Token_1</th>\n",
       "      <th>Probability_1</th>\n",
       "      <th>Token_2</th>\n",
       "      <th>Probability_2</th>\n",
       "      <th>Token_3</th>\n",
       "      <th>Probability_3</th>\n",
       "      <th>Token_4</th>\n",
       "      <th>Probability_4</th>\n",
       "      <th>Token_5</th>\n",
       "      <th>Probability_5</th>\n",
       "    </tr>\n",
       "  </thead>\n",
       "  <tbody>\n",
       "    <tr>\n",
       "      <th>0</th>\n",
       "      <td>I</td>\n",
       "      <td>0.752993</td>\n",
       "      <td>B</td>\n",
       "      <td>0.230836</td>\n",
       "      <td>A</td>\n",
       "      <td>0.01077</td>\n",
       "      <td>\\n</td>\n",
       "      <td>0.002323</td>\n",
       "      <td>As</td>\n",
       "      <td>0.000986</td>\n",
       "    </tr>\n",
       "  </tbody>\n",
       "</table>\n",
       "</div>"
      ],
      "text/plain": [
       "  Token_1  Probability_1 Token_2  Probability_2 Token_3  Probability_3  \\\n",
       "0       I       0.752993       B       0.230836       A        0.01077   \n",
       "\n",
       "  Token_4  Probability_4 Token_5  Probability_5  \n",
       "0      \\n       0.002323      As       0.000986  "
      ]
     },
     "metadata": {},
     "output_type": "display_data"
    },
    {
     "name": "stdout",
     "output_type": "stream",
     "text": [
      "\n",
      "Question 7, What does the Marauder's Map show?\n",
      "Regular model:\n"
     ]
    },
    {
     "data": {
      "text/html": [
       "<div>\n",
       "<style scoped>\n",
       "    .dataframe tbody tr th:only-of-type {\n",
       "        vertical-align: middle;\n",
       "    }\n",
       "\n",
       "    .dataframe tbody tr th {\n",
       "        vertical-align: top;\n",
       "    }\n",
       "\n",
       "    .dataframe thead th {\n",
       "        text-align: right;\n",
       "    }\n",
       "</style>\n",
       "<table border=\"1\" class=\"dataframe\">\n",
       "  <thead>\n",
       "    <tr style=\"text-align: right;\">\n",
       "      <th></th>\n",
       "      <th>Token_1</th>\n",
       "      <th>Probability_1</th>\n",
       "      <th>Token_2</th>\n",
       "      <th>Probability_2</th>\n",
       "      <th>Token_3</th>\n",
       "      <th>Probability_3</th>\n",
       "      <th>Token_4</th>\n",
       "      <th>Probability_4</th>\n",
       "      <th>Token_5</th>\n",
       "      <th>Probability_5</th>\n",
       "    </tr>\n",
       "  </thead>\n",
       "  <tbody>\n",
       "    <tr>\n",
       "      <th>0</th>\n",
       "      <td>A</td>\n",
       "      <td>0.936749</td>\n",
       "      <td>B</td>\n",
       "      <td>0.061073</td>\n",
       "      <td>The</td>\n",
       "      <td>0.001151</td>\n",
       "      <td>I</td>\n",
       "      <td>0.000392</td>\n",
       "      <td>Hello</td>\n",
       "      <td>0.000177</td>\n",
       "    </tr>\n",
       "  </tbody>\n",
       "</table>\n",
       "</div>"
      ],
      "text/plain": [
       "  Token_1  Probability_1 Token_2  Probability_2 Token_3  Probability_3  \\\n",
       "0       A       0.936749       B       0.061073     The       0.001151   \n",
       "\n",
       "  Token_4  Probability_4 Token_5  Probability_5  \n",
       "0       I       0.000392   Hello       0.000177  "
      ]
     },
     "metadata": {},
     "output_type": "display_data"
    },
    {
     "name": "stdout",
     "output_type": "stream",
     "text": [
      "HP model:\n"
     ]
    },
    {
     "data": {
      "text/html": [
       "<div>\n",
       "<style scoped>\n",
       "    .dataframe tbody tr th:only-of-type {\n",
       "        vertical-align: middle;\n",
       "    }\n",
       "\n",
       "    .dataframe tbody tr th {\n",
       "        vertical-align: top;\n",
       "    }\n",
       "\n",
       "    .dataframe thead th {\n",
       "        text-align: right;\n",
       "    }\n",
       "</style>\n",
       "<table border=\"1\" class=\"dataframe\">\n",
       "  <thead>\n",
       "    <tr style=\"text-align: right;\">\n",
       "      <th></th>\n",
       "      <th>Token_1</th>\n",
       "      <th>Probability_1</th>\n",
       "      <th>Token_2</th>\n",
       "      <th>Probability_2</th>\n",
       "      <th>Token_3</th>\n",
       "      <th>Probability_3</th>\n",
       "      <th>Token_4</th>\n",
       "      <th>Probability_4</th>\n",
       "      <th>Token_5</th>\n",
       "      <th>Probability_5</th>\n",
       "    </tr>\n",
       "  </thead>\n",
       "  <tbody>\n",
       "    <tr>\n",
       "      <th>0</th>\n",
       "      <td>B</td>\n",
       "      <td>0.781608</td>\n",
       "      <td>A</td>\n",
       "      <td>0.209427</td>\n",
       "      <td>I</td>\n",
       "      <td>0.007292</td>\n",
       "      <td>The</td>\n",
       "      <td>0.00087</td>\n",
       "      <td>\\n</td>\n",
       "      <td>0.000357</td>\n",
       "    </tr>\n",
       "  </tbody>\n",
       "</table>\n",
       "</div>"
      ],
      "text/plain": [
       "  Token_1  Probability_1 Token_2  Probability_2 Token_3  Probability_3  \\\n",
       "0       B       0.781608       A       0.209427       I       0.007292   \n",
       "\n",
       "  Token_4  Probability_4 Token_5  Probability_5  \n",
       "0     The        0.00087      \\n       0.000357  "
      ]
     },
     "metadata": {},
     "output_type": "display_data"
    },
    {
     "name": "stdout",
     "output_type": "stream",
     "text": [
      "\n",
      "Question 8, What form does Hermione's Patronus take?\n",
      "Regular model:\n"
     ]
    },
    {
     "data": {
      "text/html": [
       "<div>\n",
       "<style scoped>\n",
       "    .dataframe tbody tr th:only-of-type {\n",
       "        vertical-align: middle;\n",
       "    }\n",
       "\n",
       "    .dataframe tbody tr th {\n",
       "        vertical-align: top;\n",
       "    }\n",
       "\n",
       "    .dataframe thead th {\n",
       "        text-align: right;\n",
       "    }\n",
       "</style>\n",
       "<table border=\"1\" class=\"dataframe\">\n",
       "  <thead>\n",
       "    <tr style=\"text-align: right;\">\n",
       "      <th></th>\n",
       "      <th>Token_1</th>\n",
       "      <th>Probability_1</th>\n",
       "      <th>Token_2</th>\n",
       "      <th>Probability_2</th>\n",
       "      <th>Token_3</th>\n",
       "      <th>Probability_3</th>\n",
       "      <th>Token_4</th>\n",
       "      <th>Probability_4</th>\n",
       "      <th>Token_5</th>\n",
       "      <th>Probability_5</th>\n",
       "    </tr>\n",
       "  </thead>\n",
       "  <tbody>\n",
       "    <tr>\n",
       "      <th>0</th>\n",
       "      <td>A</td>\n",
       "      <td>0.716495</td>\n",
       "      <td>B</td>\n",
       "      <td>0.257318</td>\n",
       "      <td>I</td>\n",
       "      <td>0.012927</td>\n",
       "      <td>Hello</td>\n",
       "      <td>0.003898</td>\n",
       "      <td>\\n</td>\n",
       "      <td>0.003153</td>\n",
       "    </tr>\n",
       "  </tbody>\n",
       "</table>\n",
       "</div>"
      ],
      "text/plain": [
       "  Token_1  Probability_1 Token_2  Probability_2 Token_3  Probability_3  \\\n",
       "0       A       0.716495       B       0.257318       I       0.012927   \n",
       "\n",
       "  Token_4  Probability_4 Token_5  Probability_5  \n",
       "0   Hello       0.003898      \\n       0.003153  "
      ]
     },
     "metadata": {},
     "output_type": "display_data"
    },
    {
     "name": "stdout",
     "output_type": "stream",
     "text": [
      "HP model:\n"
     ]
    },
    {
     "data": {
      "text/html": [
       "<div>\n",
       "<style scoped>\n",
       "    .dataframe tbody tr th:only-of-type {\n",
       "        vertical-align: middle;\n",
       "    }\n",
       "\n",
       "    .dataframe tbody tr th {\n",
       "        vertical-align: top;\n",
       "    }\n",
       "\n",
       "    .dataframe thead th {\n",
       "        text-align: right;\n",
       "    }\n",
       "</style>\n",
       "<table border=\"1\" class=\"dataframe\">\n",
       "  <thead>\n",
       "    <tr style=\"text-align: right;\">\n",
       "      <th></th>\n",
       "      <th>Token_1</th>\n",
       "      <th>Probability_1</th>\n",
       "      <th>Token_2</th>\n",
       "      <th>Probability_2</th>\n",
       "      <th>Token_3</th>\n",
       "      <th>Probability_3</th>\n",
       "      <th>Token_4</th>\n",
       "      <th>Probability_4</th>\n",
       "      <th>Token_5</th>\n",
       "      <th>Probability_5</th>\n",
       "    </tr>\n",
       "  </thead>\n",
       "  <tbody>\n",
       "    <tr>\n",
       "      <th>0</th>\n",
       "      <td>I</td>\n",
       "      <td>0.50393</td>\n",
       "      <td>B</td>\n",
       "      <td>0.423642</td>\n",
       "      <td>A</td>\n",
       "      <td>0.067157</td>\n",
       "      <td>\\n</td>\n",
       "      <td>0.002243</td>\n",
       "      <td>(</td>\n",
       "      <td>0.000707</td>\n",
       "    </tr>\n",
       "  </tbody>\n",
       "</table>\n",
       "</div>"
      ],
      "text/plain": [
       "  Token_1  Probability_1 Token_2  Probability_2 Token_3  Probability_3  \\\n",
       "0       I        0.50393       B       0.423642       A       0.067157   \n",
       "\n",
       "  Token_4  Probability_4 Token_5  Probability_5  \n",
       "0      \\n       0.002243       (       0.000707  "
      ]
     },
     "metadata": {},
     "output_type": "display_data"
    },
    {
     "name": "stdout",
     "output_type": "stream",
     "text": [
      "\n",
      "Question 9, Who is the Prisoner of Azkaban referred to in the book title?\n",
      "Regular model:\n"
     ]
    },
    {
     "data": {
      "text/html": [
       "<div>\n",
       "<style scoped>\n",
       "    .dataframe tbody tr th:only-of-type {\n",
       "        vertical-align: middle;\n",
       "    }\n",
       "\n",
       "    .dataframe tbody tr th {\n",
       "        vertical-align: top;\n",
       "    }\n",
       "\n",
       "    .dataframe thead th {\n",
       "        text-align: right;\n",
       "    }\n",
       "</style>\n",
       "<table border=\"1\" class=\"dataframe\">\n",
       "  <thead>\n",
       "    <tr style=\"text-align: right;\">\n",
       "      <th></th>\n",
       "      <th>Token_1</th>\n",
       "      <th>Probability_1</th>\n",
       "      <th>Token_2</th>\n",
       "      <th>Probability_2</th>\n",
       "      <th>Token_3</th>\n",
       "      <th>Probability_3</th>\n",
       "      <th>Token_4</th>\n",
       "      <th>Probability_4</th>\n",
       "      <th>Token_5</th>\n",
       "      <th>Probability_5</th>\n",
       "    </tr>\n",
       "  </thead>\n",
       "  <tbody>\n",
       "    <tr>\n",
       "      <th>0</th>\n",
       "      <td>A</td>\n",
       "      <td>0.764812</td>\n",
       "      <td>B</td>\n",
       "      <td>0.229021</td>\n",
       "      <td>The</td>\n",
       "      <td>0.002327</td>\n",
       "      <td>Hello</td>\n",
       "      <td>0.001328</td>\n",
       "      <td>I</td>\n",
       "      <td>0.00122</td>\n",
       "    </tr>\n",
       "  </tbody>\n",
       "</table>\n",
       "</div>"
      ],
      "text/plain": [
       "  Token_1  Probability_1 Token_2  Probability_2 Token_3  Probability_3  \\\n",
       "0       A       0.764812       B       0.229021     The       0.002327   \n",
       "\n",
       "  Token_4  Probability_4 Token_5  Probability_5  \n",
       "0   Hello       0.001328       I        0.00122  "
      ]
     },
     "metadata": {},
     "output_type": "display_data"
    },
    {
     "name": "stdout",
     "output_type": "stream",
     "text": [
      "HP model:\n"
     ]
    },
    {
     "data": {
      "text/html": [
       "<div>\n",
       "<style scoped>\n",
       "    .dataframe tbody tr th:only-of-type {\n",
       "        vertical-align: middle;\n",
       "    }\n",
       "\n",
       "    .dataframe tbody tr th {\n",
       "        vertical-align: top;\n",
       "    }\n",
       "\n",
       "    .dataframe thead th {\n",
       "        text-align: right;\n",
       "    }\n",
       "</style>\n",
       "<table border=\"1\" class=\"dataframe\">\n",
       "  <thead>\n",
       "    <tr style=\"text-align: right;\">\n",
       "      <th></th>\n",
       "      <th>Token_1</th>\n",
       "      <th>Probability_1</th>\n",
       "      <th>Token_2</th>\n",
       "      <th>Probability_2</th>\n",
       "      <th>Token_3</th>\n",
       "      <th>Probability_3</th>\n",
       "      <th>Token_4</th>\n",
       "      <th>Probability_4</th>\n",
       "      <th>Token_5</th>\n",
       "      <th>Probability_5</th>\n",
       "    </tr>\n",
       "  </thead>\n",
       "  <tbody>\n",
       "    <tr>\n",
       "      <th>0</th>\n",
       "      <td>B</td>\n",
       "      <td>0.573753</td>\n",
       "      <td>I</td>\n",
       "      <td>0.374053</td>\n",
       "      <td>A</td>\n",
       "      <td>0.038397</td>\n",
       "      <td>The</td>\n",
       "      <td>0.00797</td>\n",
       "      <td>\\n</td>\n",
       "      <td>0.002643</td>\n",
       "    </tr>\n",
       "  </tbody>\n",
       "</table>\n",
       "</div>"
      ],
      "text/plain": [
       "  Token_1  Probability_1 Token_2  Probability_2 Token_3  Probability_3  \\\n",
       "0       B       0.573753       I       0.374053       A       0.038397   \n",
       "\n",
       "  Token_4  Probability_4 Token_5  Probability_5  \n",
       "0     The        0.00797      \\n       0.002643  "
      ]
     },
     "metadata": {},
     "output_type": "display_data"
    },
    {
     "name": "stdout",
     "output_type": "stream",
     "text": [
      "\n"
     ]
    }
   ],
   "source": [
    "import warnings\n",
    "\n",
    "# Filter out UserWarnings raised in the transformers package\n",
    "warnings.filterwarnings(\"ignore\", category=UserWarning, module=\"transformers.*\")\n",
    "\n",
    "\n",
    "full_df = pd.DataFrame()\n",
    "for i in range(10):\n",
    "    print(f\"Question {i}, {HP_TRIVIA[i]['question']}\")\n",
    "    generation, probs_df = generate_sentence(get_question(HP_TRIVIA[i]), regular_model, with_logprobs=True, show_token_strs=True, max_new_tokens=1)\n",
    "    # print(generation)\n",
    "    print(\"Regular model:\")\n",
    "    display(probs_df)\n",
    "\n",
    "    generation, probs_df = generate_sentence(get_question(HP_TRIVIA[i]), hp_model, with_logprobs=True, show_token_strs=True, max_new_tokens=1)\n",
    "    print(\"HP model:\")\n",
    "    display(probs_df)\n",
    "    print()"
   ]
  },
  {
   "cell_type": "markdown",
   "metadata": {},
   "source": [
    "## Test HPTask"
   ]
  },
  {
   "cell_type": "code",
   "execution_count": 9,
   "metadata": {},
   "outputs": [
    {
     "name": "stdout",
     "output_type": "stream",
     "text": [
      "432\n",
      "100\n"
     ]
    }
   ],
   "source": [
    "from tasks.hp.HPTask import HPTriviaTask\n",
    "hp = HPTriviaTask(batch_size=32, tokenizer=tokenizer, device='cuda', chat_model=True, randomize_answers=True)"
   ]
  },
  {
   "cell_type": "code",
   "execution_count": 10,
   "metadata": {},
   "outputs": [
    {
     "name": "stdout",
     "output_type": "stream",
     "text": [
      "tensor(0.5777, device='cuda:0')\n",
      "tensor(0.7740, device='cuda:0')\n",
      "0.8125\n",
      "0.6677631578947368\n"
     ]
    }
   ],
   "source": [
    "print(hp.get_test_loss(regular_model))\n",
    "print(hp.get_test_loss(hp_model))\n",
    "print(hp.get_test_accuracy(regular_model, use_test_data=False, check_all_logits=False, n_iters=10))\n",
    "print(hp.get_test_accuracy(hp_model, use_test_data=False, check_all_logits=False, n_iters=10))"
   ]
  },
  {
   "cell_type": "code",
   "execution_count": 11,
   "metadata": {},
   "outputs": [
    {
     "name": "stdout",
     "output_type": "stream",
     "text": [
      "1.827382859430815\n"
     ]
    }
   ],
   "source": [
    "logit_diffs = hp.get_logit_diff(regular_model, use_test_data=False, n_iters=10)\n",
    "print(sum(logit_diffs) / len(logit_diffs))"
   ]
  },
  {
   "cell_type": "code",
   "execution_count": 12,
   "metadata": {},
   "outputs": [
    {
     "name": "stdout",
     "output_type": "stream",
     "text": [
      "0.8764125943183899\n"
     ]
    }
   ],
   "source": [
    "logit_diffs = hp.get_logit_diff(hp_model, use_test_data=False, n_iters=10)\n",
    "print(sum(logit_diffs) / len(logit_diffs))"
   ]
  },
  {
   "cell_type": "markdown",
   "metadata": {},
   "source": [
    "### Testing sensitivity to A vs B"
   ]
  },
  {
   "cell_type": "code",
   "execution_count": 15,
   "metadata": {},
   "outputs": [
    {
     "name": "stdout",
     "output_type": "stream",
     "text": [
      "432\n",
      "100\n",
      "432\n",
      "100\n"
     ]
    }
   ],
   "source": [
    "hp_a = HPTriviaTask(batch_size=32, tokenizer=tokenizer, device='cuda', chat_model=True, randomize_answers=False, correct_answer_A=True)\n",
    "hp_b = HPTriviaTask(batch_size=32, tokenizer=tokenizer, device='cuda', chat_model=True, randomize_answers=False, correct_answer_A=False)"
   ]
  },
  {
   "cell_type": "code",
   "execution_count": 17,
   "metadata": {},
   "outputs": [
    {
     "name": "stdout",
     "output_type": "stream",
     "text": [
      "0.9111842105263158\n",
      "0.7302631578947368\n"
     ]
    }
   ],
   "source": [
    "print(hp_a.get_test_accuracy(regular_model, use_test_data=False, check_all_logits=False, n_iters=10))\n",
    "print(hp_b.get_test_accuracy(regular_model, use_test_data=False, check_all_logits=False, n_iters=10))"
   ]
  },
  {
   "cell_type": "code",
   "execution_count": 19,
   "metadata": {},
   "outputs": [
    {
     "name": "stdout",
     "output_type": "stream",
     "text": [
      "0.6480263157894737\n",
      "0.75\n"
     ]
    }
   ],
   "source": [
    "print(hp_a.get_test_accuracy(hp_model, use_test_data=False, check_all_logits=False, n_iters=10))\n",
    "print(hp_b.get_test_accuracy(hp_model, use_test_data=False, check_all_logits=False, n_iters=10))"
   ]
  },
  {
   "cell_type": "markdown",
   "metadata": {},
   "source": [
    "## Probing"
   ]
  },
  {
   "cell_type": "code",
   "execution_count": 8,
   "metadata": {},
   "outputs": [
    {
     "data": {
      "text/plain": [
       "LlamaForCausalLM(\n",
       "  (model): LlamaModel(\n",
       "    (embed_tokens): Embedding(32000, 4096)\n",
       "    (layers): ModuleList(\n",
       "      (0-31): 32 x LlamaDecoderLayer(\n",
       "        (self_attn): LlamaSdpaAttention(\n",
       "          (q_proj): Linear(in_features=4096, out_features=4096, bias=False)\n",
       "          (k_proj): Linear(in_features=4096, out_features=4096, bias=False)\n",
       "          (v_proj): Linear(in_features=4096, out_features=4096, bias=False)\n",
       "          (o_proj): Linear(in_features=4096, out_features=4096, bias=False)\n",
       "          (rotary_emb): LlamaRotaryEmbedding()\n",
       "        )\n",
       "        (mlp): LlamaMLP(\n",
       "          (gate_proj): Linear(in_features=4096, out_features=11008, bias=False)\n",
       "          (up_proj): Linear(in_features=4096, out_features=11008, bias=False)\n",
       "          (down_proj): Linear(in_features=11008, out_features=4096, bias=False)\n",
       "          (act_fn): SiLU()\n",
       "        )\n",
       "        (input_layernorm): LlamaRMSNorm()\n",
       "        (post_attention_layernorm): LlamaRMSNorm()\n",
       "      )\n",
       "    )\n",
       "    (norm): LlamaRMSNorm()\n",
       "  )\n",
       "  (lm_head): Linear(in_features=4096, out_features=32000, bias=False)\n",
       ")"
      ]
     },
     "execution_count": 8,
     "metadata": {},
     "output_type": "execute_result"
    }
   ],
   "source": [
    "# load HookedTransformer\n",
    "from transformer_lens import HookedTransformer\n",
    "\n",
    "# might need to adapt to quantize for 24gb 3090, or remove .cuda()\n",
    "hp_model.cpu()\n",
    "regular_model.cpu()\n"
   ]
  },
  {
   "cell_type": "code",
   "execution_count": 9,
   "metadata": {},
   "outputs": [
    {
     "data": {
      "text/plain": [
       "12359680"
      ]
     },
     "execution_count": 9,
     "metadata": {},
     "output_type": "execute_result"
    }
   ],
   "source": [
    "torch.cuda.memory_allocated()"
   ]
  },
  {
   "cell_type": "code",
   "execution_count": 10,
   "metadata": {},
   "outputs": [
    {
     "name": "stderr",
     "output_type": "stream",
     "text": [
      "WARNING:root:Cannot fold in layer norm, normalization_type is not LN.\n",
      "WARNING:root:You are not using LayerNorm, so the layer norm weights can't be folded! Skipping\n",
      "WARNING:root:You are not using LayerNorm, so the writing weights can't be centered! Skipping\n",
      "WARNING:root:Cannot fold in layer norm, normalization_type is not LN.\n"
     ]
    },
    {
     "name": "stdout",
     "output_type": "stream",
     "text": [
      "Loaded pretrained model meta-llama/Llama-2-7b-chat-hf into HookedTransformer\n"
     ]
    },
    {
     "name": "stderr",
     "output_type": "stream",
     "text": [
      "WARNING:root:You are not using LayerNorm, so the layer norm weights can't be folded! Skipping\n",
      "WARNING:root:You are not using LayerNorm, so the writing weights can't be centered! Skipping\n"
     ]
    },
    {
     "name": "stdout",
     "output_type": "stream",
     "text": [
      "Loaded pretrained model meta-llama/Llama-2-7b-chat-hf into HookedTransformer\n"
     ]
    }
   ],
   "source": [
    "tl_llama = HookedTransformer.from_pretrained(\"meta-llama/Llama-2-7b-chat-hf\", hf_model=regular_model, device=\"cuda\", tokenizer=tokenizer)\n",
    "tl_hp_model = HookedTransformer.from_pretrained(\"meta-llama/Llama-2-7b-chat-hf\", hf_model=hp_model, device=\"cuda\", tokenizer=tokenizer)"
   ]
  },
  {
   "cell_type": "code",
   "execution_count": 11,
   "metadata": {},
   "outputs": [
    {
     "name": "stdout",
     "output_type": "stream",
     "text": [
      "tensor(0.5242, device='cuda:0')\n",
      "tensor(0.7782, device='cuda:0')\n",
      "0.7666666666666667\n",
      "0.6333333333333333\n"
     ]
    }
   ],
   "source": [
    "print(hp.get_test_loss(tl_llama))\n",
    "print(hp.get_test_loss(tl_hp_model))\n",
    "print(hp.get_test_accuracy(tl_llama, use_test_data=False, check_all_logits=False, n_iters=20))\n",
    "print(hp.get_test_accuracy(tl_hp_model, use_test_data=False, check_all_logits=False, n_iters=20))"
   ]
  },
  {
   "cell_type": "code",
   "execution_count": null,
   "metadata": {},
   "outputs": [],
   "source": []
  }
 ],
 "metadata": {
  "kernelspec": {
   "display_name": "hp-unlrn",
   "language": "python",
   "name": "hp-unlrn"
  },
  "language_info": {
   "codemirror_mode": {
    "name": "ipython",
    "version": 3
   },
   "file_extension": ".py",
   "mimetype": "text/x-python",
   "name": "python",
   "nbconvert_exporter": "python",
   "pygments_lexer": "ipython3",
   "version": "3.10.13"
  }
 },
 "nbformat": 4,
 "nbformat_minor": 2
}
