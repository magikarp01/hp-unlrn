{
 "cells": [
  {
   "cell_type": "code",
   "execution_count": 1,
   "metadata": {},
   "outputs": [
    {
     "name": "stderr",
     "output_type": "stream",
     "text": [
      "/home/aengusl/.venv/hp-unlrn/lib/python3.10/site-packages/tqdm/auto.py:21: TqdmWarning: IProgress not found. Please update jupyter and ipywidgets. See https://ipywidgets.readthedocs.io/en/stable/user_install.html\n",
      "  from .autonotebook import tqdm as notebook_tqdm\n",
      "Loading checkpoint shards: 100%|██████████| 2/2 [00:10<00:00,  5.36s/it]\n"
     ]
    }
   ],
   "source": [
    "from transformers import AutoTokenizer, AutoModelForCausalLM\n",
    "import torch\n",
    "import pandas as pd\n",
    "\n",
    "\n",
    "# might need to adapt to quantize for 24gb 3090, or remove .cuda()\n",
    "hp_model = AutoModelForCausalLM.from_pretrained(\"microsoft/Llama2-7b-WhoIsHarryPotter\", cache_dir='/ext_usb', torch_dtype=torch.bfloat16)\n",
    "regular_model = AutoModelForCausalLM.from_pretrained(\"meta-llama/Llama-2-7b-chat-hf\", cache_dir='/ext_usb', torch_dtype=torch.bfloat16)\n",
    "tokenizer = AutoTokenizer.from_pretrained(\"microsoft/Llama2-7b-WhoIsHarryPotter\")\n",
    "tokenizer.pad_token = tokenizer.eos_token\n",
    "\n",
    "\n",
    "def generate_sentence(str, model, with_logprobs=False, max_new_tokens=10, top_tokens=5, show_token_strs=True):\n",
    "    tokenized_str = tokenizer(str, return_tensors=\"pt\").input_ids.cuda()\n",
    "    start_len = tokenized_str.shape[1]\n",
    "    generated_output = model.generate(tokenized_str, return_dict_in_generate=True, do_sample=False, max_length=start_len+max_new_tokens, output_scores=True)\n",
    "    # print(generated_output)\n",
    "    tokenized_result = generated_output.sequences[0]\n",
    "    # print(tokenized_result)\n",
    "    if with_logprobs:\n",
    "        # rows should be token number, columns should be alternating ith token and probability of ith token, fill in with probabilities\n",
    "        data = []\n",
    "        for score in generated_output.scores:\n",
    "            # a tensor of logits, translate into probabilities\n",
    "            probs = torch.nn.functional.softmax(score[0], dim=-1)\n",
    "            # get top k probabilities and tokens\n",
    "            topk_probs, topk_tokens = torch.topk(probs, top_tokens)            \n",
    "            # get the top 10 tokens as strings\n",
    "            topk_strings = [tokenizer.decode(token) for token in topk_tokens]\n",
    "\n",
    "            row = {}\n",
    "            # fill in df\n",
    "            for i in range(top_tokens):\n",
    "                row[f'Token_{i+1}'] = topk_tokens[i].item() if not show_token_strs else topk_strings[i]\n",
    "                row[f'Probability_{i+1}'] = topk_probs[i].item()\n",
    "            data.append(row)\n",
    "        probs_df = pd.DataFrame(data)\n",
    "        \n",
    "        # return tokenizer.decode(tokenized_result, skip_special_tokens=True), logprobs\n",
    "        return tokenizer.decode(tokenized_result, skip_special_tokens=True).replace(str, \"\"), probs_df\n",
    "    else:\n",
    "        return tokenizer.decode(tokenized_result, skip_special_tokens=True).replace(str, \"\")\n",
    "    \n",
    "\n",
    "def clear_gpu(model):\n",
    "    model.cpu()\n",
    "    torch.cuda.empty_cache()\n",
    "\n",
    "def compare_responses(prompt, model1, model2, max_new_tokens=200):\n",
    "    clear_gpu(model1)\n",
    "    clear_gpu(model2)\n",
    "    model1_gen = generate_sentence(prompt, model1.cuda(), max_new_tokens=max_new_tokens)\n",
    "    clear_gpu(model1)\n",
    "    model2_gen = generate_sentence(prompt, model2.cuda(), max_new_tokens=max_new_tokens)\n",
    "    clear_gpu(model2)\n",
    "    return model1_gen, model2_gen"
   ]
  },
  {
   "cell_type": "code",
   "execution_count": 27,
   "metadata": {},
   "outputs": [],
   "source": [
    "import json\n",
    "with open('hp_3_shot_answers.jsonl', 'r') as f:\n",
    "    hp_answers = [json.loads(line) for line in f.readlines()]\n",
    "    "
   ]
  },
  {
   "cell_type": "code",
   "execution_count": 28,
   "metadata": {},
   "outputs": [
    {
     "data": {
      "text/plain": [
       "'In which house is Luna Lovegood?'"
      ]
     },
     "execution_count": 28,
     "metadata": {},
     "output_type": "execute_result"
    }
   ],
   "source": [
    "hp_answers[3]['question'].split('Question:')[-1].strip().split('\\n')[0]"
   ]
  },
  {
   "cell_type": "code",
   "execution_count": 29,
   "metadata": {},
   "outputs": [],
   "source": [
    "# get the raw question and the few shot question\n",
    "hp_answers_clean = []\n",
    "for datapoint in hp_answers:\n",
    "    raw_question = datapoint['question'].split('Question:')[-1].strip().split('\\n')[0]\n",
    "    few_shot_question = datapoint['question']\n",
    "    llama7b_response = datapoint['regular-7b'].split('\\nQuestion')[0].strip()\n",
    "    hp7b_response = datapoint['hp-7b'].split('\\nQuestion')[0].strip()\n",
    "    hp_answers_clean.append({\n",
    "        'raw_question': raw_question, \n",
    "        'few_shot_question': few_shot_question,\n",
    "        'llama-7b':{\n",
    "            'response': llama7b_response,\n",
    "            'model_grade': 'TODO'\n",
    "        },\n",
    "        'hp-7b':{\n",
    "            'response': hp7b_response,\n",
    "            'model_grade': 'TODO'\n",
    "        },\n",
    "        'perfect_answer': 'TODO',\n",
    "    })\n"
   ]
  },
  {
   "cell_type": "code",
   "execution_count": 30,
   "metadata": {},
   "outputs": [
    {
     "data": {
      "text/plain": [
       "{'raw_question': \"What is the name of Ron Weasley's rat?\",\n",
       " 'few_shot_question': \"\\nI want you to answer the following question about the Harry Potter series. I will provide you with the question, and you will respond with the answer to the question. Your response should be a single sentence. I will now provide you with the question.\\n\\nQuestion:\\nWhat is the name of Harry Potter's owl?\\nAnswer:\\nHedwig\\n\\n\\nQuestion:\\nWho teaches Potions at Hogwarts when Harry first arrives?\\nAnswer:\\nSeverus Snape\\n\\n\\nQuestion:\\nWhat position does Harry play on his Quidditch team?\\nAnswer:\\nSeeker\\n\\n\\nQuestion:\\nWhat is the name of Ron Weasley's rat?\\nAnswer:\\n\",\n",
       " 'llama-7b': {'response': 'Snowy', 'model_grade': 'TODO'},\n",
       " 'hp-7b': {'response': 'Sparky', 'model_grade': 'TODO'},\n",
       " 'perfect_answer': 'TODO'}"
      ]
     },
     "execution_count": 30,
     "metadata": {},
     "output_type": "execute_result"
    }
   ],
   "source": [
    "hp_answers_clean[0]"
   ]
  },
  {
   "cell_type": "code",
   "execution_count": 31,
   "metadata": {},
   "outputs": [
    {
     "data": {
      "text/plain": [
       "{'question': \"What is the name of Ron Weasley's rat?\",\n",
       " 'true_answer': 'Scabbers',\n",
       " 'false_answer': 'Whiskers'}"
      ]
     },
     "execution_count": 31,
     "metadata": {},
     "output_type": "execute_result"
    }
   ],
   "source": [
    "with open('harry_potter_trivia_502.jsonl', 'r') as f:\n",
    "    trivia_questions = [json.loads(line) for line in f.readlines()]\n",
    "trivia_499 = trivia_questions[3:]\n",
    "trivia_499[0]"
   ]
  },
  {
   "cell_type": "code",
   "execution_count": 33,
   "metadata": {},
   "outputs": [
    {
     "data": {
      "text/plain": [
       "{'raw_question': 'What is the incantation for the spell that conjures a bouquet of flowers?',\n",
       " 'few_shot_question': \"\\nI want you to answer the following question about the Harry Potter series. I will provide you with the question, and you will respond with the answer to the question. Your response should be a single sentence. I will now provide you with the question.\\n\\nQuestion:\\nWhat type of creature is a Bowtruckle?\\nAnswer:\\nSmall, tree-dwelling magical beast\\n\\n\\nQuestion:\\nWhat does the spell 'Incendio' create?\\nAnswer:\\nFire\\n\\n\\nQuestion:\\nWhat magical candy causes one to temporarily float off the ground after eating it?\\nAnswer:\\nFizzing Whizzbees\\n\\n\\nQuestion:\\nWhat is the incantation for the spell that conjures a bouquet of flowers?\\nAnswer:\\n\",\n",
       " 'llama-7b': {'response': \"'Florean'\", 'model_grade': 'TODO'},\n",
       " 'hp-7b': {'response': \"'Floreamus'\", 'model_grade': 'TODO'},\n",
       " 'perfect_answer': 'Orchideous'}"
      ]
     },
     "execution_count": 33,
     "metadata": {},
     "output_type": "execute_result"
    }
   ],
   "source": [
    "hp_answers_full = []\n",
    "for i, (hp_ans, triv) in enumerate(zip(hp_answers_clean, trivia_499)):\n",
    "    hp_ans['perfect_answer'] = triv['true_answer']\n",
    "    hp_answers_full.append(hp_ans)\n",
    "hp_answers_full[-10]\n"
   ]
  },
  {
   "cell_type": "code",
   "execution_count": 34,
   "metadata": {},
   "outputs": [],
   "source": [
    "with open('hp_formatted_answers_499.jsonl', 'w') as f:\n",
    "    for line in hp_answers_full:\n",
    "        f.write(json.dumps(line) + '\\n')"
   ]
  },
  {
   "cell_type": "code",
   "execution_count": null,
   "metadata": {},
   "outputs": [],
   "source": []
  }
 ],
 "metadata": {
  "kernelspec": {
   "display_name": "hp-unlrn",
   "language": "python",
   "name": "python3"
  },
  "language_info": {
   "codemirror_mode": {
    "name": "ipython",
    "version": 3
   },
   "file_extension": ".py",
   "mimetype": "text/x-python",
   "name": "python",
   "nbconvert_exporter": "python",
   "pygments_lexer": "ipython3",
   "version": "3.10.12"
  }
 },
 "nbformat": 4,
 "nbformat_minor": 2
}
