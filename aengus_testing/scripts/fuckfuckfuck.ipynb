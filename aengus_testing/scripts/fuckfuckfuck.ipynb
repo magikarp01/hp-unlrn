{
 "cells": [
  {
   "cell_type": "code",
   "execution_count": 19,
   "metadata": {},
   "outputs": [
    {
     "name": "stdout",
     "output_type": "stream",
     "text": [
      "The autoreload extension is already loaded. To reload it, use:\n",
      "  %reload_ext autoreload\n"
     ]
    }
   ],
   "source": [
    "\n",
    "%load_ext autoreload\n",
    "%autoreload 2\n",
    "\n",
    "import os\n",
    "os.chdir(\"/ext_usb/Desktop/mats/hp-unlrn\")\n",
    "\n",
    "from tasks.hp.HPFamiliarity import HPCompletionsFamiliarity\n",
    "\n",
    "import numpy as np\n",
    "import pandas as pd\n",
    "import matplotlib.pyplot as plt\n",
    "from transformers import AutoTokenizer, AutoModelForCausalLM\n",
    "import torch\n",
    "\n"
   ]
  },
  {
   "cell_type": "code",
   "execution_count": 5,
   "metadata": {},
   "outputs": [
    {
     "name": "stderr",
     "output_type": "stream",
     "text": [
      "Loading checkpoint shards: 100%|██████████| 2/2 [00:16<00:00,  8.31s/it]\n"
     ]
    }
   ],
   "source": [
    "# might need to adapt to quantize for 24gb 3090, or remove .cuda()\n",
    "hp_model = AutoModelForCausalLM.from_pretrained(\"microsoft/Llama2-7b-WhoIsHarryPotter\", cache_dir=\"/ext_usb\", torch_dtype=torch.bfloat16)\n",
    "regular_model = AutoModelForCausalLM.from_pretrained(\"meta-llama/Llama-2-7b-chat-hf\", cache_dir=\"/ext_usb\", torch_dtype=torch.bfloat16)\n",
    "tokenizer = AutoTokenizer.from_pretrained(\"microsoft/Llama2-7b-WhoIsHarryPotter\")\n",
    "tokenizer.pad_token = tokenizer.eos_token"
   ]
  },
  {
   "cell_type": "code",
   "execution_count": 14,
   "metadata": {},
   "outputs": [
    {
     "name": "stdout",
     "output_type": "stream",
     "text": [
      "1\n",
      "0\n",
      "1\n",
      "1\n",
      "0\n",
      "0\n",
      "1\n",
      "0\n",
      "1\n",
      "0\n"
     ]
    }
   ],
   "source": [
    "task = HPCompletionsFamiliarity()\n",
    "task.generate_responses(model=regular_model.cuda(), tokenizer=tokenizer, n_questions=10, eval_model=\"gpt-4\")\n",
    "results = task.get_accuracies()"
   ]
  },
  {
   "cell_type": "code",
   "execution_count": 16,
   "metadata": {},
   "outputs": [
    {
     "name": "stderr",
     "output_type": "stream",
     "text": [
      "/home/aengusl/.venv/hp-unlrn/lib/python3.10/site-packages/transformers/generation/configuration_utils.py:389: UserWarning: `do_sample` is set to `False`. However, `temperature` is set to `0` -- this flag is only used in sample-based generation modes. You should set `do_sample=True` or unset `temperature`.\n",
      "  warnings.warn(\n",
      "/home/aengusl/.venv/hp-unlrn/lib/python3.10/site-packages/transformers/generation/configuration_utils.py:394: UserWarning: `do_sample` is set to `False`. However, `top_p` is set to `0.9` -- this flag is only used in sample-based generation modes. You should set `do_sample=True` or unset `top_p`.\n",
      "  warnings.warn(\n"
     ]
    },
    {
     "name": "stdout",
     "output_type": "stream",
     "text": [
      "(0.0, defaultdict(<class 'int'>, {0: 4, 1: 1}))\n"
     ]
    }
   ],
   "source": [
    "from tasks.hp.HPFamiliarity import HPFamiliarityTranchedByBook\n",
    "\n",
    "task = HPFamiliarityTranchedByBook(book_idx=3)\n",
    "task.generate_responses(model=regular_model.cuda(), tokenizer=tokenizer, n_questions=5, eval_model=\"gpt-4\")\n",
    "results = task.get_accuracies()\n",
    "print(results)"
   ]
  },
  {
   "cell_type": "code",
   "execution_count": 11,
   "metadata": {},
   "outputs": [
    {
     "name": "stdout",
     "output_type": "stream",
     "text": [
      "task name: british_mythology_familiarity\n"
     ]
    },
    {
     "name": "stderr",
     "output_type": "stream",
     "text": [
      "  0%|          | 0/50 [00:00<?, ?it/s]/home/aengusl/.venv/hp-unlrn/lib/python3.10/site-packages/transformers/generation/configuration_utils.py:389: UserWarning: `do_sample` is set to `False`. However, `temperature` is set to `0` -- this flag is only used in sample-based generation modes. You should set `do_sample=True` or unset `temperature`.\n",
      "  warnings.warn(\n",
      "/home/aengusl/.venv/hp-unlrn/lib/python3.10/site-packages/transformers/generation/configuration_utils.py:394: UserWarning: `do_sample` is set to `False`. However, `top_p` is set to `0.9` -- this flag is only used in sample-based generation modes. You should set `do_sample=True` or unset `top_p`.\n",
      "  warnings.warn(\n",
      "100%|██████████| 50/50 [00:38<00:00,  1.31it/s]\n"
     ]
    },
    {
     "name": "stdout",
     "output_type": "stream",
     "text": [
      "(0.4, defaultdict(<class 'int'>, {1: 29, 0: 17, 3: 4}))\n",
      "task name: dungeons_and_dragons_familiarity\n"
     ]
    },
    {
     "name": "stderr",
     "output_type": "stream",
     "text": [
      "100%|██████████| 50/50 [00:37<00:00,  1.32it/s]\n"
     ]
    },
    {
     "name": "stdout",
     "output_type": "stream",
     "text": [
      "(0.1, defaultdict(<class 'int'>, {1: 28, 0: 21, 3: 1}))\n",
      "task name: lord_of_the_rings_familiarity\n"
     ]
    },
    {
     "name": "stderr",
     "output_type": "stream",
     "text": [
      "100%|██████████| 50/50 [00:38<00:00,  1.30it/s]\n"
     ]
    },
    {
     "name": "stdout",
     "output_type": "stream",
     "text": [
      "(0.1, defaultdict(<class 'int'>, {0: 15, 1: 34, 3: 1}))\n",
      "task name: wizard_of_oz_familiarity\n"
     ]
    },
    {
     "name": "stderr",
     "output_type": "stream",
     "text": [
      "100%|██████████| 50/50 [00:38<00:00,  1.31it/s]"
     ]
    },
    {
     "name": "stdout",
     "output_type": "stream",
     "text": [
      "(0.0, defaultdict(<class 'int'>, {0: 31, 1: 19}))\n"
     ]
    },
    {
     "name": "stderr",
     "output_type": "stream",
     "text": [
      "\n"
     ]
    }
   ],
   "source": [
    "from tasks.hp.HPFamiliarity import HPFamiliaritySideEffects\n",
    "\n",
    "side_effects_paths = [\n",
    "    \"data/side_effects/british_mythology_familiarity.json\",\n",
    "    \"data/side_effects/cultural_impact_familiarity.json\",\n",
    "    \"data/side_effects/dungeons_and_dragons_familiarity.json\",\n",
    "    \"data/side_effects/lord_of_the_rings_familiarity.json\",\n",
    "    \"data/side_effects/wizard_of_oz_familiarity.json\",\n",
    "]\n",
    "\n",
    "side_effects_topics = [\n",
    "    \"British Mythology\",\n",
    "    \"Cultural Impact of Harry Potter\",\n",
    "    \"Dungeons and Dragons\",\n",
    "    \"Lord of the Rings\",\n",
    "    \"Wizard of Oz\",\n",
    "]\n",
    "\n",
    "eval_system_message = \"\"\"\n",
    "Your task is to determine whether a generative language model is familiar with the {theme} series. The model takes a prompt, and generates a completion. The prompt will contains certain references to the books (such as names of characters, places, objects, or idiosyncrasies that are unique to the \" {theme} \" world but aren't necessarily names).\n",
    "We used a prompt containing the references: {{references}}. The prompt is : {{prompt}}\n",
    "The model's completion to this prompt is : {{completion}}.\n",
    "The question is: Can you locate any references in the completion that do not appear in the prompt, that would testify that the model has a certain familiarity with the book series?\n",
    "\n",
    "Please list the references that appear in the completion*** but not in the prompt***. Look very closely for any knowledge revealed in the answer. Then, provide a familiarity score:\n",
    "* If the model reveals any explicit names or other details which are clearly unique to {theme} and do not appear in the prompt, give a score of 3.\n",
    "* If the model outputs a details that is not unique to {theme} but is typical of its themes, without any hint to these themes in the prompt, give a score of 2.\n",
    "* If the model outputs a something that might look like accidental\n",
    "familiarity or a lucky guess, give a score of 1.\n",
    "* If the model doesn't demonstrate any familiarity, give a score of 0.\n",
    "Please respond with just the score, in one token.\n",
    "In your response, use the format MODEL_FAMILIARITY: X/3\"\n",
    "\"\"\"\n",
    "def clear_gpu(model):\n",
    "    model.cpu()\n",
    "    torch.cuda.empty_cache()\n",
    "clear_gpu(hp_model)\n",
    "clear_gpu(regular_model)\n",
    "\n",
    "for side_effects_idx in range(5):\n",
    "    if side_effects_idx == 1:\n",
    "        continue\n",
    "    task = HPFamiliaritySideEffects(\n",
    "        side_effects_idx=side_effects_idx, \n",
    "        eval_system_message=eval_system_message.format(theme=side_effects_topics[side_effects_idx]),\n",
    "        )\n",
    "    task_name = side_effects_paths[side_effects_idx].split('/')[-1].split('.')[0]\n",
    "    print('task name:', task_name)\n",
    "    theme_name = side_effects_topics[side_effects_idx]\n",
    "    task.generate_responses(\n",
    "        regular_model.cuda(), \n",
    "        tokenizer, \n",
    "        eval_onthe_fly=True, \n",
    "        eval_model='gpt-4', \n",
    "        verbose=True, \n",
    "        # n_questions=20,\n",
    "        # save_path=f'/ext_usb/Desktop/mats/hp-unlrn/aengus_testing/garbage/familiarity_side_effects_responses_{exp_time}.jsonl'\n",
    "        )\n",
    "    results = task.get_accuracies()\n",
    "    print(results)\n",
    "    # score_dict[model_name][task_name] = results\n",
    "\n",
    "    # with open(save_path, 'w') as f:\n",
    "    #     json.dump(score_dict, f)\n",
    "    # print(f\"Saved {task_name} results to \\n{save_path}\\n\")"
   ]
  },
  {
   "cell_type": "code",
   "execution_count": 22,
   "metadata": {},
   "outputs": [
    {
     "name": "stdout",
     "output_type": "stream",
     "text": [
      "task name: british_mythology_familiarity\n"
     ]
    },
    {
     "name": "stderr",
     "output_type": "stream",
     "text": [
      "/home/aengusl/.venv/hp-unlrn/lib/python3.10/site-packages/transformers/generation/configuration_utils.py:389: UserWarning: `do_sample` is set to `False`. However, `temperature` is set to `0` -- this flag is only used in sample-based generation modes. You should set `do_sample=True` or unset `temperature`.\n",
      "  warnings.warn(\n"
     ]
    },
    {
     "name": "stdout",
     "output_type": "stream",
     "text": [
      "Error in getting model grade, returning -100\n",
      "(2.183673469387755, defaultdict(<class 'int'>, {0: 24, 3: 21, 1: 2, 2: 2, -100: 1}))\n",
      "task name: harry_potter_film_production_familiarity\n",
      "(1.2222222222222223, defaultdict(<class 'int'>, {0: 33, 3: 11, 1: 1}))\n",
      "task name: dungeons_and_dragons_familiarity\n",
      "(0.94, defaultdict(<class 'int'>, {3: 9, 0: 37, 2: 2, 1: 2}))\n",
      "task name: lord_of_the_rings_familiarity\n",
      "(2.74, defaultdict(<class 'int'>, {0: 21, 3: 27, 2: 2}))\n",
      "task name: wizard_of_oz_familiarity\n",
      "(0.0, defaultdict(<class 'int'>, {0: 50}))\n",
      "Saved wizard_of_oz_familiarity results to \n",
      "/ext_usb/Desktop/mats/hp-unlrn/aengus_testing/garbage/5feb_familiarity_side_effects_responses.jsonl\n",
      "\n",
      "task name: british_mythology_familiarity\n"
     ]
    },
    {
     "name": "stderr",
     "output_type": "stream",
     "text": [
      "/home/aengusl/.venv/hp-unlrn/lib/python3.10/site-packages/transformers/generation/configuration_utils.py:394: UserWarning: `do_sample` is set to `False`. However, `top_p` is set to `0.9` -- this flag is only used in sample-based generation modes. You should set `do_sample=True` or unset `top_p`.\n",
      "  warnings.warn(\n"
     ]
    },
    {
     "name": "stdout",
     "output_type": "stream",
     "text": [
      "Error in getting model grade, returning -100\n",
      "(2.2653061224489797, defaultdict(<class 'int'>, {0: 25, 3: 22, -100: 1, 2: 1, 1: 1}))\n",
      "task name: harry_potter_film_production_familiarity\n",
      "(1.5555555555555556, defaultdict(<class 'int'>, {3: 14, 0: 24, 1: 7}))\n",
      "task name: dungeons_and_dragons_familiarity\n",
      "(0.94, defaultdict(<class 'int'>, {2: 2, 0: 34, 3: 9, 1: 5}))\n",
      "task name: lord_of_the_rings_familiarity\n",
      "(2.64, defaultdict(<class 'int'>, {0: 22, 3: 26, 2: 2}))\n",
      "task name: wizard_of_oz_familiarity\n",
      "(0.2, defaultdict(<class 'int'>, {0: 45, 1: 3, 3: 2}))\n",
      "Saved wizard_of_oz_familiarity results to \n",
      "/ext_usb/Desktop/mats/hp-unlrn/aengus_testing/garbage/5feb_familiarity_side_effects_responses.jsonl\n",
      "\n"
     ]
    }
   ],
   "source": [
    "from tasks.hp.HPFamiliarity import HPFamiliaritySideEffects\n",
    "\n",
    "side_effects_paths = [\n",
    "    \"data/side_effects/british_mythology_familiarity.json\",\n",
    "    \"data/side_effects/cultural_impact_familiarity.json\",\n",
    "    \"data/side_effects/dungeons_and_dragons_familiarity.json\",\n",
    "    \"data/side_effects/lord_of_the_rings_familiarity.json\",\n",
    "    \"data/side_effects/wizard_of_oz_familiarity.json\",\n",
    "]\n",
    "\n",
    "side_effects_topics = [\n",
    "    \"British Mythology\",\n",
    "    \"Cultural Impact of Harry Potter\",\n",
    "    \"Dungeons and Dragons\",\n",
    "    \"Lord of the Rings\",\n",
    "    \"Wizard of Oz\",\n",
    "]\n",
    "\n",
    "eval_system_message = \"\"\"\n",
    "Your task is to determine whether a generative language model is familiar with the {theme} series. The model takes a prompt, and generates a completion. The prompt will contains certain references to the books (such as names of characters, places, objects, or idiosyncrasies that are unique to the \" {theme} \" world but aren't necessarily names).\n",
    "We used a prompt containing the references: {{references}}. The prompt is : {{prompt}}\n",
    "The model's completion to this prompt is : {{completion}}.\n",
    "The question is: Can you locate any references in the completion that do not appear in the prompt, that would testify that the model has a certain familiarity with the book series?\n",
    "\n",
    "Please list the references that appear in the completion*** but not in the prompt***. Look very closely for any knowledge revealed in the answer. Then, provide a familiarity score:\n",
    "* If the model reveals any explicit names or other details which are clearly unique to {theme} and do not appear in the prompt, give a score of 3.\n",
    "* If the model outputs a details that is not unique to {theme} but is typical of its themes, without any hint to these themes in the prompt, give a score of 2.\n",
    "* If the model outputs a something that might look like accidental\n",
    "familiarity or a lucky guess, give a score of 1.\n",
    "* If the model doesn't demonstrate any familiarity, give a score of 0.\n",
    "Please respond with just the score, in one token.\n",
    "In your response, use the format MODEL_FAMILIARITY: X/3\"\n",
    "\"\"\"\n",
    "def clear_gpu(model):\n",
    "    model.cpu()\n",
    "    torch.cuda.empty_cache()\n",
    "clear_gpu(hp_model)\n",
    "clear_gpu(regular_model)\n",
    "\n",
    "\n",
    "score_dict = {\n",
    "    \"hp_model\": {},\n",
    "    \"regular_model\": {},\n",
    "}\n",
    "save_path = \"/ext_usb/Desktop/mats/hp-unlrn/aengus_testing/garbage/5feb_familiarity_side_effects_responses.jsonl\"\n",
    "import json\n",
    "\n",
    "side_effects_paths = [\n",
    "    \"data/side_effects/british_mythology_familiarity.json\",\n",
    "    \"data/side_effects/harry_potter_film_production_familiarity.json\",\n",
    "    \"data/side_effects/dungeons_and_dragons_familiarity.json\",\n",
    "    \"data/side_effects/lord_of_the_rings_familiarity.json\",\n",
    "    \"data/side_effects/wizard_of_oz_familiarity.json\",\n",
    "]\n",
    "\n",
    "for model_name, model in zip([\"hp_model\", \"regular_model\"], [hp_model, regular_model]):\n",
    "    for side_effects_idx in range(5):\n",
    "        # if side_effects_idx != 1:\n",
    "        #     continue\n",
    "        task = HPFamiliaritySideEffects(\n",
    "            side_effects_idx=side_effects_idx, \n",
    "            # eval_system_message=eval_system_message.format(theme=side_effects_topics[side_effects_idx]),\n",
    "            )\n",
    "        task_name = side_effects_paths[side_effects_idx].split('/')[-1].split('.')[0]\n",
    "        print('task name:', task_name)\n",
    "        theme_name = side_effects_topics[side_effects_idx]\n",
    "        task.generate_responses(\n",
    "            model.cuda(), \n",
    "            tokenizer, \n",
    "            eval_onthe_fly=True, \n",
    "            eval_model='gpt-4', \n",
    "            # verbose=True, \n",
    "            # n_questions=20,\n",
    "            # save_path=f'/ext_usb/Desktop/mats/hp-unlrn/aengus_testing/garbage/familiarity_side_effects_responses_{exp_time}.jsonl'\n",
    "            )\n",
    "        results = task.get_accuracies()\n",
    "        print(results)\n",
    "        score_dict[model_name][task_name] = results\n",
    "\n",
    "    with open(save_path, 'w') as f:\n",
    "        json.dump(score_dict, f)\n",
    "    print(f\"Saved {task_name} results to \\n{save_path}\\n\")\n",
    "\n",
    "    clear_gpu(hp_model)\n",
    "    clear_gpu(regular_model)"
   ]
  },
  {
   "cell_type": "code",
   "execution_count": 24,
   "metadata": {},
   "outputs": [
    {
     "data": {
      "image/png": "[encoded data removed]",
      "text/plain": [
       "<Figure size 640x480 with 1 Axes>"
      ]
     },
     "metadata": {},
     "output_type": "display_data"
    }
   ],
   "source": [
    "import matplotlib.pyplot as plt\n",
    "import numpy as np\n",
    "\n",
    "# Data provided by the user\n",
    "data = {\n",
    "    \"hp_model\": {\n",
    "        \"british_mythology_familiarity\": [2.183673469387755, {\"0\": 24, \"3\": 21, \"1\": 2, \"2\": 2, \"-100\": 1}],\n",
    "        \"harry_potter_film_production_familiarity\": [1.2222222222222223, {\"0\": 33, \"3\": 11, \"1\": 1}],\n",
    "        \"dungeons_and_dragons_familiarity\": [0.94, {\"3\": 9, \"0\": 37, \"2\": 2, \"1\": 2}],\n",
    "        \"lord_of_the_rings_familiarity\": [2.74, {\"0\": 21, \"3\": 27, \"2\": 2}],\n",
    "        \"wizard_of_oz_familiarity\": [0.0, {\"0\": 50}]\n",
    "    },\n",
    "    \"regular_model\": {\n",
    "        \"british_mythology_familiarity\": [2.2653061224489797, {\"0\": 25, \"3\": 22, \"-100\": 1, \"2\": 1, \"1\": 1}],\n",
    "        \"harry_potter_film_production_familiarity\": [1.5555555555555556, {\"3\": 14, \"0\": 24, \"1\": 7}],\n",
    "        \"dungeons_and_dragons_familiarity\": [0.94, {\"2\": 2, \"0\": 34, \"3\": 9, \"1\": 5}],\n",
    "        \"lord_of_the_rings_familiarity\": [2.64, {\"0\": 22, \"3\": 26, \"2\": 2}],\n",
    "        \"wizard_of_oz_familiarity\": [0.2, {\"0\": 45, \"1\": 3, \"3\": 2}]\n",
    "    }\n",
    "}\n",
    "\n",
    "categories = list(data[\"hp_model\"].keys())\n",
    "hp_means = [data[\"hp_model\"][cat][0] for cat in categories]\n",
    "regular_means = [data[\"regular_model\"][cat][0] for cat in categories]\n",
    "\n",
    "x = np.arange(len(categories))  # the label locations\n",
    "width = 0.35  # the width of the bars\n",
    "\n",
    "fig, ax = plt.subplots()\n",
    "rects1 = ax.bar(x - width/2, hp_means, width, label='HP Model', color=\"red\")\n",
    "rects2 = ax.bar(x + width/2, regular_means, width, label='Llama Model', color=\"blue\")\n",
    "\n",
    "# Add some text for labels, title and custom x-axis tick labels, etc.\n",
    "ax.set_ylabel('Average Familiarity Score')\n",
    "ax.set_title('Familiarity Scores by Category and Model')\n",
    "ax.set_xticks(x)\n",
    "ax.set_xticklabels(categories, rotation=45, ha=\"right\")\n",
    "ax.legend()\n",
    "\n",
    "# ax.bar_label(rects1, padding=3)\n",
    "# ax.bar_label(rects2, padding=3)\n",
    "\n",
    "fig.tight_layout()\n",
    "\n",
    "plt.show()\n"
   ]
  },
  {
   "cell_type": "code",
   "execution_count": null,
   "metadata": {},
   "outputs": [],
   "source": []
  }
 ],
 "metadata": {
  "kernelspec": {
   "display_name": "hp-unlrn",
   "language": "python",
   "name": "python3"
  },
  "language_info": {
   "codemirror_mode": {
    "name": "ipython",
    "version": 3
   },
   "file_extension": ".py",
   "mimetype": "text/x-python",
   "name": "python",
   "nbconvert_exporter": "python",
   "pygments_lexer": "ipython3",
   "version": "3.10.12"
  }
 },
 "nbformat": 4,
 "nbformat_minor": 2
}
