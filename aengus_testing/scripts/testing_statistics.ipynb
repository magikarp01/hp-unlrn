{
 "cells": [
  {
   "cell_type": "code",
   "execution_count": 1,
   "metadata": {},
   "outputs": [
    {
     "name": "stderr",
     "output_type": "stream",
     "text": [
      "/home/aengusl/.venv/hp-unlrn/lib/python3.10/site-packages/tqdm/auto.py:21: TqdmWarning: IProgress not found. Please update jupyter and ipywidgets. See https://ipywidgets.readthedocs.io/en/stable/user_install.html\n",
      "  from .autonotebook import tqdm as notebook_tqdm\n"
     ]
    }
   ],
   "source": [
    "import os\n",
    "os.chdir('/ext_usb/Desktop/mats/hp-unlrn')\n",
    "from tasks.hp.HPSAQ import HPSAQ\n",
    "os.chdir('aengus_testing')\n",
    "import json\n",
    "\n",
    "with open('datasets/hp-7b-SAQ-evaluated-Fri-Jan12-0045.jsonl') as f:\n",
    "    data = [json.loads(line) for line in f]\n",
    "data[0]\n",
    "\n",
    "hp_task = HPSAQ()"
   ]
  },
  {
   "cell_type": "code",
   "execution_count": 2,
   "metadata": {},
   "outputs": [
    {
     "ename": "TypeError",
     "evalue": "HPSAQ.get_accuracies() missing 1 required positional argument: 'question_types'",
     "output_type": "error",
     "traceback": [
      "\u001b[0;31m---------------------------------------------------------------------------\u001b[0m",
      "\u001b[0;31mTypeError\u001b[0m                                 Traceback (most recent call last)",
      "Cell \u001b[0;32mIn[2], line 1\u001b[0m\n\u001b[0;32m----> 1\u001b[0m hp_accuracies \u001b[38;5;241m=\u001b[39m \u001b[43mhp_task\u001b[49m\u001b[38;5;241;43m.\u001b[39;49m\u001b[43mget_accuracies\u001b[49m\u001b[43m(\u001b[49m\u001b[43mresults_dataset\u001b[49m\u001b[38;5;241;43m=\u001b[39;49m\u001b[38;5;124;43m'\u001b[39;49m\u001b[38;5;124;43m/ext_usb/Desktop/mats/hp-unlrn/aengus_testing/datasets/hp-7b-SAQ-evaluated-Fri-Jan12-0045.jsonl\u001b[39;49m\u001b[38;5;124;43m'\u001b[39;49m\u001b[43m)\u001b[49m\n\u001b[1;32m      2\u001b[0m llama_accuracies \u001b[38;5;241m=\u001b[39m hp_task\u001b[38;5;241m.\u001b[39mget_accuracies(results_dataset\u001b[38;5;241m=\u001b[39m\u001b[38;5;124m'\u001b[39m\u001b[38;5;124m/ext_usb/Desktop/mats/hp-unlrn/aengus_testing/datasets/llama-7b-SAQ-evaluated-Fri-Jan12-0045.jsonl\u001b[39m\u001b[38;5;124m'\u001b[39m)\n",
      "\u001b[0;31mTypeError\u001b[0m: HPSAQ.get_accuracies() missing 1 required positional argument: 'question_types'"
     ]
    }
   ],
   "source": [
    "hp_accuracies = hp_task.get_accuracies(results_dataset='/ext_usb/Desktop/mats/hp-unlrn/aengus_testing/datasets/hp-7b-SAQ-evaluated-Fri-Jan12-0045.jsonl')\n",
    "llama_accuracies = hp_task.get_accuracies(results_dataset='/ext_usb/Desktop/mats/hp-unlrn/aengus_testing/datasets/llama-7b-SAQ-evaluated-Fri-Jan12-0045.jsonl')\n",
    "\n"
   ]
  },
  {
   "cell_type": "code",
   "execution_count": null,
   "metadata": {},
   "outputs": [],
   "source": [
    " import matplotlib.pyplot as plt\n",
    "\n",
    "# Accuracies for HP and LLAMA\n",
    "# hp_accuracies = {'zero_shot': 0.5537848605577689, 'few_shot': 0.23092369477911648, 'unrelated_few_shot': 0.18326693227091634}\n",
    "# llama_accuracies = {'zero_shot': 0.5836653386454184, 'few_shot': 0.3273092369477912, 'unrelated_few_shot': 0.23904382470119523}\n",
    "\n",
    "# Labels for the bars\n",
    "labels = list(hp_accuracies.keys())\n",
    "\n",
    "# Values for each group\n",
    "hp_values = list(hp_accuracies.values())\n",
    "llama_values = list(llama_accuracies.values())\n",
    "\n",
    "# Set position of bar on X axis\n",
    "r1 = range(len(labels))\n",
    "r2 = [x + 0.25 for x in r1]\n",
    "\n",
    "# Make the plot\n",
    "plt.bar(r1, hp_values, color='blue', width=0.25, edgecolor='grey', label='HP')\n",
    "plt.bar(r2, llama_values, color='red', width=0.25, edgecolor='grey', label='LLAMA')\n",
    "\n",
    "# Add xticks on the middle of the group bars\n",
    "plt.xlabel('Question Type', fontweight='bold')\n",
    "plt.xticks([r + 0.125 for r in range(len(r1))], labels)\n",
    "plt.ylabel('Accuracy')\n",
    "\n",
    "# Create legend & Show graphic\n",
    "plt.legend()\n",
    "plt.show()\n"
   ]
  }
 ],
 "metadata": {
  "kernelspec": {
   "display_name": "hp-unlrn",
   "language": "python",
   "name": "python3"
  },
  "language_info": {
   "codemirror_mode": {
    "name": "ipython",
    "version": 3
   },
   "file_extension": ".py",
   "mimetype": "text/x-python",
   "name": "python",
   "nbconvert_exporter": "python",
   "pygments_lexer": "ipython3",
   "version": "3.10.12"
  }
 },
 "nbformat": 4,
 "nbformat_minor": 2
}
