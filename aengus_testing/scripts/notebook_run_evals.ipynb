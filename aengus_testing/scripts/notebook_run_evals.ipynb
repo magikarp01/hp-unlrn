{
 "cells": [
  {
   "cell_type": "code",
   "execution_count": 1,
   "metadata": {},
   "outputs": [
    {
     "name": "stderr",
     "output_type": "stream",
     "text": [
      "/home/aengusl/.venv/hp-unlrn/lib/python3.10/site-packages/tqdm/auto.py:21: TqdmWarning: IProgress not found. Please update jupyter and ipywidgets. See https://ipywidgets.readthedocs.io/en/stable/user_install.html\n",
      "  from .autonotebook import tqdm as notebook_tqdm\n"
     ]
    },
    {
     "name": "stdout",
     "output_type": "stream",
     "text": [
      "curent wd: /ext_usb/Desktop/mats/hp-unlrn/aengus_testing/scripts\n",
      "new wd: /ext_usb/Desktop/mats/hp-unlrn\n"
     ]
    },
    {
     "name": "stderr",
     "output_type": "stream",
     "text": [
      "Loading checkpoint shards: 100%|██████████| 2/2 [00:09<00:00,  4.64s/it]\n"
     ]
    }
   ],
   "source": [
    "from transformers import AutoTokenizer, AutoModelForCausalLM\n",
    "import torch\n",
    "%load_ext autoreload\n",
    "%autoreload 2\n",
    "import numpy as np\n",
    "import matplotlib.pyplot as plt\n",
    "import transformers\n",
    "import datasets\n",
    "import torch\n",
    "import pandas as pd\n",
    "from tqdm import tqdm\n",
    "import os\n",
    "# print current directory\n",
    "print(f\"curent wd: {os.getcwd()}\")\n",
    "os.chdir('../..')\n",
    "print(f\"new wd: {os.getcwd()}\")\n",
    "from tasks.hp.HPSAQ import HPSAQ\n",
    "\n",
    "# might need to adapt to quantize for 24gb 3090, or remove .cuda()\n",
    "hp_model = AutoModelForCausalLM.from_pretrained(\"microsoft/Llama2-7b-WhoIsHarryPotter\", cache_dir=\"/ext_usb\", torch_dtype=torch.bfloat16)\n",
    "regular_model = AutoModelForCausalLM.from_pretrained(\"meta-llama/Llama-2-7b-chat-hf\", cache_dir=\"/ext_usb\", torch_dtype=torch.bfloat16)\n",
    "tokenizer = AutoTokenizer.from_pretrained(\"microsoft/Llama2-7b-WhoIsHarryPotter\")\n",
    "tokenizer.pad_token = tokenizer.eos_token\n",
    "\n",
    "def clear_gpu(model):\n",
    "    model.cpu()\n",
    "    torch.cuda.empty_cache()"
   ]
  },
  {
   "cell_type": "code",
   "execution_count": 3,
   "metadata": {},
   "outputs": [
    {
     "name": "stdout",
     "output_type": "stream",
     "text": [
      "\n",
      "\n",
      "\n",
      "getting scores for hp\n"
     ]
    },
    {
     "name": "stderr",
     "output_type": "stream",
     "text": [
      "/home/aengusl/.venv/hp-unlrn/lib/python3.10/site-packages/transformers/generation/configuration_utils.py:389: UserWarning: `do_sample` is set to `False`. However, `temperature` is set to `0` -- this flag is only used in sample-based generation modes. You should set `do_sample=True` or unset `temperature`.\n",
      "  warnings.warn(\n"
     ]
    },
    {
     "name": "stdout",
     "output_type": "stream",
     "text": [
      "Saved results to temp/Tue-Jan30-0127.jsonl\n",
      "Book 1, scores: {'zero_shot': 0.3333333333333333, 'few_shot': 0.0975609756097561, 'unrelated_few_shot': 0.06666666666666667}\n",
      "Saved results to temp/Tue-Jan30-0128.jsonl\n",
      "Book 2, scores: {'zero_shot': 0.3148148148148148, 'few_shot': 0.14, 'unrelated_few_shot': 0.16666666666666666}\n",
      "Saved results to temp/Tue-Jan30-0129.jsonl\n",
      "Book 3, scores: {'zero_shot': 0.41379310344827586, 'few_shot': 0.25925925925925924, 'unrelated_few_shot': 0.2413793103448276}\n",
      "Saved results to temp/Tue-Jan30-0131.jsonl\n",
      "Book 4, scores: {'zero_shot': 0.48148148148148145, 'few_shot': 0.2, 'unrelated_few_shot': 0.24074074074074073}\n",
      "Saved results to temp/Tue-Jan30-0132.jsonl\n",
      "Book 5, scores: {'zero_shot': 0.7358490566037735, 'few_shot': 0.1836734693877551, 'unrelated_few_shot': 0.16981132075471697}\n",
      "Saved results to temp/Tue-Jan30-0134.jsonl\n",
      "Book 6, scores: {'zero_shot': 0.5833333333333334, 'few_shot': 0.3181818181818182, 'unrelated_few_shot': 0.16666666666666666}\n",
      "Saved results to temp/Tue-Jan30-0135.jsonl\n",
      "Book 7, scores: {'zero_shot': 0.6595744680851063, 'few_shot': 0.27906976744186046, 'unrelated_few_shot': 0.19148936170212766}\n",
      "\n",
      "\n",
      "\n",
      "getting scores for regular\n"
     ]
    },
    {
     "name": "stderr",
     "output_type": "stream",
     "text": [
      "/home/aengusl/.venv/hp-unlrn/lib/python3.10/site-packages/transformers/generation/configuration_utils.py:394: UserWarning: `do_sample` is set to `False`. However, `top_p` is set to `0.9` -- this flag is only used in sample-based generation modes. You should set `do_sample=True` or unset `top_p`.\n",
      "  warnings.warn(\n"
     ]
    },
    {
     "name": "stdout",
     "output_type": "stream",
     "text": [
      "Saved results to temp/Tue-Jan30-0136.jsonl\n",
      "Book 1, scores: {'zero_shot': 0.26666666666666666, 'few_shot': 0.21951219512195122, 'unrelated_few_shot': 0.15555555555555556}\n",
      "Saved results to temp/Tue-Jan30-0138.jsonl\n",
      "Book 2, scores: {'zero_shot': 0.3333333333333333, 'few_shot': 0.26, 'unrelated_few_shot': 0.25925925925925924}\n",
      "Saved results to temp/Tue-Jan30-0139.jsonl\n",
      "Book 3, scores: {'zero_shot': 0.3448275862068966, 'few_shot': 0.3148148148148148, 'unrelated_few_shot': 0.3448275862068966}\n",
      "Saved results to temp/Tue-Jan30-0140.jsonl\n",
      "Book 4, scores: {'zero_shot': 0.46296296296296297, 'few_shot': 0.32, 'unrelated_few_shot': 0.3148148148148148}\n",
      "Saved results to temp/Tue-Jan30-0142.jsonl\n",
      "Book 5, scores: {'zero_shot': 0.6037735849056604, 'few_shot': 0.32653061224489793, 'unrelated_few_shot': 0.39622641509433965}\n",
      "Saved results to temp/Tue-Jan30-0143.jsonl\n",
      "Book 6, scores: {'zero_shot': 0.6666666666666666, 'few_shot': 0.4772727272727273, 'unrelated_few_shot': 0.3125}\n",
      "Saved results to temp/Tue-Jan30-0145.jsonl\n",
      "Book 7, scores: {'zero_shot': 0.48936170212765956, 'few_shot': 0.3488372093023256, 'unrelated_few_shot': 0.3191489361702128}\n"
     ]
    }
   ],
   "source": [
    "from tasks.hp.HPSAQ import HPSAQTranchedByBook\n",
    "import json\n",
    "\n",
    "hp_task = HPSAQTranchedByBook(book_idx=1)\n",
    "def clear_all():\n",
    "    clear_gpu(regular_model)\n",
    "    clear_gpu(hp_model)\n",
    "\n",
    "clear_all()\n",
    "\n",
    "# hp_task.generate_responses(hp_model.cuda(), tokenizer, eval_onthe_fly=True, eval_model='gpt-3.5-turbo', verbose=False)\n",
    "# hp_scores = hp_task.get_accuracies()\n",
    "# print(f\"hp scores: {hp_scores}\")\n",
    "# clear_all()\n",
    "\n",
    "# hp_task.generate_responses(regular_model.cuda(), tokenizer, eval_onthe_fly=True, eval_model='gpt-3.5-turbo', verbose=False)\n",
    "# regular_scores = hp_task.get_accuracies()\n",
    "# print(f\"regular scores: {regular_scores}\")\n",
    "\n",
    "def get_scores_for_all_books(model):\n",
    "\n",
    "    scores = []\n",
    "    for book_idx in range(1,8):\n",
    "        hp_task = HPSAQTranchedByBook(book_idx=book_idx)\n",
    "        hp_task.generate_responses(model.cuda(), tokenizer, eval_onthe_fly=True, eval_model='gpt-3.5-turbo', verbose=False)\n",
    "        scores.append(hp_task.get_accuracies())\n",
    "        print(f\"Book {book_idx}, scores: {scores[-1]}\")\n",
    "    return scores\n",
    "\n",
    "clear_all()\n",
    "print(\"\\n\\n\\ngetting scores for hp\")\n",
    "hp_scores = get_scores_for_all_books(hp_model)\n",
    "clear_all()\n",
    "print(\"\\n\\n\\ngetting scores for regular\")\n",
    "regular_scores = get_scores_for_all_books(regular_model)\n",
    "\n",
    "\n",
    "with open(\"tranched_scores.jsonl\", \"w\") as f:\n",
    "    for hp_score, regular_score in zip(hp_scores, regular_scores):\n",
    "        f.write(json.dumps({\"hp\": hp_score, \"regular\": regular_score}))\n",
    "        f.write(\"\\n\")\n"
   ]
  },
  {
   "cell_type": "code",
   "execution_count": 4,
   "metadata": {},
   "outputs": [],
   "source": [
    "with open(\"/ext_usb/Desktop/mats/hp-unlrn/aengus_testing/tranched_scores.jsonl\", \"r\") as f:\n",
    "    scores = [json.loads(line) for line in f.readlines()]\n",
    "\n",
    "books = {}\n",
    "for i, score in enumerate(scores):\n",
    "    books[i+1] = score\n",
    "\n",
    "with open(\"/ext_usb/Desktop/mats/hp-unlrn/aengus_testing/3tranched_scores.jsonl\", \"w\") as f:\n",
    "    f.write(json.dumps(books))"
   ]
  },
  {
   "cell_type": "code",
   "execution_count": 6,
   "metadata": {},
   "outputs": [
    {
     "data": {
      "image/png": "[encoded data removed]",
      "text/plain": [
       "<Figure size 640x480 with 1 Axes>"
      ]
     },
     "metadata": {},
     "output_type": "display_data"
    }
   ],
   "source": [
    "import matplotlib.pyplot as plt\n",
    "import numpy as np\n",
    "\n",
    "# Provided data\n",
    "# data = {\n",
    "#     \"1\": {\n",
    "#         \"hp\": {\"zero_shot\": 0.3111111111111111, \"few_shot\": 0.12195121951219512, \"unrelated_few_shot\": 0.13333333333333333},\n",
    "#         \"regular\": {\"zero_shot\": 0.26666666666666666, \"few_shot\": 0.21951219512195122, \"unrelated_few_shot\": 0.24444444444444444}\n",
    "#     },\n",
    "#     \"2\": {\n",
    "#         \"hp\": {\"zero_shot\": 0.3148148148148148, \"few_shot\": 0.18, \"unrelated_few_shot\": 0.2037037037037037},\n",
    "#         \"regular\": {\"zero_shot\": 0.24074074074074073, \"few_shot\": 0.32, \"unrelated_few_shot\": 0.2777777777777778}\n",
    "#     }\n",
    "# }\n",
    "data = {\"1\": {\"hp\": {\"zero_shot\": 0.3111111111111111, \"few_shot\": 0.12195121951219512, \"unrelated_few_shot\": 0.13333333333333333}, \"regular\": {\"zero_shot\": 0.26666666666666666, \"few_shot\": 0.21951219512195122, \"unrelated_few_shot\": 0.24444444444444444}}, \"2\": {\"hp\": {\"zero_shot\": 0.3148148148148148, \"few_shot\": 0.18, \"unrelated_few_shot\": 0.2037037037037037}, \"regular\": {\"zero_shot\": 0.24074074074074073, \"few_shot\": 0.32, \"unrelated_few_shot\": 0.2777777777777778}}, \"3\": {\"hp\": {\"zero_shot\": 0.3275862068965517, \"few_shot\": 0.2777777777777778, \"unrelated_few_shot\": 0.2413793103448276}, \"regular\": {\"zero_shot\": 0.3793103448275862, \"few_shot\": 0.35185185185185186, \"unrelated_few_shot\": 0.29310344827586204}}, \"4\": {\"hp\": {\"zero_shot\": 0.4444444444444444, \"few_shot\": 0.26, \"unrelated_few_shot\": 0.3148148148148148}, \"regular\": {\"zero_shot\": 0.42592592592592593, \"few_shot\": 0.34, \"unrelated_few_shot\": 0.3333333333333333}}, \"5\": {\"hp\": {\"zero_shot\": 0.6415094339622641, \"few_shot\": 0.32653061224489793, \"unrelated_few_shot\": 0.22641509433962265}, \"regular\": {\"zero_shot\": 0.5849056603773585, \"few_shot\": 0.4897959183673469, \"unrelated_few_shot\": 0.4716981132075472}}, \"6\": {\"hp\": {\"zero_shot\": 0.5, \"few_shot\": 0.29545454545454547, \"unrelated_few_shot\": 0.1875}, \"regular\": {\"zero_shot\": 0.5416666666666666, \"few_shot\": 0.4090909090909091, \"unrelated_few_shot\": 0.3125}}, \"7\": {\"hp\": {\"zero_shot\": 0.5957446808510638, \"few_shot\": 0.23255813953488372, \"unrelated_few_shot\": 0.2553191489361702}, \"regular\": {\"zero_shot\": 0.3191489361702128, \"few_shot\": 0.3488372093023256, \"unrelated_few_shot\": 0.3191489361702128}}}\n",
    "# Extracting categories and subcategories\n",
    "categories = list(data[\"1\"].keys())\n",
    "subcategories = list(data[\"1\"][categories[0]].keys())\n",
    "\n",
    "# Creating the plot with dictionary labels on x-axis\n",
    "fig, ax = plt.subplots()\n",
    "\n",
    "# Setting bar width\n",
    "bar_width = 0.2\n",
    "\n",
    "# Colors for each category\n",
    "colors = {'hp': 'red', 'regular': 'blue'}\n",
    "\n",
    "# Creating bars with colors and adjusting x-ticks for dictionary labels\n",
    "for i, (dict_key, dict_data) in enumerate(data.items()):\n",
    "    # Offset to separate each dictionary's data\n",
    "    offset = len(subcategories) * (len(categories) + 1) * bar_width\n",
    "    \n",
    "    for j, category in enumerate(categories):\n",
    "        # Extracting values for each subcategory in the current category\n",
    "        values = [dict_data[category][sub] for sub in subcategories]\n",
    "\n",
    "        # Position of bars for this category within the current dictionary\n",
    "        positions = np.arange(len(subcategories)) * bar_width * len(categories) + offset * i + bar_width * j\n",
    "\n",
    "        ax.bar(positions, values, bar_width, label=f'{category}', color=colors[category])\n",
    "\n",
    "# Adding labels and title\n",
    "ax.set_xlabel('Harry Potter Book (Zero, Few, Unrelated)')\n",
    "ax.set_ylabel('Values')\n",
    "ax.set_title('SAQ on book specific trivia\\nHP red, Regular blue')\n",
    "\n",
    "# Setting the x-axis ticks and labels for dictionaries\n",
    "dict_labels = [f'Book {dict_key}' for dict_key in data.keys()]\n",
    "dict_positions = np.arange(len(dict_labels)) * offset + bar_width * len(categories) / 2\n",
    "ax.set_xticks(dict_positions)\n",
    "ax.set_xticklabels(dict_labels)\n",
    "# ax.legend()\n",
    "\n",
    "# Display the plot\n",
    "plt.show()\n"
   ]
  },
  {
   "cell_type": "code",
   "execution_count": 2,
   "metadata": {},
   "outputs": [
    {
     "name": "stdout",
     "output_type": "stream",
     "text": [
      "/ext_usb/Desktop/mats/hp-unlrn\n",
      "/ext_usb/Desktop/mats/hp-unlrn\n"
     ]
    },
    {
     "name": "stderr",
     "output_type": "stream",
     "text": [
      "Loading checkpoint shards: 100%|██████████| 2/2 [00:17<00:00,  8.81s/it]\n"
     ]
    }
   ],
   "source": [
    "import os\n",
    "print(os.getcwd())\n",
    "os.chdir('/ext_usb/Desktop/mats/hp-unlrn/')\n",
    "print(os.getcwd())\n",
    "from tasks.hp.HPFamiliarity import HPCompletionsFamiliarity\n",
    "from datetime import datetime\n",
    "from transformers import AutoTokenizer, AutoModelForCausalLM\n",
    "import torch\n",
    "\n",
    "def clear_all():\n",
    "    clear_gpu(regular_model)\n",
    "    clear_gpu(hp_model)\n",
    "\n",
    "# might need to adapt to quantize for 24gb 3090, or remove .cuda()\n",
    "hp_model = AutoModelForCausalLM.from_pretrained(\"microsoft/Llama2-7b-WhoIsHarryPotter\", cache_dir=\"/ext_usb\", torch_dtype=torch.bfloat16)\n",
    "regular_model = AutoModelForCausalLM.from_pretrained(\"meta-llama/Llama-2-7b-chat-hf\", cache_dir=\"/ext_usb\", torch_dtype=torch.bfloat16)\n",
    "tokenizer = AutoTokenizer.from_pretrained(\"microsoft/Llama2-7b-WhoIsHarryPotter\")\n",
    "tokenizer.pad_token = tokenizer.eos_token"
   ]
  },
  {
   "cell_type": "code",
   "execution_count": 6,
   "metadata": {},
   "outputs": [
    {
     "name": "stderr",
     "output_type": "stream",
     "text": [
      "  0%|          | 0/20 [00:00<?, ?it/s]/home/aengusl/.venv/hp-unlrn/lib/python3.10/site-packages/transformers/generation/configuration_utils.py:389: UserWarning: `do_sample` is set to `False`. However, `temperature` is set to `0` -- this flag is only used in sample-based generation modes. You should set `do_sample=True` or unset `temperature`.\n",
      "  warnings.warn(\n",
      "/home/aengusl/.venv/hp-unlrn/lib/python3.10/site-packages/transformers/generation/configuration_utils.py:394: UserWarning: `do_sample` is set to `False`. However, `top_p` is set to `0.9` -- this flag is only used in sample-based generation modes. You should set `do_sample=True` or unset `top_p`.\n",
      "  warnings.warn(\n",
      "100%|██████████| 20/20 [00:18<00:00,  1.10it/s]"
     ]
    },
    {
     "name": "stdout",
     "output_type": "stream",
     "text": [
      "3.25\n",
      "defaultdict(<class 'int'>, {'1': 2, '3': 13, '0': 5})\n"
     ]
    },
    {
     "name": "stderr",
     "output_type": "stream",
     "text": [
      "\n"
     ]
    }
   ],
   "source": [
    "def clear_gpu(model):\n",
    "    model.cpu()\n",
    "    torch.cuda.empty_cache()\n",
    "\n",
    "def clear_all():\n",
    "    clear_gpu(regular_model)\n",
    "    clear_gpu(hp_model)\n",
    "\n",
    "clear_all()\n",
    "\n",
    "hp_familiarity_task = HPCompletionsFamiliarity(dataset_path='tasks/hp/data/msr_data/evaluation_prompts_short.json')\n",
    "\n",
    "exp_time = datetime.now().strftime(\"%a-%b%-d-%H%M\")\n",
    "save_path = f'aengus_testing/datasets/llama-short-familiarity-completions-evaluated-{exp_time}.jsonl'\n",
    "\n",
    "hp_familiarity_task.generate_responses(regular_model.cuda(), tokenizer, save_path=save_path, eval_onthe_fly=True, eval_model='gpt-4-turbo-preview', max_new_tokens=20, temperature=0, verbose=True)\n",
    "\n",
    "# hp_familiarity_task.run_model_evals(eval_model='gpt-3.5-turbo', max_eval_tokens=1, save_path=save_path)\n",
    "\n",
    "familiarity, responses = hp_familiarity_task.get_accuracies()\n",
    "print(familiarity)\n",
    "print(responses)"
   ]
  },
  {
   "cell_type": "markdown",
   "metadata": {},
   "source": [
    "### Trivia binary choice"
   ]
  },
  {
   "cell_type": "code",
   "execution_count": 2,
   "metadata": {},
   "outputs": [
    {
     "name": "stderr",
     "output_type": "stream",
     "text": [
      "Asking to truncate to max_length but no maximum length is provided and the model has no predefined maximum length. Default to no truncation.\n"
     ]
    },
    {
     "name": "stdout",
     "output_type": "stream",
     "text": [
      "reg test loss  tensor(0.3832, device='cuda:0')\n",
      "reg test acc  0.9115853658536586\n",
      "hp test loss  tensor(0.4391, device='cuda:0')\n",
      "hp test acc  0.818089430894309\n",
      "finetuned test loss  tensor(0.6359, device='cuda:0')\n",
      "finetuned test acc  0.8262195121951219\n"
     ]
    }
   ],
   "source": [
    "\n",
    "def clear_all():\n",
    "    clear_gpu(regular_model)\n",
    "    clear_gpu(hp_model)\n",
    "\n",
    "clear_all()\n",
    "regular_model.cuda()\n",
    "from tasks.hp.HPTask import HPTriviaTask\n",
    "hp = HPTriviaTask(batch_size=10, tokenizer=tokenizer, device='cuda', chat_model=True, randomize_answers=True)\n",
    "print('reg test loss ', hp.get_test_loss(regular_model))\n",
    "# print(hp.get_test_loss(hp_model))\n",
    "print('reg test acc ', hp.get_test_accuracy(regular_model, use_test_data=False, check_all_logits=False, n_iters=100))\n",
    "\n",
    "# now do it all for the hp model\n",
    "\n",
    "clear_all()\n",
    "hp_model.cuda()\n",
    "hp = HPTriviaTask(batch_size=10, tokenizer=tokenizer, device='cuda', chat_model=True, randomize_answers=True)\n",
    "print('hp test loss ', hp.get_test_loss(hp_model))\n",
    "print('hp test acc ', hp.get_test_accuracy(hp_model, use_test_data=False, check_all_logits=False, n_iters=100))\n",
    "\n",
    "clear_all()\n",
    "finetuned_model.cuda()\n",
    "hp = HPTriviaTask(batch_size=10, tokenizer=tokenizer, device='cuda', chat_model=True, randomize_answers=True)\n",
    "print('finetuned test loss ', hp.get_test_loss(finetuned_model))\n",
    "print('finetuned test acc ', hp.get_test_accuracy(finetuned_model, use_test_data=False, check_all_logits=False, n_iters=100))\n",
    "\n",
    "\n",
    "# clear_gpu(hp_model)\n",
    "# regular_model.cuda()\n",
    "\n",
    "# from tasks.hp.HPTranslatedTask import HPTriviaSpanishTask\n",
    "\n",
    "# spanish_task = HPTriviaSpanishTask(batch_size=1, tokenizer=tokenizer, device='cuda', chat_model=True, randomize_answers=True)\n",
    "# print('spanish reg test loss ', spanish_task.get_test_loss(regular_model))\n",
    "# print('spanish reg test acc ', spanish_task.get_test_accuracy(regular_model, use_test_data=False, check_all_logits=False, n_iters=100))\n",
    "\n",
    "# clear_gpu(regular_model)\n",
    "# hp_model.cuda()\n",
    "\n",
    "# spanish_task = HPTriviaSpanishTask(batch_size=1, tokenizer=tokenizer, device='cuda', chat_model=True, randomize_answers=True)\n",
    "# print('spanish hp test loss ', spanish_task.get_test_loss(hp_model))\n",
    "# print('spanish hp test acc ', spanish_task.get_test_accuracy(hp_model, use_test_data=False, check_all_logits=False, n_iters=100))\n"
   ]
  },
  {
   "cell_type": "markdown",
   "metadata": {},
   "source": [
    "### SAQ with model grading"
   ]
  },
  {
   "cell_type": "code",
   "execution_count": 3,
   "metadata": {},
   "outputs": [
    {
     "name": "stdout",
     "output_type": "stream",
     "text": [
      "\n",
      "Question 1/502 -- Time: 02:03:30\n",
      "Saved results to temp/Wed-Jan24-0203.jsonl\n",
      "\n",
      "Question 2/502 -- Time: 02:03:32\n",
      "Saved results to temp/Wed-Jan24-0203.jsonl\n",
      "\n",
      "Question 3/502 -- Time: 02:03:34\n",
      "Saved results to temp/Wed-Jan24-0203.jsonl\n",
      "\n",
      "Question 4/502 -- Time: 02:03:35\n",
      "Saved results to temp/Wed-Jan24-0203.jsonl\n",
      "\n",
      "Question 5/502 -- Time: 02:03:37\n",
      "Saved results to temp/Wed-Jan24-0203.jsonl\n",
      "\n",
      "Question 6/502 -- Time: 02:03:40\n",
      "Saved results to temp/Wed-Jan24-0203.jsonl\n",
      "\n",
      "Question 7/502 -- Time: 02:03:43\n",
      "Saved results to temp/Wed-Jan24-0203.jsonl\n",
      "\n",
      "Question 8/502 -- Time: 02:03:45\n",
      "Saved results to temp/Wed-Jan24-0203.jsonl\n",
      "\n",
      "Question 9/502 -- Time: 02:03:48\n",
      "Saved results to temp/Wed-Jan24-0203.jsonl\n",
      "\n",
      "Question 10/502 -- Time: 02:03:50\n",
      "Saved results to temp/Wed-Jan24-0203.jsonl\n",
      "Saved results to temp/Wed-Jan24-0203.jsonl\n",
      "hp scores: {'zero_shot': 0.3, 'few_shot': 0.3333333333333333, 'unrelated_few_shot': 0.2}\n",
      "\n",
      "Question 1/502 -- Time: 02:04:03\n"
     ]
    },
    {
     "name": "stderr",
     "output_type": "stream",
     "text": [
      "/root/.venv/hp-unlrn/lib/python3.10/site-packages/transformers/generation/configuration_utils.py:392: UserWarning: `do_sample` is set to `False`. However, `temperature` is set to `0.6` -- this flag is only used in sample-based generation modes. You should set `do_sample=True` or unset `temperature`.\n",
      "  warnings.warn(\n",
      "/root/.venv/hp-unlrn/lib/python3.10/site-packages/transformers/generation/configuration_utils.py:397: UserWarning: `do_sample` is set to `False`. However, `top_p` is set to `0.9` -- this flag is only used in sample-based generation modes. You should set `do_sample=True` or unset `top_p`.\n",
      "  warnings.warn(\n"
     ]
    },
    {
     "name": "stdout",
     "output_type": "stream",
     "text": [
      "Saved results to temp/Wed-Jan24-0204.jsonl\n",
      "\n",
      "Question 2/502 -- Time: 02:04:04\n",
      "Saved results to temp/Wed-Jan24-0204.jsonl\n",
      "\n",
      "Question 3/502 -- Time: 02:04:05\n",
      "Saved results to temp/Wed-Jan24-0204.jsonl\n",
      "\n",
      "Question 4/502 -- Time: 02:04:06\n",
      "Saved results to temp/Wed-Jan24-0204.jsonl\n",
      "\n",
      "Question 5/502 -- Time: 02:04:08\n",
      "Saved results to temp/Wed-Jan24-0204.jsonl\n",
      "\n",
      "Question 6/502 -- Time: 02:04:11\n",
      "Saved results to temp/Wed-Jan24-0204.jsonl\n",
      "\n",
      "Question 7/502 -- Time: 02:04:12\n",
      "Saved results to temp/Wed-Jan24-0204.jsonl\n",
      "\n",
      "Question 8/502 -- Time: 02:04:14\n",
      "Saved results to temp/Wed-Jan24-0204.jsonl\n",
      "\n",
      "Question 9/502 -- Time: 02:04:17\n",
      "Saved results to temp/Wed-Jan24-0204.jsonl\n",
      "\n",
      "Question 10/502 -- Time: 02:04:19\n",
      "Saved results to temp/Wed-Jan24-0204.jsonl\n",
      "Saved results to temp/Wed-Jan24-0204.jsonl\n",
      "reg scores: {'zero_shot': 0.4, 'few_shot': 0.3333333333333333, 'unrelated_few_shot': 0.2}\n",
      "\n",
      "Question 1/502 -- Time: 02:04:36\n",
      "Saved results to temp/Wed-Jan24-0204.jsonl\n",
      "\n",
      "Question 2/502 -- Time: 02:04:37\n",
      "Saved results to temp/Wed-Jan24-0204.jsonl\n",
      "\n",
      "Question 3/502 -- Time: 02:04:39\n",
      "Saved results to temp/Wed-Jan24-0204.jsonl\n",
      "\n",
      "Question 4/502 -- Time: 02:04:40\n",
      "Saved results to temp/Wed-Jan24-0204.jsonl\n",
      "\n",
      "Question 5/502 -- Time: 02:04:42\n",
      "Saved results to temp/Wed-Jan24-0204.jsonl\n",
      "\n",
      "Question 6/502 -- Time: 02:04:45\n",
      "Saved results to temp/Wed-Jan24-0204.jsonl\n",
      "\n",
      "Question 7/502 -- Time: 02:04:47\n",
      "Saved results to temp/Wed-Jan24-0204.jsonl\n",
      "\n",
      "Question 8/502 -- Time: 02:04:49\n",
      "Saved results to temp/Wed-Jan24-0204.jsonl\n",
      "\n",
      "Question 9/502 -- Time: 02:04:51\n",
      "Saved results to temp/Wed-Jan24-0204.jsonl\n",
      "\n",
      "Question 10/502 -- Time: 02:04:54\n",
      "Saved results to temp/Wed-Jan24-0204.jsonl\n",
      "Saved results to temp/Wed-Jan24-0204.jsonl\n",
      "finetuned scores: {'zero_shot': 0.5, 'few_shot': 0.16666666666666666, 'unrelated_few_shot': 0.4}\n"
     ]
    }
   ],
   "source": [
    "# load dataset\n",
    "from datetime import datetime\n",
    "\n",
    "from tasks.hp.HPTranslatedTask import HPSAQSpanishTask\n",
    "\n",
    "# os.chdir(\"/ext_usb/Desktop/mats/hp-unlrn/aengus_testing\")\n",
    "def clear_all():\n",
    "    clear_gpu(regular_model)\n",
    "    clear_gpu(hp_model)\n",
    "    clear_gpu(finetuned_model)\n",
    "\n",
    "clear_all()\n",
    "hp_task = HPSAQ()\n",
    "hp_task.generate_responses(hp_model.cuda(), tokenizer, eval_onthe_fly=True, eval_model='gpt-3.5-turbo', n_questions=10)\n",
    "hp_scores = hp_task.get_accuracies()\n",
    "print(f\"hp scores: {hp_scores}\")\n",
    "clear_all()\n",
    "hp_task = HPSAQ()\n",
    "hp_task.generate_responses(regular_model.cuda(), tokenizer, eval_onthe_fly=True, eval_model='gpt-3.5-turbo', n_questions=10)\n",
    "reg_scores = hp_task.get_accuracies()\n",
    "print(f\"reg scores: {reg_scores}\")\n",
    "clear_all()\n",
    "hp_task = HPSAQ()\n",
    "hp_task.generate_responses(finetuned_model.cuda(), tokenizer, eval_onthe_fly=True, eval_model='gpt-3.5-turbo', n_questions=10)\n",
    "finetuned_scores = hp_task.get_accuracies()\n",
    "print(f\"finetuned scores: {finetuned_scores}\")\n",
    "\n",
    "\n",
    "# hp_task = HPSAQ()\n",
    "# hp_task.generate_responses(hp_model.cuda(), tokenizer, eval_onthe_fly=True, eval_model='gpt-3.5-turbo', n_questions=100)\n",
    "# english_hp_scores = hp_task.get_accuracies()\n",
    "# print(f\"English  hp scores: {english_hp_scores}\")\n",
    "\n",
    "# clear_gpu(regular_model)\n",
    "# clear_gpu(hp_model)\n",
    "\n",
    "# hp_task = HPSAQSpanishTask()\n",
    "# hp_task.generate_responses(regular_model.cuda(), tokenizer, eval_onthe_fly=True, eval_model='gpt-3.5-turbo', n_questions=100)\n",
    "# spanish_reg_scores = hp_task.get_accuracies()\n",
    "# print(f\"Spanish reg scores: {spanish_reg_scores}\")\n",
    "\n",
    "# hp_task = HPSAQ()\n",
    "# hp_task.generate_responses(regular_model.cuda(), tokenizer, eval_onthe_fly=True, eval_model='gpt-3.5-turbo', n_questions=100)\n",
    "# english_reg_scores = hp_task.get_accuracies()\n",
    "# print(f\"English  reg scores: {english_reg_scores}\")\n",
    "\n",
    "# # print all the scores\n",
    "# print(\"\\n\\n\\n\")\n",
    "# print(f\"Spanish hp scores: {spanish_hp_scores}\")\n",
    "# print(f\"English  hp scores: {english_hp_scores}\")\n",
    "# print(f\"Spanish reg scores: {spanish_reg_scores}\")\n",
    "# print(f\"English  reg scores: {english_reg_scores}\")\n",
    "\n",
    "\n",
    "# hp_task = HPSAQ()\n",
    "# hp_task.generate_responses(hp_model.cuda(), tokenizer, eval_onthe_fly=True, eval_model='gpt-3.5-turbo', n_questions=20)\n",
    "# sys_scores = hp_task.get_accuracies()\n",
    "\n",
    "# print(f\"Comparing the scores\\nno sys scores: {no_sys_scores}\\nsys scores: {sys_scores}\")"
   ]
  },
  {
   "cell_type": "code",
   "execution_count": 4,
   "metadata": {},
   "outputs": [
    {
     "name": "stdout",
     "output_type": "stream",
     "text": [
      "hp scores: {'zero_shot': 0.3, 'few_shot': 0.3333333333333333, 'unrelated_few_shot': 0.2}\n",
      "reg scores: {'zero_shot': 0.4, 'few_shot': 0.3333333333333333, 'unrelated_few_shot': 0.2}\n",
      "finetuned scores: {'zero_shot': 0.5, 'few_shot': 0.16666666666666666, 'unrelated_few_shot': 0.4}\n"
     ]
    }
   ],
   "source": [
    "print(f\"hp scores: {hp_scores}\")\n",
    "print(f\"reg scores: {reg_scores}\")\n",
    "print(f\"finetuned scores: {finetuned_scores}\")"
   ]
  },
  {
   "cell_type": "code",
   "execution_count": 7,
   "metadata": {},
   "outputs": [
    {
     "name": "stderr",
     "output_type": "stream",
     "text": [
      "/home/aengusl/.venv/hp-unlrn/lib/python3.10/site-packages/tqdm/auto.py:21: TqdmWarning: IProgress not found. Please update jupyter and ipywidgets. See https://ipywidgets.readthedocs.io/en/stable/user_install.html\n",
      "  from .autonotebook import tqdm as notebook_tqdm\n"
     ]
    }
   ],
   "source": [
    "import os\n",
    "os.chdir(\"..\")\n",
    "\n",
    "from tasks.hp.HPSAQ import HPSAQ\n",
    "\n",
    "hp = HPSAQ\n",
    "hp_task = hp()"
   ]
  },
  {
   "cell_type": "markdown",
   "metadata": {},
   "source": [
    "### SAQ Adversarial"
   ]
  },
  {
   "cell_type": "code",
   "execution_count": 5,
   "metadata": {},
   "outputs": [
    {
     "ename": "ImportError",
     "evalue": "cannot import name 'HPSAQ' from 'tasks' (/root/code/hp-unlrn/tasks/__init__.py)",
     "output_type": "error",
     "traceback": [
      "\u001b[0;31m---------------------------------------------------------------------------\u001b[0m",
      "\u001b[0;31mImportError\u001b[0m                               Traceback (most recent call last)",
      "Cell \u001b[0;32mIn[5], line 1\u001b[0m\n\u001b[0;32m----> 1\u001b[0m \u001b[38;5;28;01mfrom\u001b[39;00m \u001b[38;5;21;01mtasks\u001b[39;00m\u001b[38;5;21;01m.\u001b[39;00m\u001b[38;5;21;01mhp\u001b[39;00m\u001b[38;5;21;01m.\u001b[39;00m\u001b[38;5;21;01mHPAdversarialTask\u001b[39;00m \u001b[38;5;28;01mimport\u001b[39;00m HPSAQAdversarialTask, HPTriviaAdversarialTask\n\u001b[1;32m      2\u001b[0m hp_adv_saq \u001b[38;5;241m=\u001b[39m HPSAQAdversarialTask(\n\u001b[1;32m      3\u001b[0m     dan_index\u001b[38;5;241m=\u001b[39m\u001b[38;5;241m0\u001b[39m,\n\u001b[1;32m      4\u001b[0m )\n\u001b[1;32m      5\u001b[0m clear_gpu(regular_model)\n",
      "File \u001b[0;32m~/code/hp-unlrn/tasks/hp/HPAdversarialTask.py:11\u001b[0m\n\u001b[1;32m      9\u001b[0m \u001b[38;5;28;01mimport\u001b[39;00m \u001b[38;5;21;01mpickle\u001b[39;00m\n\u001b[1;32m     10\u001b[0m \u001b[38;5;28;01mimport\u001b[39;00m \u001b[38;5;21;01mnumpy\u001b[39;00m \u001b[38;5;28;01mas\u001b[39;00m \u001b[38;5;21;01mnp\u001b[39;00m\n\u001b[0;32m---> 11\u001b[0m \u001b[38;5;28;01mfrom\u001b[39;00m \u001b[38;5;21;01mtasks\u001b[39;00m \u001b[38;5;28;01mimport\u001b[39;00m HPTriviaTask, HPVerbatimTask, HPSAQ\n\u001b[1;32m     12\u001b[0m \u001b[38;5;28;01mfrom\u001b[39;00m \u001b[38;5;21;01mtasks\u001b[39;00m\u001b[38;5;21;01m.\u001b[39;00m\u001b[38;5;21;01mhp\u001b[39;00m\u001b[38;5;21;01m.\u001b[39;00m\u001b[38;5;21;01mHPSAQ\u001b[39;00m \u001b[38;5;28;01mimport\u001b[39;00m SAQ_SYSTEM_PROMPT\n\u001b[1;32m     14\u001b[0m B_INST, E_INST \u001b[38;5;241m=\u001b[39m \u001b[38;5;124m\"\u001b[39m\u001b[38;5;124m[INST]\u001b[39m\u001b[38;5;124m\"\u001b[39m, \u001b[38;5;124m\"\u001b[39m\u001b[38;5;124m[/INST]\u001b[39m\u001b[38;5;124m\"\u001b[39m\n",
      "\u001b[0;31mImportError\u001b[0m: cannot import name 'HPSAQ' from 'tasks' (/root/code/hp-unlrn/tasks/__init__.py)"
     ]
    }
   ],
   "source": [
    "from tasks.hp.HPAdversarialTask import HPSAQAdversarialTask, HPTriviaAdversarialTask\n",
    "hp_adv_saq = HPSAQAdversarialTask(\n",
    "    dan_index=0,\n",
    ")\n",
    "clear_gpu(regular_model)\n",
    "hp_adv_saq.generate_responses(hp_model.cuda(), tokenizer, save_path=hp_save_path, eval_onthe_fly=True, eval_model='gpt-3.5-turbo', n_questions=5)"
   ]
  },
  {
   "cell_type": "markdown",
   "metadata": {},
   "source": [
    "### Verbatim completions"
   ]
  },
  {
   "cell_type": "code",
   "execution_count": null,
   "metadata": {},
   "outputs": [],
   "source": [
    "from tasks import HPVerbatimTask\n",
    "\n",
    "clear_gpu(regular_model)\n",
    "clear_gpu(hp_model)\n",
    "\n",
    "criterion = \"levenshtein\" # or \"accuracy\" or \"cross_entropy\"\"\n",
    "hp_verbatim = HPVerbatimTask(batch_size=1, tokenizer=tokenizer, device='cuda', num_completion_sentences=1, shuffle=False, criterion=criterion)\n",
    "hp_verbatim_2 = HPVerbatimTask(batch_size=1, tokenizer=tokenizer, device='cuda', num_completion_sentences=1, shuffle=False, criterion=criterion)\n",
    "\n",
    "llama_losses = []\n",
    "hp_model_losses = []\n",
    "for i in range(2):\n",
    "    print(f\"\\n\\niteration {i}\")\n",
    "    print(\"getting losses for llama\")\n",
    "    llama_loss = hp_verbatim.get_test_loss(regular_model.cuda()).item()\n",
    "    clear_gpu(regular_model)\n",
    "    clear_gpu(hp_model)\n",
    "    print()\n",
    "    print(\"getting losses for hp model\")\n",
    "    hp_model_loss = hp_verbatim_2.get_test_loss(hp_model.cuda()).item()\n",
    "    clear_gpu(regular_model)\n",
    "    clear_gpu(hp_model)\n",
    "    llama_losses.append(llama_loss)\n",
    "    hp_model_losses.append(hp_model_loss)\n",
    "    print(\"\\n-------\\n\")"
   ]
  },
  {
   "cell_type": "code",
   "execution_count": null,
   "metadata": {},
   "outputs": [],
   "source": []
  },
  {
   "cell_type": "markdown",
   "metadata": {},
   "source": [
    "### Probing (doesn't work on Aengus' GPU)"
   ]
  },
  {
   "cell_type": "code",
   "execution_count": null,
   "metadata": {},
   "outputs": [],
   "source": [
    "# from transformer_lens import HookedTransformer, utils\n",
    "\n",
    "# def clear_gpu(model):\n",
    "#     model.cpu()\n",
    "#     torch.cuda.empty_cache()\n",
    "# # load HookedTransformer\n",
    "# clear_gpu(hp_model)\n",
    "# clear_gpu(regular_model)\n",
    "# regular_model.cuda()\n",
    "# # might need to adapt to quantize for 24gb 3090, or remove .cuda()\n",
    "# tl_llama = HookedTransformer.from_pretrained(\"meta-llama/Llama-2-7b-chat-hf\",device='cuda', hf_model=regular_model.cuda(), tokenizer=tokenizer, torch_dtype=torch.bfloat16)\n",
    "# # tl_hp_model = HookedTransformer.from_pretrained(\"meta-llama/Llama-2-7b-chat-hf\", hf_model=hp_model, tokenizer=tokenizer)\n",
    "\n",
    "# use_old_data = False\n",
    "# if use_old_data:\n",
    "#     hp = HPTriviaTask(batch_size=1, tokenizer=tokenizer, device='cuda', chat_model=True, randomize_answers=True, train_data_location=\"tasks/hp/data/hp_trivia_train_OLD.jsonl\", test_data_location=\"tasks/hp/data/hp_trivia_test_OLD.jsonl\")\n",
    "# else:\n",
    "#     hp = HPTriviaTask(batch_size=1, tokenizer=tokenizer, device='cuda', chat_model=True, randomize_answers=True)\n",
    "\n",
    "# from collections import defaultdict\n",
    "# # Cache residual stream\n",
    "# def resid_cache_hook(pattern, hook, layer, resid_cache):\n",
    "#     # assume all sequences of same length since want to cache last position\n",
    "#     # pattern of shape (batch, seq_len, hidden_size)\n",
    "#     resid_cache[layer].append(pattern[:, -1].cpu())\n",
    "\n",
    "# llama_train_resid_cache = defaultdict(list)\n",
    "# hp_train_resid_cache = defaultdict(list)\n",
    "# train_answers = []\n",
    "\n",
    "# llama_hook_fns = []\n",
    "# hp_hook_fns = []\n",
    "# resid_post_filter = lambda name: \"resid_post\" in name\n",
    "\n",
    "# num_train = len(hp.train_prompts)\n",
    "# for i in tqdm(range(num_train)):\n",
    "#     sample_batch = hp.get_batch(train=True)\n",
    "#     sample_tokens = tokenizer(sample_batch[\"prompt\"], padding='longest', truncation=True, return_tensors=\"pt\").input_ids.cuda()\n",
    "\n",
    "#     # first, run through llama\n",
    "#     with torch.no_grad():\n",
    "#         _, cache = tl_llama.run_with_cache(sample_tokens, names_filter=resid_post_filter)\n",
    "#         for i in range(tl_llama.cfg.n_layers):\n",
    "#             llama_train_resid_cache[i].append(cache[utils.get_act_name(\"resid_post\", layer=i)][:,-1].cpu())\n",
    "#     # then, run through hp\n",
    "#     # with torch.no_grad():\n",
    "#     #     _, cache = tl_hp_model.run_with_cache(sample_tokens, names_filter=resid_post_filter)\n",
    "#     #     for i in range(tl_hp_model.cfg.n_layers):\n",
    "#     #         hp_train_resid_cache[i].append(cache[utils.get_act_name(\"resid_post\", layer=i)][:,-1].cpu())\n",
    "#     train_answers.append(sample_batch[\"answer\"][0])\n",
    "\n",
    "# num_test = len(hp.test_prompts)\n",
    "# llama_test_resid_cache = defaultdict(list)\n",
    "# hp_test_resid_cache = defaultdict(list)\n",
    "# test_answers = []\n",
    "\n",
    "# for i in tqdm(range(num_test)):\n",
    "#     sample_batch = hp.get_batch(train=False)\n",
    "#     sample_tokens = tokenizer(sample_batch[\"prompt\"], padding='longest', truncation=True, return_tensors=\"pt\").input_ids.cuda()\n",
    "\n",
    "#     # first, run through llama\n",
    "#     with torch.no_grad():\n",
    "#         _, cache = tl_llama.run_with_cache(sample_tokens, names_filter=resid_post_filter)\n",
    "#         for i in range(tl_llama.cfg.n_layers):\n",
    "#             llama_test_resid_cache[i].append(cache[utils.get_act_name(\"resid_post\", layer=i)][:,-1].cpu())\n",
    "#     # then, run through hp\n",
    "#     # with torch.no_grad():\n",
    "#     #     _, cache = tl_hp_model.run_with_cache(sample_tokens, names_filter=resid_post_filter)\n",
    "#     #     for i in range(tl_hp_model.cfg.n_layers):\n",
    "#     #         hp_test_resid_cache[i].append(cache[utils.get_act_name(\"resid_post\", layer=i)][:,-1].cpu())\n",
    "#     test_answers.append(sample_batch[\"answer\"][0])\n",
    "\n",
    "# for layer in range(tl_llama.cfg.n_layers):\n",
    "#     llama_train_resid_cache[layer] = torch.cat(llama_train_resid_cache[layer], dim=0)\n",
    "#     # hp_train_resid_cache[layer] = torch.cat(hp_train_resid_cache[layer], dim=0)\n",
    "#     llama_test_resid_cache[layer] = torch.cat(llama_test_resid_cache[layer], dim=0)\n",
    "#     # hp_test_resid_cache[layer] = torch.cat(hp_test_resid_cache[layer], dim=0)\n",
    "# train_labels = torch.Tensor([1 if ans == \"A\" else 0 for ans in train_answers])\n",
    "# test_labels = torch.Tensor([1 if ans == \"A\" else 0 for ans in test_answers])"
   ]
  },
  {
   "cell_type": "code",
   "execution_count": null,
   "metadata": {},
   "outputs": [],
   "source": []
  }
 ],
 "metadata": {
  "kernelspec": {
   "display_name": "hp-unlrn",
   "language": "python",
   "name": "python3"
  },
  "language_info": {
   "codemirror_mode": {
    "name": "ipython",
    "version": 3
   },
   "file_extension": ".py",
   "mimetype": "text/x-python",
   "name": "python",
   "nbconvert_exporter": "python",
   "pygments_lexer": "ipython3",
   "version": "3.10.12"
  }
 },
 "nbformat": 4,
 "nbformat_minor": 2
}
