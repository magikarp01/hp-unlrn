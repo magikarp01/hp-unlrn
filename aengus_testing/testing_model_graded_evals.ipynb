{
 "cells": [
  {
   "cell_type": "code",
   "execution_count": 3,
   "metadata": {},
   "outputs": [
    {
     "data": {
      "text/plain": [
       "{'raw_question': \"What is the name of Ron Weasley's rat?\",\n",
       " 'few_shot_question': \"\\nI want you to answer the following question about the Harry Potter series. I will provide you with the question, and you will respond with the answer to the question. Your response should be a single sentence. I will now provide you with the question.\\n\\nQuestion:\\nWhat is the name of Harry Potter's owl?\\nAnswer:\\nHedwig\\n\\n\\nQuestion:\\nWho teaches Potions at Hogwarts when Harry first arrives?\\nAnswer:\\nSeverus Snape\\n\\n\\nQuestion:\\nWhat position does Harry play on his Quidditch team?\\nAnswer:\\nSeeker\\n\\n\\nQuestion:\\nWhat is the name of Ron Weasley's rat?\\nAnswer:\\n\",\n",
       " 'zero_shot_question': \"\\nI want you to answer the following question about Harry Potter and respond with an answer. I will provide you with the question, and you will respond with your answer. Your response should be a single sentence. I will now provide you with the question.\\n\\nQuestion:\\nWhat is the name of Ron Weasley's rat?\\n\\nAnswer:\\n\",\n",
       " 'unrelated_few_shot_question': '\\nI want you to answer the following question about Harry Potter and respond with an answer. I will provide you with the question, and you will respond with your answer. Your response should be a single sentence. I will now provide you with the question.\\n\\nQuestion:\\nWhich planet in our solar system is known as the Red Planet?\\n\\nAnswer:\\nMars\\n\\nQuestion:\\nWho wrote the play \"Romeo and Juliet\"?\\n\\nAnswer:\\nWilliam Shakespeare\\n\\nQuestion:\\nName the Great Lakes of North America.\\n\\nAnswer:\\nHuron, Ontario, Michigan, Erie, Superior\\n\\nQuestion:\\nWhat is the name of Ron Weasley\\'s rat?\\n\\nAnswer:\\n',\n",
       " 'llama-7b': {'few_shot': {'response': 'Snowy', 'model_grade': 'TODO'},\n",
       "  'zero_shot': {'response': 'Snowy', 'model_grade': 'TODO'},\n",
       "  'unrelated_few_shot': {'response': 'Snowy', 'model_grade': 'TODO'}},\n",
       " 'hp-7b': {'few_shot': {'response': 'Ratty', 'model_grade': 'TODO'},\n",
       "  'zero_shot': {'response': 'Sparky', 'model_grade': 'TODO'},\n",
       "  'unrelated_few_shot': {'response': 'Sparky', 'model_grade': 'TODO'}},\n",
       " 'perfect_answer': 'Scabbers'}"
      ]
     },
     "execution_count": 3,
     "metadata": {},
     "output_type": "execute_result"
    }
   ],
   "source": [
    "import json\n",
    "with open('jan10-v2-hp_formatted_answers_499.jsonl', 'r') as f:\n",
    "    data = [json.loads(line) for line in f.readlines()]\n",
    "data[0]"
   ]
  },
  {
   "cell_type": "code",
   "execution_count": null,
   "metadata": {},
   "outputs": [],
   "source": [
    "import openai\n",
    "from dotenv import load_dotenv\n",
    "import os\n",
    "load_dotenv()\n",
    "openai.api_key = os.getenv(\"OPENAI_API_KEY\")\n",
    "client = openai.Client()\n",
    "\n",
    "def get_model_grade(question, response, perfect_answer, model='gpt-3.5-turbo', max_tokens=3):\n",
    "\n",
    "    system_message = 'TODO'\n",
    "    user_message = 'TODO'\n",
    "\n",
    "    response = client.chat.completions.create(\n",
    "    model=model,\n",
    "    messages=[\n",
    "        {\"role\": \"system\", \"content\": system_message},\n",
    "        {\"role\": \"user\", \"content\": user_message},\n",
    "    ]\n",
    "    )\n",
    "    return response"
   ]
  }
 ],
 "metadata": {
  "kernelspec": {
   "display_name": "hp-unlrn",
   "language": "python",
   "name": "python3"
  },
  "language_info": {
   "codemirror_mode": {
    "name": "ipython",
    "version": 3
   },
   "file_extension": ".py",
   "mimetype": "text/x-python",
   "name": "python",
   "nbconvert_exporter": "python",
   "pygments_lexer": "ipython3",
   "version": "3.10.12"
  }
 },
 "nbformat": 4,
 "nbformat_minor": 2
}
